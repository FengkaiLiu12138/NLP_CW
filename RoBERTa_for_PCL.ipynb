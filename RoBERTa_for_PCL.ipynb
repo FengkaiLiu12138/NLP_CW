{
 "cells": [
  {
   "metadata": {
    "ExecuteTime": {
     "end_time": "2025-03-01T21:55:40.190064Z",
     "start_time": "2025-03-01T21:55:36.636258Z"
    }
   },
   "cell_type": "code",
   "source": [
    "from doctest import testsource\n",
    "\n",
    "import pandas as pd\n",
    "import numpy as np\n",
    "import random, copy\n",
    "import torch\n",
    "import torch.nn as nn\n",
    "from torch import no_grad\n",
    "from torch.utils.data import DataLoader, TensorDataset\n",
    "from transformers import AutoTokenizer, AutoModelForSequenceClassification, get_linear_schedule_with_warmup, \\\n",
    "    pipeline\n",
    "from torch.optim import AdamW\n",
    "from sklearn.metrics import f1_score\n",
    "from sklearn.utils import resample\n",
    "import nltk\n",
    "from nltk.corpus import wordnet, stopwords\n",
    "from transformers import logging\n",
    "import matplotlib.pyplot as plt\n",
    "import os\n",
    "\n",
    "logging.set_verbosity_error()\n",
    "\n",
    "# Download NLTK data (WordNet for synonyms, stopwords list)\n",
    "nltk.download('wordnet')\n",
    "nltk.download('stopwords')\n",
    "# Data augmentation: Synonym Replacement\n",
    "stop_words = set(stopwords.words('english'))\n",
    "\n",
    "device = torch.device('cuda' if torch.cuda.is_available() else 'cpu')\n",
    "print(f\"Using device: {device}\")"
   ],
   "id": "7c8d05df71dcd89c",
   "outputs": [
    {
     "name": "stdout",
     "output_type": "stream",
     "text": [
      "Using device: cuda\n"
     ]
    },
    {
     "name": "stderr",
     "output_type": "stream",
     "text": [
      "[nltk_data] Downloading package wordnet to\n",
      "[nltk_data]     C:\\Users\\yiqin\\AppData\\Roaming\\nltk_data...\n",
      "[nltk_data]   Package wordnet is already up-to-date!\n",
      "[nltk_data] Downloading package stopwords to\n",
      "[nltk_data]     C:\\Users\\yiqin\\AppData\\Roaming\\nltk_data...\n",
      "[nltk_data]   Package stopwords is already up-to-date!\n"
     ]
    }
   ],
   "execution_count": 1
  },
  {
   "metadata": {},
   "cell_type": "markdown",
   "source": [
    "### Load and explore the dataset\n",
    "We load the data and analyze the distribution of labels, paragraph lengths, and label distributions per keyword and country. We also examine some examples of patronizing paragraphs, especially those with label 4 (highly patronizing)."
   ],
   "id": "a02ba5e24eb0d271"
  },
  {
   "metadata": {
    "ExecuteTime": {
     "end_time": "2025-03-01T21:55:40.300797Z",
     "start_time": "2025-03-01T21:55:40.266072Z"
    }
   },
   "cell_type": "code",
   "source": [
    "df = pd.read_csv('./data/dontpatronizeme_pcl.tsv', sep='\\t', header=None,\n",
    "                 names=[\"par_id\", \"art_id\", \"keyword\", \"country\", \"paragraph\", \"orig_label\"], skiprows=4)\n",
    "df['label'] = df['orig_label'].apply(lambda x: 1 if x >= 2 else 0)\n",
    "\n",
    "df.info"
   ],
   "id": "3c877c4330cce04",
   "outputs": [
    {
     "data": {
      "text/plain": [
       "<bound method DataFrame.info of        par_id      art_id     keyword country  \\\n",
       "0           1  @@24942188    hopeless      ph   \n",
       "1           2  @@21968160     migrant      gh   \n",
       "2           3  @@16584954   immigrant      ie   \n",
       "3           4   @@7811231    disabled      nz   \n",
       "4           5   @@1494111     refugee      ca   \n",
       "...       ...         ...         ...     ...   \n",
       "10464   10465  @@14297363       women      lk   \n",
       "10465   10466  @@70091353  vulnerable      ph   \n",
       "10466   10467  @@20282330     in-need      ng   \n",
       "10467   10468  @@16753236    hopeless      in   \n",
       "10468   10469  @@16779383    homeless      ie   \n",
       "\n",
       "                                               paragraph  orig_label  label  \n",
       "0      We 're living in times of absolute insanity , ...           0      0  \n",
       "1      In Libya today , there are countless number of...           0      0  \n",
       "2      White House press secretary Sean Spicer said t...           0      0  \n",
       "3      Council customers only signs would be displaye...           0      0  \n",
       "4      \" Just like we received migrants fleeing El Sa...           0      0  \n",
       "...                                                  ...         ...    ...  \n",
       "10464  Sri Lankan norms and culture inhibit women fro...           1      0  \n",
       "10465  He added that the AFP will continue to bank on...           0      0  \n",
       "10466  \" She has one huge platform , and information ...           3      1  \n",
       "10467  \" Anja Ringgren Loven I ca n't find a word to ...           4      1  \n",
       "10468  \" Guinness World Record of 540lbs of 7-layer m...           3      1  \n",
       "\n",
       "[10469 rows x 7 columns]>"
      ]
     },
     "execution_count": 2,
     "metadata": {},
     "output_type": "execute_result"
    }
   ],
   "execution_count": 2
  },
  {
   "metadata": {
    "ExecuteTime": {
     "end_time": "2025-03-01T21:55:42.161993Z",
     "start_time": "2025-03-01T21:55:42.086647Z"
    }
   },
   "cell_type": "code",
   "source": [
    "\n",
    "# Distribution of original 5 labels (0–4)\n",
    "label_counts = df[\"orig_label\"].value_counts().sort_index()\n",
    "print(label_counts)\n",
    "\n",
    "# Plot distribution\n",
    "fig, ax = plt.subplots()\n",
    "label_counts.plot(kind=\"bar\", ax=ax, title=\"Label Distribution (0-4)\")\n",
    "ax.set_xlabel(\"Label\")\n",
    "ax.set_ylabel(\"Count\")\n",
    "\n",
    "for p in ax.patches:\n",
    "    ax.annotate(\n",
    "        str(int(p.get_height())),\n",
    "        xy=(p.get_x() + p.get_width() / 2., p.get_height()),\n",
    "        xytext=(0, 3),\n",
    "        textcoords=\"offset points\",\n",
    "        ha='center', va='bottom'\n",
    "    )\n",
    "\n",
    "plt.show()\n",
    "\n",
    "# Convert to binary (0,1), i.e. labels >=2 are PCL\n",
    "binary_counts = df[\"label\"].value_counts()\n",
    "print(\"Binary distribution:\\n\", binary_counts)"
   ],
   "id": "738be0855250c9ac",
   "outputs": [
    {
     "name": "stdout",
     "output_type": "stream",
     "text": [
      "orig_label\n",
      "0    8529\n",
      "1     947\n",
      "2     144\n",
      "3     458\n",
      "4     391\n",
      "Name: count, dtype: int64\n"
     ]
    },
    {
     "data": {
      "text/plain": [
       "<Figure size 640x480 with 1 Axes>"
      ],
      "image/png": "[encoded data removed]"
     },
     "metadata": {},
     "output_type": "display_data"
    },
    {
     "name": "stdout",
     "output_type": "stream",
     "text": [
      "Binary distribution:\n",
      " label\n",
      "0    9476\n",
      "1     993\n",
      "Name: count, dtype: int64\n"
     ]
    }
   ],
   "execution_count": 3
  },
  {
   "metadata": {
    "ExecuteTime": {
     "end_time": "2025-03-01T21:55:44.770952Z",
     "start_time": "2025-03-01T21:55:44.685325Z"
    }
   },
   "cell_type": "code",
   "source": [
    "df[\"str_paragraph\"] = df[\"paragraph\"].astype(str).fillna(\"\")\n",
    "\n",
    "\n",
    "df[\"para_length\"] = df[\"str_paragraph\"].apply(lambda x: len(x.split()))\n",
    "# Group by label, compute mean or median paragraph length\n",
    "length_by_label = df.groupby(\"orig_label\")[\"para_length\"].mean()\n",
    "print(\"Average paragraph length by label:\\n\", length_by_label)\n",
    "\n",
    "import seaborn as sns\n",
    "\n",
    "sns.boxplot(x=\"orig_label\", y=\"para_length\", data=df)\n",
    "plt.title(\"Paragraph Length Distribution by Label\")\n",
    "plt.show()\n",
    "\n",
    "# # Plot length distributions\n",
    "# fig, ax = plt.subplots(1, 1, figsize=(10, 6))\n",
    "# length_by_label.plot(kind=\"bar\", ax=ax, title=\"Paragraph Length Distribution by Label\")\n",
    "# ax.set_xlabel(\"Label\")\n",
    "# ax.set_ylabel(\"Paragraph Length\")\n",
    "#\n",
    "# for p in ax.patches:\n",
    "#     ax.annotate(\n",
    "#         str(int(p.get_height())),\n",
    "#         xy=(p.get_x() + p.get_width() / 2., p.get_height()),\n",
    "#         xytext=(0, 3),\n",
    "#         textcoords=\"offset points\",\n",
    "#         ha='center', va='bottom'\n",
    "#     )\n",
    "#\n",
    "# plt.show()\n"
   ],
   "id": "3b837dd44a8099",
   "outputs": [
    {
     "name": "stdout",
     "output_type": "stream",
     "text": [
      "Average paragraph length by label:\n",
      " orig_label\n",
      "0    47.418103\n",
      "1    52.019007\n",
      "2    49.104167\n",
      "3    51.556769\n",
      "4    57.700767\n",
      "Name: para_length, dtype: float64\n"
     ]
    },
    {
     "data": {
      "text/plain": [
       "<Figure size 640x480 with 1 Axes>"
      ],
      "image/png": "[encoded data removed]"
     },
     "metadata": {},
     "output_type": "display_data"
    }
   ],
   "execution_count": 4
  },
  {
   "metadata": {
    "ExecuteTime": {
     "end_time": "2025-03-01T21:55:47.350270Z",
     "start_time": "2025-03-01T21:55:47.006692Z"
    }
   },
   "cell_type": "code",
   "source": [
    "pd.crosstab(df[\"keyword\"], df[\"orig_label\"]).plot(kind=\"bar\", stacked=True, figsize=(10,6))\n",
    "plt.title(\"Label distribution per keyword\")\n",
    "plt.ylabel(\"Count\")\n",
    "plt.show()\n",
    "\n",
    "pd.crosstab(df[\"country\"], df[\"orig_label\"]).plot(kind=\"bar\", stacked=True, figsize=(10,6))\n",
    "plt.title(\"Label distribution per country\")\n",
    "plt.ylabel(\"Count\")\n",
    "plt.show()"
   ],
   "id": "bbfd84c30d789d00",
   "outputs": [
    {
     "data": {
      "text/plain": [
       "<Figure size 1000x600 with 1 Axes>"
      ],
      "image/png": "[encoded data removed]"
     },
     "metadata": {},
     "output_type": "display_data"
    },
    {
     "data": {
      "text/plain": [
       "<Figure size 1000x600 with 1 Axes>"
      ],
      "image/png": "[encoded data removed]"
     },
     "metadata": {},
     "output_type": "display_data"
    }
   ],
   "execution_count": 5
  },
  {
   "metadata": {
    "ExecuteTime": {
     "end_time": "2025-03-01T21:55:50.641243Z",
     "start_time": "2025-03-01T21:55:50.634542Z"
    }
   },
   "cell_type": "code",
   "source": [
    "import random\n",
    "\n",
    "for lbl in [0,1,2,3,4]:\n",
    "    subset = df[df[\"orig_label\"] == lbl]\n",
    "    example = subset.sample(1, random_state=10)\n",
    "    print(f\"\\nLabel {lbl} example:\")\n",
    "    print(example[\"paragraph\"].values[0], \"\\n\")\n",
    "\n",
    "# Note: The data was annotated by multiple annotators (leading to 0–4 labels). Observing paragraphs with label=1 or label=2 often reveals partial disagreements or borderline cases.\n",
    "# Examine paragraphs that were assigned label 4 (highly patronizing). Are they obviously condescending or do they also have borderline tones?\n"
   ],
   "id": "c4897e9bceedcc4b",
   "outputs": [
    {
     "name": "stdout",
     "output_type": "stream",
     "text": [
      "\n",
      "Label 0 example:\n",
      "It was time and again mentioned that Pakistan Squash Federation ( PSF ) must wake up from deep slump and pay proper attention towards women squash , but no heed was paid and the result is evident that except Canadian-based Pakistani Maria , all women squash players were thrown out of the event . The PSF must start work on female squash promotion on war footings , or else just ask females to forget about playing international squash . \n",
      "\n",
      "\n",
      "Label 1 example:\n",
      "The first time MP , who is a holder of Bachelor in Medicine and Bachelor in Surgery from the University of Nairobi , has in the past decried how women often shun disabled man . He is also on record for paying tribute to his wife , a nurse , for taking care of him all though . \n",
      "\n",
      "\n",
      "Label 2 example:\n",
      "\" A mass protest was held in Jaffna at 3 p.m. yesterday against Tamil Nadu politicians Thol . Thiruvmavalavan , T. Velmurugan and Y. Gopalaswamy , who prevented the superstar of Tamil cinema , Rajinikanth , visiting Jaffna to hand-over the keys of 150 houses , built by Lyca , ( a private firm based in London ) to homeless people who had been affected by the separatist war . \" \n",
      "\n",
      "\n",
      "Label 3 example:\n",
      "If in addition ' miracles ' can be orchestrated then the acceptance and reverence become total . In a country where statistics state that unemployment is about 25 per cent but we know it is more like 70 per cent , where the next meal will come from is unpredictable and on a daily basis time just passes by ; it is not far-fetched for women to become prayer warriors for their children , husbands and siblings and are made to blame whatever is happening not on policies of the government but on the machinations of the devil . \n",
      "\n",
      "\n",
      "Label 4 example:\n",
      "There were also many larger events which took place , including a 24-hour long period of Eucharistic adoration and a prayer vigil . Additionally , \" jubilees \" were held which centered on , among others , the sick and disabled , catechists , teenagers , deacons , priests , religious , volunteers of mercy , and most recently , the poor and homeless . \n",
      "\n"
     ]
    }
   ],
   "execution_count": 6
  },
  {
   "metadata": {},
   "cell_type": "markdown",
   "source": [
    "The result shows that the data set is highly imbalanced, with the majority of paragraphs labeled as 0 (not patronizing) and only a small fraction labeled as 1 (patronizing). The average paragraph length is similar across labels.\n",
    "\n",
    "### Data Augmentation and Balancing\n",
    "We will augment the training data by applying two techniques: synonym replacement and back-translation. Synonym replacement replaces words in the text with synonyms, while back-translation translates the text to another language and back to the original language. These techniques can help improve model generalization and robustness."
   ],
   "id": "91d522c806d72760"
  },
  {
   "metadata": {
    "ExecuteTime": {
     "end_time": "2025-03-01T21:55:55.164623Z",
     "start_time": "2025-03-01T21:55:52.700728Z"
    }
   },
   "cell_type": "code",
   "source": [
    "# Set random seeds for reproducibility\n",
    "def set_seed(seed):\n",
    "    random.seed(seed)\n",
    "    np.random.seed(seed)\n",
    "    torch.manual_seed(seed)\n",
    "    torch.cuda.manual_seed_all(seed)\n",
    "\n",
    "def synonym_replacement(sentence, n=1):\n",
    "    words = sentence.split()\n",
    "    new_words = words.copy()\n",
    "    # Identify candidate words (non-stopwords, alphabetic only)\n",
    "    candidates = [i for i, w in enumerate(words) if w.lower() not in stop_words and w.isalpha()]\n",
    "    random.shuffle(candidates)\n",
    "    replaced = 0\n",
    "    for idx in candidates:\n",
    "        if replaced >= n:\n",
    "            break\n",
    "        synonyms = set()\n",
    "        for syn in wordnet.synsets(words[idx]):\n",
    "            for lemma in syn.lemmas():\n",
    "                if lemma.name().lower() != words[idx].lower():\n",
    "                    synonyms.add(lemma.name().replace('_', ' '))\n",
    "        if synonyms:\n",
    "            new_words[idx] = random.choice(list(synonyms))\n",
    "            replaced += 1\n",
    "    return \" \".join(new_words)\n",
    "\n",
    "translator_en_to_es = pipeline(\"translation_en_to_es\", model=\"Helsinki-NLP/opus-mt-en-es\", device=-1)\n",
    "translator_es_to_en = pipeline(\"translation_es_to_en\", model=\"Helsinki-NLP/opus-mt-es-en\", device=-1)\n",
    "\n",
    "def back_translate(sentence):\n",
    "    try:\n",
    "        es_text = translator_en_to_es(sentence, max_length=MAX_LENGTH)[0]['translation_text']\n",
    "        back_text = translator_es_to_en(es_text, max_length=MAX_LENGTH)[0]['translation_text']\n",
    "        return back_text\n",
    "    except Exception as e:\n",
    "        return sentence  # fallback to original if translation fails\n",
    "\n",
    "\n",
    "# Augment training data (apply to minority class samples)\n",
    "def augment_data(df):\n",
    "    augmented_texts = []\n",
    "    augmented_labels = []\n",
    "    for _, row in df[df['label'] == 1].iterrows():\n",
    "        text = row['paragraph']\n",
    "        # Synonym replacement augmentation\n",
    "        aug_text1 = synonym_replacement(text, n=1)\n",
    "        # Back-translation augmentation\n",
    "        aug_text2 = back_translate(text)\n",
    "        augmented_texts.extend([aug_text1, aug_text2])\n",
    "        augmented_labels.extend([1, 1])\n",
    "    aug_df = pd.DataFrame({'paragraph': augmented_texts, 'label': augmented_labels})\n",
    "    # Combine augmented samples with original data\n",
    "    return pd.concat([df, aug_df], ignore_index=True)\n",
    "\n",
    "\n",
    "# Oversample minority class to balance the dataset\n",
    "def oversample_data(df):\n",
    "    df_majority = df[df['label'] == 0]\n",
    "    df_minority = df[df['label'] == 1]\n",
    "    if len(df_minority) == 0 or len(df_majority) == 0:\n",
    "        return df\n",
    "    if len(df_minority) < len(df_majority):\n",
    "        df_minority_upsampled = resample(df_minority, replace=True, n_samples=len(df_majority), random_state=0)\n",
    "        df_balanced = pd.concat([df_majority, df_minority_upsampled], ignore_index=True)\n",
    "    else:\n",
    "        df_majority_upsampled = resample(df_majority, replace=True, n_samples=len(df_minority), random_state=0)\n",
    "        df_balanced = pd.concat([df_minority, df_majority_upsampled], ignore_index=True)\n",
    "    # Shuffle after oversampling\n",
    "    df_balanced = df_balanced.sample(frac=1, random_state=0).reset_index(drop=True)\n",
    "    return df_balanced"
   ],
   "id": "8232ad544cc6916d",
   "outputs": [],
   "execution_count": 7
  },
  {
   "metadata": {
    "ExecuteTime": {
     "end_time": "2025-03-01T21:55:56.092305Z",
     "start_time": "2025-03-01T21:55:56.070333Z"
    }
   },
   "cell_type": "code",
   "source": [
    "from sklearn.model_selection import train_test_split\n",
    "training_dev_df = pd.read_csv('./data/train_semeval_parids-labels.csv', sep=',', header=None,\n",
    "                              names=[\"par_id\", \"values\"], skiprows=1)\n",
    "test_dev_df = pd.read_csv('./data/dev_semeval_parids-labels.csv', sep=',', header=None,\n",
    "                          names=[\"par_id\", \"values\"], skiprows=1)\n",
    "\n",
    "train_dev_index = training_dev_df['par_id']\n",
    "test_dev_index = test_dev_df['par_id']\n",
    "df_indexed = df.set_index('par_id', drop=False)\n",
    "\n",
    "# Then slice with .loc, using your dev-index lists:\n",
    "train_dev_df = df_indexed.loc[train_dev_index].copy()\n",
    "test_df      = df_indexed.loc[test_dev_index].copy()\n",
    "train_df, val_df = train_test_split(train_dev_df, test_size=0.2, random_state=42)\n",
    "\n",
    "train_df = train_df.reset_index(drop=True)\n",
    "val_df = val_df.reset_index(drop=True)\n",
    "# dev.txt dataset\n",
    "test_df = test_df.reset_index(drop=True)\n",
    "test_df.fillna(\"\", inplace=True)\n",
    "\n",
    "print(train_df.head())\n",
    "print(train_df.info())\n",
    "print(test_df.head())\n",
    "print(test_df.info())"
   ],
   "id": "aa5e3249d75aef6f",
   "outputs": [
    {
     "name": "stdout",
     "output_type": "stream",
     "text": [
      "   par_id      art_id     keyword country  \\\n",
      "0    5423  @@20407937    disabled      nz   \n",
      "1    6890  @@16028961     in-need      us   \n",
      "2    1394  @@14758376  vulnerable      au   \n",
      "3    4445   @@3174447  vulnerable      za   \n",
      "4    7991  @@20728606    hopeless      ca   \n",
      "\n",
      "                                           paragraph  orig_label  label  \\\n",
      "0  Critics have even taken to dobbing in Katrina ...           0      0   \n",
      "1  Alexis and her family decided to donate more t...           0      0   \n",
      "2  Mr Porter , do you think you will get the numb...           4      1   \n",
      "3  \" This only serves to highlight the importance...           1      0   \n",
      "4  \" I was nervous , but life has taught me over ...           0      0   \n",
      "\n",
      "                                       str_paragraph  para_length  \n",
      "0  Critics have even taken to dobbing in Katrina ...           31  \n",
      "1  Alexis and her family decided to donate more t...           18  \n",
      "2  Mr Porter , do you think you will get the numb...           43  \n",
      "3  \" This only serves to highlight the importance...           50  \n",
      "4  \" I was nervous , but life has taught me over ...           60  \n",
      "<class 'pandas.core.frame.DataFrame'>\n",
      "RangeIndex: 6700 entries, 0 to 6699\n",
      "Data columns (total 9 columns):\n",
      " #   Column         Non-Null Count  Dtype \n",
      "---  ------         --------------  ----- \n",
      " 0   par_id         6700 non-null   int64 \n",
      " 1   art_id         6700 non-null   object\n",
      " 2   keyword        6700 non-null   object\n",
      " 3   country        6700 non-null   object\n",
      " 4   paragraph      6700 non-null   object\n",
      " 5   orig_label     6700 non-null   int64 \n",
      " 6   label          6700 non-null   int64 \n",
      " 7   str_paragraph  6700 non-null   object\n",
      " 8   para_length    6700 non-null   int64 \n",
      "dtypes: int64(4), object(5)\n",
      "memory usage: 471.2+ KB\n",
      "None\n",
      "   par_id      art_id   keyword country  \\\n",
      "0    4046  @@14767805  hopeless      us   \n",
      "1    1279   @@7896098   refugee      ng   \n",
      "2    8330  @@17252299   refugee      ng   \n",
      "3    4063   @@3002894   in-need      ie   \n",
      "4    4089  @@25597822  homeless      pk   \n",
      "\n",
      "                                           paragraph  orig_label  label  \\\n",
      "0  We also know that they can benefit by receivin...           3      1   \n",
      "1  Pope Francis washed and kissed the feet of Mus...           4      1   \n",
      "2  Many refugees do n't want to be resettled anyw...           2      1   \n",
      "3  Budding chefs , like \" Fred \" , \" Winston \" an...           4      1   \n",
      "4  In a 90-degree view of his constituency , one ...           3      1   \n",
      "\n",
      "                                       str_paragraph  para_length  \n",
      "0  We also know that they can benefit by receivin...           85  \n",
      "1  Pope Francis washed and kissed the feet of Mus...           38  \n",
      "2  Many refugees do n't want to be resettled anyw...           16  \n",
      "3  Budding chefs , like \" Fred \" , \" Winston \" an...           42  \n",
      "4  In a 90-degree view of his constituency , one ...           70  \n",
      "<class 'pandas.core.frame.DataFrame'>\n",
      "RangeIndex: 2094 entries, 0 to 2093\n",
      "Data columns (total 9 columns):\n",
      " #   Column         Non-Null Count  Dtype \n",
      "---  ------         --------------  ----- \n",
      " 0   par_id         2094 non-null   int64 \n",
      " 1   art_id         2094 non-null   object\n",
      " 2   keyword        2094 non-null   object\n",
      " 3   country        2094 non-null   object\n",
      " 4   paragraph      2094 non-null   object\n",
      " 5   orig_label     2094 non-null   int64 \n",
      " 6   label          2094 non-null   int64 \n",
      " 7   str_paragraph  2094 non-null   object\n",
      " 8   para_length    2094 non-null   int64 \n",
      "dtypes: int64(4), object(5)\n",
      "memory usage: 147.4+ KB\n",
      "None\n"
     ]
    }
   ],
   "execution_count": 8
  },
  {
   "metadata": {
    "ExecuteTime": {
     "end_time": "2025-03-01T21:56:00.557620Z",
     "start_time": "2025-03-01T21:55:59.901468Z"
    }
   },
   "cell_type": "code",
   "source": [
    "train_df = train_df.dropna(subset=['paragraph'])\n",
    "train_df['paragraph'] = train_df['paragraph'].astype(str)\n",
    "\n",
    "\n",
    "# Augment and balance training data\n",
    "train_df_aug = augment_data(train_df)\n",
    "train_df_upsample = oversample_data(train_df)\n",
    "train_df_both = oversample_data(train_df_aug)\n",
    "\n",
    "for idx, row in train_df.iterrows():\n",
    "    if not isinstance(row['paragraph'], str):\n",
    "        print(f\"Row {idx} has invalid type: {type(row['paragraph'])}, value = {row['paragraph']}\")\n",
    "\n",
    "train_df.to_csv(\"./example_training_data/train.csv\", index=False)\n",
    "train_df_both.to_csv(\"./example_training_data/train_augmented_oversampled.csv\", index=False)\n",
    "train_df_aug.to_csv(\"./example_training_data/train_augmented.csv\", index=False)\n",
    "train_df_upsample.to_csv(\"./example_training_data/train_oversampled.csv\", index=False)\n",
    "\n",
    "val_df.to_csv(\"./example_training_data/val.csv\", index=False)\n",
    "test_df.to_csv(\"./example_training_data/test.csv\", index=False)\n"
   ],
   "id": "15266e0c0a0398b2",
   "outputs": [],
   "execution_count": 9
  },
  {
   "metadata": {
    "ExecuteTime": {
     "end_time": "2025-03-01T21:56:02.428710Z",
     "start_time": "2025-03-01T21:56:02.333205Z"
    }
   },
   "cell_type": "code",
   "source": [
    "# Distribution of original 5 labels (0–4)\n",
    "label_counts = train_df_both[\"label\"].value_counts().sort_index()\n",
    "print(label_counts)\n",
    "\n",
    "# Plot distribution\n",
    "label_counts.plot(kind=\"bar\", title=\"Train set Label Distribution (0-1)\")\n",
    "plt.xlabel(\"Label\")\n",
    "plt.ylabel(\"Count\")\n",
    "plt.show()\n",
    "\n",
    "# Distribution of original 5 labels (0–4)\n",
    "label_counts = test_df[\"label\"].value_counts().sort_index()\n",
    "print(label_counts)\n",
    "\n",
    "# Plot distribution\n",
    "label_counts.plot(kind=\"bar\", title=\"Test set Label Distribution (0-1)\")\n",
    "plt.xlabel(\"Label\")\n",
    "plt.ylabel(\"Count\")\n",
    "plt.show()"
   ],
   "id": "43e2b97eebbd44d3",
   "outputs": [
    {
     "name": "stdout",
     "output_type": "stream",
     "text": [
      "label\n",
      "0    6073\n",
      "1    6073\n",
      "Name: count, dtype: int64\n"
     ]
    },
    {
     "data": {
      "text/plain": [
       "<Figure size 640x480 with 1 Axes>"
      ],
      "image/png": "[encoded data removed]"
     },
     "metadata": {},
     "output_type": "display_data"
    },
    {
     "name": "stdout",
     "output_type": "stream",
     "text": [
      "label\n",
      "0    1895\n",
      "1     199\n",
      "Name: count, dtype: int64\n"
     ]
    },
    {
     "data": {
      "text/plain": [
       "<Figure size 640x480 with 1 Axes>"
      ],
      "image/png": "[encoded data removed]"
     },
     "metadata": {},
     "output_type": "display_data"
    }
   ],
   "execution_count": 10
  },
  {
   "metadata": {},
   "cell_type": "markdown",
   "source": [
    "### Training and Evaluation\n",
    "\n"
   ],
   "id": "8f22f029f2b0564"
  },
  {
   "metadata": {
    "ExecuteTime": {
     "end_time": "2025-03-01T21:56:06.978985Z",
     "start_time": "2025-03-01T21:56:06.975834Z"
    }
   },
   "cell_type": "code",
   "source": [
    "MODEL_NAME = 'roberta-base'\n",
    "MAX_LENGTH = 256\n",
    "BATCH_SIZE = 16\n",
    "NUM_EPOCHS = 3\n",
    "PATIENCE = [2, 3, 4]\n",
    "WARMUP_PROPORTION = [0.05, 0.1, 0.2]\n",
    "LR_CANDIDATES = [1e-5, 2e-5, 5e-5]\n",
    "ENSEMBLE_SEEDS = [42, 52, 62]"
   ],
   "id": "bd02f7876324fdb5",
   "outputs": [],
   "execution_count": 11
  },
  {
   "metadata": {
    "ExecuteTime": {
     "end_time": "2025-03-01T21:56:08.272756Z",
     "start_time": "2025-03-01T21:56:08.225630Z"
    }
   },
   "cell_type": "code",
   "source": [
    "import os\n",
    "import copy\n",
    "import numpy as np\n",
    "import torch\n",
    "import torch.nn as nn\n",
    "from torch.utils.data import Dataset\n",
    "from transformers import (\n",
    "    AutoTokenizer,\n",
    "    AutoModelForSequenceClassification,\n",
    "    TrainingArguments,\n",
    "    Trainer,\n",
    "    EarlyStoppingCallback,\n",
    "    set_seed,\n",
    ")\n",
    "from transformers.modeling_outputs import SequenceClassifierOutput\n",
    "from sklearn.utils.class_weight import compute_class_weight\n",
    "from sklearn.metrics import f1_score, accuracy_score\n",
    "import optuna"
   ],
   "id": "e27a0d065b57e1d7",
   "outputs": [],
   "execution_count": 12
  },
  {
   "metadata": {
    "ExecuteTime": {
     "end_time": "2025-03-01T21:56:10.678366Z",
     "start_time": "2025-03-01T21:56:10.674368Z"
    }
   },
   "cell_type": "code",
   "source": [
    "class CustomDataset(Dataset):\n",
    "    def __init__(self, df, tokenizer, max_length=256):\n",
    "        self.texts = df[\"paragraph\"].tolist()\n",
    "        self.labels = df[\"label\"].tolist() if \"label\" in df.columns else None\n",
    "        self.tokenizer = tokenizer\n",
    "        self.max_length = max_length\n",
    "\n",
    "    def __len__(self):\n",
    "        return len(self.texts)\n",
    "\n",
    "    def __getitem__(self, idx):\n",
    "        text = self.texts[idx]\n",
    "        # Tokenize\n",
    "        inputs = self.tokenizer(\n",
    "            text,\n",
    "            padding=\"max_length\",\n",
    "            truncation=True,\n",
    "            max_length=self.max_length,\n",
    "            return_tensors=\"pt\",\n",
    "        )\n",
    "        # Flatten tensor dims from (1, ...) to (...):\n",
    "        item = {k: v.squeeze(0) for k, v in inputs.items()}\n",
    "\n",
    "        if self.labels is not None:\n",
    "            item[\"labels\"] = torch.tensor(self.labels[idx], dtype=torch.long)\n",
    "\n",
    "        return item"
   ],
   "id": "42be754fbcc85e6c",
   "outputs": [],
   "execution_count": 13
  },
  {
   "metadata": {
    "ExecuteTime": {
     "end_time": "2025-03-01T22:00:06.322771Z",
     "start_time": "2025-03-01T22:00:06.318392Z"
    }
   },
   "cell_type": "code",
   "source": [
    "from transformers import RobertaForSequenceClassification\n",
    "from transformers.modeling_outputs import SequenceClassifierOutput\n",
    "\n",
    "class WeightedRoberta(nn.Module):\n",
    "    def __init__(self, model_name: str, num_labels: int, class_weights: torch.Tensor):\n",
    "        super().__init__()\n",
    "        self.base_model = AutoModelForSequenceClassification.from_pretrained(\n",
    "            model_name,\n",
    "            num_labels=num_labels\n",
    "        )\n",
    "        self.class_weights = class_weights\n",
    "\n",
    "    def forward(\n",
    "        self,\n",
    "        input_ids=None,\n",
    "        attention_mask=None,\n",
    "        labels=None,\n",
    "        **kwargs\n",
    "    ):\n",
    "        # --- FIX: pop any extra kwarg(s) Trainer might pass ---\n",
    "        kwargs.pop(\"num_items_in_batch\", None)  # ignore if present\n",
    "\n",
    "        # Optionally pop other possible stray kwargs here:\n",
    "        # kwargs.pop(\"some_other_arg\", None)\n",
    "\n",
    "        # Now run forward without unexpected kwargs\n",
    "        outputs = self.base_model(\n",
    "            input_ids=input_ids,\n",
    "            attention_mask=attention_mask,\n",
    "            labels=None,  # We'll handle the loss below\n",
    "            **kwargs\n",
    "        )\n",
    "        logits = outputs.logits\n",
    "\n",
    "        loss = None\n",
    "        if labels is not None:\n",
    "            loss_fct = nn.CrossEntropyLoss(weight=self.class_weights.to(logits.device))\n",
    "            loss = loss_fct(logits, labels)\n",
    "\n",
    "        return SequenceClassifierOutput(\n",
    "            loss=loss,\n",
    "            logits=logits,\n",
    "            hidden_states=outputs.hidden_states,\n",
    "            attentions=outputs.attentions,\n",
    "        )"
   ],
   "id": "f02797fab359acba",
   "outputs": [],
   "execution_count": 17
  },
  {
   "metadata": {
    "ExecuteTime": {
     "end_time": "2025-03-01T22:00:09.500401Z",
     "start_time": "2025-03-01T22:00:09.495231Z"
    }
   },
   "cell_type": "code",
   "source": [
    "train_labels = train_df['label'].values\n",
    "class_weights_experiment = compute_class_weight(\n",
    "    class_weight='balanced',\n",
    "    classes=np.unique(train_labels),\n",
    "    y=train_labels\n",
    ")\n",
    "class_weights_tensor_experiment = torch.tensor(class_weights_experiment, dtype=torch.float)\n",
    "\n",
    "train_labels_aug = train_df_aug['label'].values\n",
    "class_weights_final = compute_class_weight(\n",
    "    class_weight='balanced',\n",
    "    classes=np.unique(train_labels_aug),\n",
    "    y=train_labels_aug\n",
    ")\n",
    "class_weights_tensor_final = torch.tensor(class_weights_final, dtype=torch.float)\n",
    "\n",
    "print(\"Experiment class weights:\", class_weights_tensor_experiment)\n",
    "print(\"Final class weights:\", class_weights_tensor_final)"
   ],
   "id": "30f25522689e5886",
   "outputs": [
    {
     "name": "stdout",
     "output_type": "stream",
     "text": [
      "Experiment class weights: tensor([0.5516, 5.3429])\n",
      "Final class weights: tensor([0.6549, 2.1143])\n"
     ]
    }
   ],
   "execution_count": 18
  },
  {
   "metadata": {
    "ExecuteTime": {
     "end_time": "2025-03-01T22:11:46.448979Z",
     "start_time": "2025-03-01T22:11:37.197222Z"
    }
   },
   "cell_type": "code",
   "source": [
    "# ---------------------------------------------\n",
    "# (E) Create datasets for Trainer\n",
    "# ---------------------------------------------\n",
    "tokenizer = AutoTokenizer.from_pretrained(MODEL_NAME)\n",
    "train_dataset = CustomDataset(train_df_both, tokenizer, max_length=MAX_LENGTH)\n",
    "val_dataset   = CustomDataset(val_df,       tokenizer, max_length=MAX_LENGTH)\n",
    "test_dataset  = CustomDataset(test_df,      tokenizer, max_length=MAX_LENGTH)\n",
    "\n",
    "\n",
    "# ---------------------------------------------\n",
    "# (F) Define metric computation for Trainer\n",
    "# ---------------------------------------------\n",
    "def compute_metrics(eval_pred):\n",
    "    \"\"\"Compute F1 (binary) and accuracy.\"\"\"\n",
    "    logits, labels = eval_pred\n",
    "    preds = np.argmax(logits, axis=-1)\n",
    "    f1 = f1_score(labels, preds, average=\"binary\")\n",
    "    acc = accuracy_score(labels, preds)\n",
    "    return {\"f1\": f1, \"accuracy\": acc}\n",
    "\n",
    "\n",
    "# -----------------------------------------------------------------\n",
    "# (G) Define Optuna objective function for hyperparameter search\n",
    "# -----------------------------------------------------------------\n",
    "def objective(trial):\n",
    "    \"\"\"\n",
    "    Optuna objective that:\n",
    "      - Picks lr, patience, warmup ratio.\n",
    "      - Trains model.\n",
    "      - Returns Val F1 for best epoch (Trainer handles early stopping).\n",
    "    \"\"\"\n",
    "    lr = trial.suggest_categorical(\"lr\", LR_CANDIDATES)\n",
    "    patience = trial.suggest_categorical(\"patience\", PATIENCE)\n",
    "    warmup_ratio = trial.suggest_categorical(\"warmup_ratio\", WARMUP_PROPORTION)\n",
    "\n",
    "    # Create Weighted Roberta\n",
    "    model = WeightedRoberta(\n",
    "        model_name=MODEL_NAME,\n",
    "        num_labels=2,\n",
    "        class_weights=class_weights_tensor_final\n",
    "    )\n",
    "\n",
    "    # Define Trainer args\n",
    "    training_args = TrainingArguments(\n",
    "        output_dir=f\"./optuna_trial_{trial.number}\",\n",
    "        do_train=True,\n",
    "        do_eval=True,\n",
    "        num_train_epochs=NUM_EPOCHS,\n",
    "        learning_rate=lr,\n",
    "        per_device_train_batch_size=BATCH_SIZE,\n",
    "        per_device_eval_batch_size=BATCH_SIZE,\n",
    "        weight_decay=1e-2,  # from your custom loop\n",
    "        evaluation_strategy=\"epoch\",     # Evaluate every epoch\n",
    "        save_strategy=\"epoch\",           # Save every epoch (so we can load best)\n",
    "        load_best_model_at_end=True,     # Always load best at the end\n",
    "        metric_for_best_model=\"f1\",      # Which metric to track\n",
    "        greater_is_better=True,\n",
    "        bf16=True,                       # Use bf16 precision (if supported)\n",
    "        warmup_ratio=warmup_ratio,       # Warm-up proportion\n",
    "        logging_steps=50,                # Adjust as desired\n",
    "        seed=42,                         # Keep some default\n",
    "    )\n",
    "\n",
    "    # Build a Trainer\n",
    "    trainer = Trainer(\n",
    "        model=model,\n",
    "        args=training_args,\n",
    "        train_dataset=train_dataset,\n",
    "        eval_dataset=val_dataset,\n",
    "        compute_metrics=compute_metrics,\n",
    "        callbacks=[EarlyStoppingCallback(\n",
    "            early_stopping_patience=patience,\n",
    "            early_stopping_threshold=0.0\n",
    "        )],\n",
    "    )\n",
    "\n",
    "    # Train\n",
    "    trainer.train()\n",
    "\n",
    "    # Evaluate\n",
    "    eval_metrics = trainer.evaluate()\n",
    "    val_f1 = eval_metrics[\"eval_f1\"]\n",
    "\n",
    "    print(f\"Trial {trial.number} - LR={lr}, Patience={patience}, Warmup={warmup_ratio} => Val F1={val_f1:.4f}\")\n",
    "\n",
    "    return val_f1\n",
    "\n",
    "\n",
    "# -----------------------------------------------------------------\n",
    "# (H) Run an ensemble of models with different seeds\n",
    "# -----------------------------------------------------------------\n",
    "ensemble_models = []\n",
    "\n",
    "for seed in ENSEMBLE_SEEDS:\n",
    "    # Fix the seed for reproducibility\n",
    "    set_seed(seed)\n",
    "\n",
    "    # Create Optuna study\n",
    "    study = optuna.create_study(direction=\"maximize\")\n",
    "    study.optimize(objective, n_trials=10)  # e.g., run 10 trials for each seed\n",
    "\n",
    "    # Get best params\n",
    "    best_lr = study.best_params[\"lr\"]\n",
    "    best_patience = study.best_params[\"patience\"]\n",
    "    best_warmup_ratio = study.best_params[\"warmup_ratio\"]\n",
    "    best_val_f1 = study.best_value\n",
    "\n",
    "    print(f\"\\n[Seed {seed}] Best LR={best_lr}, Patience={best_patience}, Warmup={best_warmup_ratio}, Val F1={best_val_f1:.4f}\")\n",
    "\n",
    "    # Retrain final model on best hyperparams\n",
    "    final_model = WeightedRoberta(\n",
    "        model_name=MODEL_NAME,\n",
    "        num_labels=2,\n",
    "        class_weights=class_weights_tensor_experiment  # or class_weights_tensor_final\n",
    "    )\n",
    "\n",
    "    training_args = TrainingArguments(\n",
    "        output_dir=f\"./final_model_seed_{seed}\",\n",
    "        do_train=True,\n",
    "        do_eval=True,\n",
    "        num_train_epochs=NUM_EPOCHS,\n",
    "        learning_rate=best_lr,\n",
    "        per_device_train_batch_size=BATCH_SIZE,\n",
    "        per_device_eval_batch_size=BATCH_SIZE,\n",
    "        weight_decay=1e-2,\n",
    "        evaluation_strategy=\"epoch\",\n",
    "        save_strategy=\"epoch\",\n",
    "        load_best_model_at_end=True,\n",
    "        metric_for_best_model=\"f1\",\n",
    "        greater_is_better=True,\n",
    "        bf16=True,\n",
    "        warmup_ratio=best_warmup_ratio,\n",
    "        logging_steps=50,\n",
    "        seed=seed,\n",
    "    )\n",
    "\n",
    "    final_trainer = Trainer(\n",
    "        model=final_model,\n",
    "        args=training_args,\n",
    "        train_dataset=train_dataset,\n",
    "        eval_dataset=val_dataset,\n",
    "        compute_metrics=compute_metrics,\n",
    "        callbacks=[EarlyStoppingCallback(\n",
    "            early_stopping_patience=best_patience,\n",
    "            early_stopping_threshold=0.0\n",
    "        )],\n",
    "    )\n",
    "\n",
    "    # Train final model\n",
    "    final_trainer.train()\n",
    "\n",
    "    # Save and keep the best model in memory\n",
    "    final_trainer.save_model(f\"model_seed_{seed}\")\n",
    "    ensemble_models.append(final_trainer.model)\n",
    "\n",
    "    print(f\"Finished training with seed={seed}, best val F1={best_val_f1:.4f}\")\n",
    "    print(\"-\"*60)"
   ],
   "id": "e4ebba526aec36f7",
   "outputs": [
    {
     "name": "stderr",
     "output_type": "stream",
     "text": [
      "[I 2025-03-01 22:11:37,460] A new study created in memory with name: no-name-7c2d7b15-7a52-4a53-9f6d-979b46b1e26f\n",
      "C:\\Users\\yiqin\\Desktop\\NLP_CW\\venv\\Lib\\site-packages\\transformers\\training_args.py:1594: FutureWarning: `evaluation_strategy` is deprecated and will be removed in version 4.46 of 🤗 Transformers. Use `eval_strategy` instead\n",
      "  warnings.warn(\n",
      "[W 2025-03-01 22:11:46,242] Trial 0 failed with parameters: {'lr': 5e-05, 'patience': 2, 'warmup_ratio': 0.2} because of the following error: KeyboardInterrupt().\n",
      "Traceback (most recent call last):\n",
      "  File \"C:\\Users\\yiqin\\Desktop\\NLP_CW\\venv\\Lib\\site-packages\\optuna\\study\\_optimize.py\", line 197, in _run_trial\n",
      "    value_or_values = func(trial)\n",
      "                      ^^^^^^^^^^^\n",
      "  File \"C:\\Users\\yiqin\\AppData\\Local\\Temp\\ipykernel_18268\\146012956.py\", line 78, in objective\n",
      "    trainer.train()\n",
      "  File \"C:\\Users\\yiqin\\Desktop\\NLP_CW\\venv\\Lib\\site-packages\\transformers\\trainer.py\", line 2241, in train\n",
      "    return inner_training_loop(\n",
      "           ^^^^^^^^^^^^^^^^^^^^\n",
      "  File \"C:\\Users\\yiqin\\Desktop\\NLP_CW\\venv\\Lib\\site-packages\\transformers\\trainer.py\", line 2548, in _inner_training_loop\n",
      "    tr_loss_step = self.training_step(model, inputs, num_items_in_batch)\n",
      "                   ^^^^^^^^^^^^^^^^^^^^^^^^^^^^^^^^^^^^^^^^^^^^^^^^^^^^^\n",
      "  File \"C:\\Users\\yiqin\\Desktop\\NLP_CW\\venv\\Lib\\site-packages\\transformers\\trainer.py\", line 3740, in training_step\n",
      "    self.accelerator.backward(loss, **kwargs)\n",
      "  File \"C:\\Users\\yiqin\\Desktop\\NLP_CW\\venv\\Lib\\site-packages\\accelerate\\accelerator.py\", line 2329, in backward\n",
      "    loss.backward(**kwargs)\n",
      "  File \"C:\\Users\\yiqin\\Desktop\\NLP_CW\\venv\\Lib\\site-packages\\torch\\_tensor.py\", line 626, in backward\n",
      "    torch.autograd.backward(\n",
      "  File \"C:\\Users\\yiqin\\Desktop\\NLP_CW\\venv\\Lib\\site-packages\\torch\\autograd\\__init__.py\", line 347, in backward\n",
      "    _engine_run_backward(\n",
      "  File \"C:\\Users\\yiqin\\Desktop\\NLP_CW\\venv\\Lib\\site-packages\\torch\\autograd\\graph.py\", line 823, in _engine_run_backward\n",
      "    return Variable._execution_engine.run_backward(  # Calls into the C++ engine to run the backward pass\n",
      "           ^^^^^^^^^^^^^^^^^^^^^^^^^^^^^^^^^^^^^^^^^^^^^^^^^^^^^^^^^^^^^^^^^^^^^^^^^^^^^^^^^^^^^^^^^^^^^^\n",
      "KeyboardInterrupt\n",
      "[W 2025-03-01 22:11:46,253] Trial 0 failed with value None.\n"
     ]
    },
    {
     "ename": "KeyboardInterrupt",
     "evalue": "",
     "output_type": "error",
     "traceback": [
      "\u001B[1;31m---------------------------------------------------------------------------\u001B[0m",
      "\u001B[1;31mKeyboardInterrupt\u001B[0m                         Traceback (most recent call last)",
      "Cell \u001B[1;32mIn[20], line 100\u001B[0m\n\u001B[0;32m     98\u001B[0m \u001B[38;5;66;03m# Create Optuna study\u001B[39;00m\n\u001B[0;32m     99\u001B[0m study \u001B[38;5;241m=\u001B[39m optuna\u001B[38;5;241m.\u001B[39mcreate_study(direction\u001B[38;5;241m=\u001B[39m\u001B[38;5;124m\"\u001B[39m\u001B[38;5;124mmaximize\u001B[39m\u001B[38;5;124m\"\u001B[39m)\n\u001B[1;32m--> 100\u001B[0m \u001B[43mstudy\u001B[49m\u001B[38;5;241;43m.\u001B[39;49m\u001B[43moptimize\u001B[49m\u001B[43m(\u001B[49m\u001B[43mobjective\u001B[49m\u001B[43m,\u001B[49m\u001B[43m \u001B[49m\u001B[43mn_trials\u001B[49m\u001B[38;5;241;43m=\u001B[39;49m\u001B[38;5;241;43m10\u001B[39;49m\u001B[43m)\u001B[49m  \u001B[38;5;66;03m# e.g., run 10 trials for each seed\u001B[39;00m\n\u001B[0;32m    102\u001B[0m \u001B[38;5;66;03m# Get best params\u001B[39;00m\n\u001B[0;32m    103\u001B[0m best_lr \u001B[38;5;241m=\u001B[39m study\u001B[38;5;241m.\u001B[39mbest_params[\u001B[38;5;124m\"\u001B[39m\u001B[38;5;124mlr\u001B[39m\u001B[38;5;124m\"\u001B[39m]\n",
      "File \u001B[1;32m~\\Desktop\\NLP_CW\\venv\\Lib\\site-packages\\optuna\\study\\study.py:475\u001B[0m, in \u001B[0;36mStudy.optimize\u001B[1;34m(self, func, n_trials, timeout, n_jobs, catch, callbacks, gc_after_trial, show_progress_bar)\u001B[0m\n\u001B[0;32m    373\u001B[0m \u001B[38;5;28;01mdef\u001B[39;00m\u001B[38;5;250m \u001B[39m\u001B[38;5;21moptimize\u001B[39m(\n\u001B[0;32m    374\u001B[0m     \u001B[38;5;28mself\u001B[39m,\n\u001B[0;32m    375\u001B[0m     func: ObjectiveFuncType,\n\u001B[1;32m   (...)\u001B[0m\n\u001B[0;32m    382\u001B[0m     show_progress_bar: \u001B[38;5;28mbool\u001B[39m \u001B[38;5;241m=\u001B[39m \u001B[38;5;28;01mFalse\u001B[39;00m,\n\u001B[0;32m    383\u001B[0m ) \u001B[38;5;241m-\u001B[39m\u001B[38;5;241m>\u001B[39m \u001B[38;5;28;01mNone\u001B[39;00m:\n\u001B[0;32m    384\u001B[0m \u001B[38;5;250m    \u001B[39m\u001B[38;5;124;03m\"\"\"Optimize an objective function.\u001B[39;00m\n\u001B[0;32m    385\u001B[0m \n\u001B[0;32m    386\u001B[0m \u001B[38;5;124;03m    Optimization is done by choosing a suitable set of hyperparameter values from a given\u001B[39;00m\n\u001B[1;32m   (...)\u001B[0m\n\u001B[0;32m    473\u001B[0m \u001B[38;5;124;03m            If nested invocation of this method occurs.\u001B[39;00m\n\u001B[0;32m    474\u001B[0m \u001B[38;5;124;03m    \"\"\"\u001B[39;00m\n\u001B[1;32m--> 475\u001B[0m     \u001B[43m_optimize\u001B[49m\u001B[43m(\u001B[49m\n\u001B[0;32m    476\u001B[0m \u001B[43m        \u001B[49m\u001B[43mstudy\u001B[49m\u001B[38;5;241;43m=\u001B[39;49m\u001B[38;5;28;43mself\u001B[39;49m\u001B[43m,\u001B[49m\n\u001B[0;32m    477\u001B[0m \u001B[43m        \u001B[49m\u001B[43mfunc\u001B[49m\u001B[38;5;241;43m=\u001B[39;49m\u001B[43mfunc\u001B[49m\u001B[43m,\u001B[49m\n\u001B[0;32m    478\u001B[0m \u001B[43m        \u001B[49m\u001B[43mn_trials\u001B[49m\u001B[38;5;241;43m=\u001B[39;49m\u001B[43mn_trials\u001B[49m\u001B[43m,\u001B[49m\n\u001B[0;32m    479\u001B[0m \u001B[43m        \u001B[49m\u001B[43mtimeout\u001B[49m\u001B[38;5;241;43m=\u001B[39;49m\u001B[43mtimeout\u001B[49m\u001B[43m,\u001B[49m\n\u001B[0;32m    480\u001B[0m \u001B[43m        \u001B[49m\u001B[43mn_jobs\u001B[49m\u001B[38;5;241;43m=\u001B[39;49m\u001B[43mn_jobs\u001B[49m\u001B[43m,\u001B[49m\n\u001B[0;32m    481\u001B[0m \u001B[43m        \u001B[49m\u001B[43mcatch\u001B[49m\u001B[38;5;241;43m=\u001B[39;49m\u001B[38;5;28;43mtuple\u001B[39;49m\u001B[43m(\u001B[49m\u001B[43mcatch\u001B[49m\u001B[43m)\u001B[49m\u001B[43m \u001B[49m\u001B[38;5;28;43;01mif\u001B[39;49;00m\u001B[43m \u001B[49m\u001B[38;5;28;43misinstance\u001B[39;49m\u001B[43m(\u001B[49m\u001B[43mcatch\u001B[49m\u001B[43m,\u001B[49m\u001B[43m \u001B[49m\u001B[43mIterable\u001B[49m\u001B[43m)\u001B[49m\u001B[43m \u001B[49m\u001B[38;5;28;43;01melse\u001B[39;49;00m\u001B[43m \u001B[49m\u001B[43m(\u001B[49m\u001B[43mcatch\u001B[49m\u001B[43m,\u001B[49m\u001B[43m)\u001B[49m\u001B[43m,\u001B[49m\n\u001B[0;32m    482\u001B[0m \u001B[43m        \u001B[49m\u001B[43mcallbacks\u001B[49m\u001B[38;5;241;43m=\u001B[39;49m\u001B[43mcallbacks\u001B[49m\u001B[43m,\u001B[49m\n\u001B[0;32m    483\u001B[0m \u001B[43m        \u001B[49m\u001B[43mgc_after_trial\u001B[49m\u001B[38;5;241;43m=\u001B[39;49m\u001B[43mgc_after_trial\u001B[49m\u001B[43m,\u001B[49m\n\u001B[0;32m    484\u001B[0m \u001B[43m        \u001B[49m\u001B[43mshow_progress_bar\u001B[49m\u001B[38;5;241;43m=\u001B[39;49m\u001B[43mshow_progress_bar\u001B[49m\u001B[43m,\u001B[49m\n\u001B[0;32m    485\u001B[0m \u001B[43m    \u001B[49m\u001B[43m)\u001B[49m\n",
      "File \u001B[1;32m~\\Desktop\\NLP_CW\\venv\\Lib\\site-packages\\optuna\\study\\_optimize.py:63\u001B[0m, in \u001B[0;36m_optimize\u001B[1;34m(study, func, n_trials, timeout, n_jobs, catch, callbacks, gc_after_trial, show_progress_bar)\u001B[0m\n\u001B[0;32m     61\u001B[0m \u001B[38;5;28;01mtry\u001B[39;00m:\n\u001B[0;32m     62\u001B[0m     \u001B[38;5;28;01mif\u001B[39;00m n_jobs \u001B[38;5;241m==\u001B[39m \u001B[38;5;241m1\u001B[39m:\n\u001B[1;32m---> 63\u001B[0m         \u001B[43m_optimize_sequential\u001B[49m\u001B[43m(\u001B[49m\n\u001B[0;32m     64\u001B[0m \u001B[43m            \u001B[49m\u001B[43mstudy\u001B[49m\u001B[43m,\u001B[49m\n\u001B[0;32m     65\u001B[0m \u001B[43m            \u001B[49m\u001B[43mfunc\u001B[49m\u001B[43m,\u001B[49m\n\u001B[0;32m     66\u001B[0m \u001B[43m            \u001B[49m\u001B[43mn_trials\u001B[49m\u001B[43m,\u001B[49m\n\u001B[0;32m     67\u001B[0m \u001B[43m            \u001B[49m\u001B[43mtimeout\u001B[49m\u001B[43m,\u001B[49m\n\u001B[0;32m     68\u001B[0m \u001B[43m            \u001B[49m\u001B[43mcatch\u001B[49m\u001B[43m,\u001B[49m\n\u001B[0;32m     69\u001B[0m \u001B[43m            \u001B[49m\u001B[43mcallbacks\u001B[49m\u001B[43m,\u001B[49m\n\u001B[0;32m     70\u001B[0m \u001B[43m            \u001B[49m\u001B[43mgc_after_trial\u001B[49m\u001B[43m,\u001B[49m\n\u001B[0;32m     71\u001B[0m \u001B[43m            \u001B[49m\u001B[43mreseed_sampler_rng\u001B[49m\u001B[38;5;241;43m=\u001B[39;49m\u001B[38;5;28;43;01mFalse\u001B[39;49;00m\u001B[43m,\u001B[49m\n\u001B[0;32m     72\u001B[0m \u001B[43m            \u001B[49m\u001B[43mtime_start\u001B[49m\u001B[38;5;241;43m=\u001B[39;49m\u001B[38;5;28;43;01mNone\u001B[39;49;00m\u001B[43m,\u001B[49m\n\u001B[0;32m     73\u001B[0m \u001B[43m            \u001B[49m\u001B[43mprogress_bar\u001B[49m\u001B[38;5;241;43m=\u001B[39;49m\u001B[43mprogress_bar\u001B[49m\u001B[43m,\u001B[49m\n\u001B[0;32m     74\u001B[0m \u001B[43m        \u001B[49m\u001B[43m)\u001B[49m\n\u001B[0;32m     75\u001B[0m     \u001B[38;5;28;01melse\u001B[39;00m:\n\u001B[0;32m     76\u001B[0m         \u001B[38;5;28;01mif\u001B[39;00m n_jobs \u001B[38;5;241m==\u001B[39m \u001B[38;5;241m-\u001B[39m\u001B[38;5;241m1\u001B[39m:\n",
      "File \u001B[1;32m~\\Desktop\\NLP_CW\\venv\\Lib\\site-packages\\optuna\\study\\_optimize.py:160\u001B[0m, in \u001B[0;36m_optimize_sequential\u001B[1;34m(study, func, n_trials, timeout, catch, callbacks, gc_after_trial, reseed_sampler_rng, time_start, progress_bar)\u001B[0m\n\u001B[0;32m    157\u001B[0m         \u001B[38;5;28;01mbreak\u001B[39;00m\n\u001B[0;32m    159\u001B[0m \u001B[38;5;28;01mtry\u001B[39;00m:\n\u001B[1;32m--> 160\u001B[0m     frozen_trial \u001B[38;5;241m=\u001B[39m \u001B[43m_run_trial\u001B[49m\u001B[43m(\u001B[49m\u001B[43mstudy\u001B[49m\u001B[43m,\u001B[49m\u001B[43m \u001B[49m\u001B[43mfunc\u001B[49m\u001B[43m,\u001B[49m\u001B[43m \u001B[49m\u001B[43mcatch\u001B[49m\u001B[43m)\u001B[49m\n\u001B[0;32m    161\u001B[0m \u001B[38;5;28;01mfinally\u001B[39;00m:\n\u001B[0;32m    162\u001B[0m     \u001B[38;5;66;03m# The following line mitigates memory problems that can be occurred in some\u001B[39;00m\n\u001B[0;32m    163\u001B[0m     \u001B[38;5;66;03m# environments (e.g., services that use computing containers such as GitHub Actions).\u001B[39;00m\n\u001B[0;32m    164\u001B[0m     \u001B[38;5;66;03m# Please refer to the following PR for further details:\u001B[39;00m\n\u001B[0;32m    165\u001B[0m     \u001B[38;5;66;03m# https://github.com/optuna/optuna/pull/325.\u001B[39;00m\n\u001B[0;32m    166\u001B[0m     \u001B[38;5;28;01mif\u001B[39;00m gc_after_trial:\n",
      "File \u001B[1;32m~\\Desktop\\NLP_CW\\venv\\Lib\\site-packages\\optuna\\study\\_optimize.py:248\u001B[0m, in \u001B[0;36m_run_trial\u001B[1;34m(study, func, catch)\u001B[0m\n\u001B[0;32m    241\u001B[0m         \u001B[38;5;28;01massert\u001B[39;00m \u001B[38;5;28;01mFalse\u001B[39;00m, \u001B[38;5;124m\"\u001B[39m\u001B[38;5;124mShould not reach.\u001B[39m\u001B[38;5;124m\"\u001B[39m\n\u001B[0;32m    243\u001B[0m \u001B[38;5;28;01mif\u001B[39;00m (\n\u001B[0;32m    244\u001B[0m     frozen_trial\u001B[38;5;241m.\u001B[39mstate \u001B[38;5;241m==\u001B[39m TrialState\u001B[38;5;241m.\u001B[39mFAIL\n\u001B[0;32m    245\u001B[0m     \u001B[38;5;129;01mand\u001B[39;00m func_err \u001B[38;5;129;01mis\u001B[39;00m \u001B[38;5;129;01mnot\u001B[39;00m \u001B[38;5;28;01mNone\u001B[39;00m\n\u001B[0;32m    246\u001B[0m     \u001B[38;5;129;01mand\u001B[39;00m \u001B[38;5;129;01mnot\u001B[39;00m \u001B[38;5;28misinstance\u001B[39m(func_err, catch)\n\u001B[0;32m    247\u001B[0m ):\n\u001B[1;32m--> 248\u001B[0m     \u001B[38;5;28;01mraise\u001B[39;00m func_err\n\u001B[0;32m    249\u001B[0m \u001B[38;5;28;01mreturn\u001B[39;00m frozen_trial\n",
      "File \u001B[1;32m~\\Desktop\\NLP_CW\\venv\\Lib\\site-packages\\optuna\\study\\_optimize.py:197\u001B[0m, in \u001B[0;36m_run_trial\u001B[1;34m(study, func, catch)\u001B[0m\n\u001B[0;32m    195\u001B[0m \u001B[38;5;28;01mwith\u001B[39;00m get_heartbeat_thread(trial\u001B[38;5;241m.\u001B[39m_trial_id, study\u001B[38;5;241m.\u001B[39m_storage):\n\u001B[0;32m    196\u001B[0m     \u001B[38;5;28;01mtry\u001B[39;00m:\n\u001B[1;32m--> 197\u001B[0m         value_or_values \u001B[38;5;241m=\u001B[39m \u001B[43mfunc\u001B[49m\u001B[43m(\u001B[49m\u001B[43mtrial\u001B[49m\u001B[43m)\u001B[49m\n\u001B[0;32m    198\u001B[0m     \u001B[38;5;28;01mexcept\u001B[39;00m exceptions\u001B[38;5;241m.\u001B[39mTrialPruned \u001B[38;5;28;01mas\u001B[39;00m e:\n\u001B[0;32m    199\u001B[0m         \u001B[38;5;66;03m# TODO(mamu): Handle multi-objective cases.\u001B[39;00m\n\u001B[0;32m    200\u001B[0m         state \u001B[38;5;241m=\u001B[39m TrialState\u001B[38;5;241m.\u001B[39mPRUNED\n",
      "Cell \u001B[1;32mIn[20], line 78\u001B[0m, in \u001B[0;36mobjective\u001B[1;34m(trial)\u001B[0m\n\u001B[0;32m     65\u001B[0m trainer \u001B[38;5;241m=\u001B[39m Trainer(\n\u001B[0;32m     66\u001B[0m     model\u001B[38;5;241m=\u001B[39mmodel,\n\u001B[0;32m     67\u001B[0m     args\u001B[38;5;241m=\u001B[39mtraining_args,\n\u001B[1;32m   (...)\u001B[0m\n\u001B[0;32m     74\u001B[0m     )],\n\u001B[0;32m     75\u001B[0m )\n\u001B[0;32m     77\u001B[0m \u001B[38;5;66;03m# Train\u001B[39;00m\n\u001B[1;32m---> 78\u001B[0m \u001B[43mtrainer\u001B[49m\u001B[38;5;241;43m.\u001B[39;49m\u001B[43mtrain\u001B[49m\u001B[43m(\u001B[49m\u001B[43m)\u001B[49m\n\u001B[0;32m     80\u001B[0m \u001B[38;5;66;03m# Evaluate\u001B[39;00m\n\u001B[0;32m     81\u001B[0m eval_metrics \u001B[38;5;241m=\u001B[39m trainer\u001B[38;5;241m.\u001B[39mevaluate()\n",
      "File \u001B[1;32m~\\Desktop\\NLP_CW\\venv\\Lib\\site-packages\\transformers\\trainer.py:2241\u001B[0m, in \u001B[0;36mTrainer.train\u001B[1;34m(self, resume_from_checkpoint, trial, ignore_keys_for_eval, **kwargs)\u001B[0m\n\u001B[0;32m   2239\u001B[0m         hf_hub_utils\u001B[38;5;241m.\u001B[39menable_progress_bars()\n\u001B[0;32m   2240\u001B[0m \u001B[38;5;28;01melse\u001B[39;00m:\n\u001B[1;32m-> 2241\u001B[0m     \u001B[38;5;28;01mreturn\u001B[39;00m \u001B[43minner_training_loop\u001B[49m\u001B[43m(\u001B[49m\n\u001B[0;32m   2242\u001B[0m \u001B[43m        \u001B[49m\u001B[43margs\u001B[49m\u001B[38;5;241;43m=\u001B[39;49m\u001B[43margs\u001B[49m\u001B[43m,\u001B[49m\n\u001B[0;32m   2243\u001B[0m \u001B[43m        \u001B[49m\u001B[43mresume_from_checkpoint\u001B[49m\u001B[38;5;241;43m=\u001B[39;49m\u001B[43mresume_from_checkpoint\u001B[49m\u001B[43m,\u001B[49m\n\u001B[0;32m   2244\u001B[0m \u001B[43m        \u001B[49m\u001B[43mtrial\u001B[49m\u001B[38;5;241;43m=\u001B[39;49m\u001B[43mtrial\u001B[49m\u001B[43m,\u001B[49m\n\u001B[0;32m   2245\u001B[0m \u001B[43m        \u001B[49m\u001B[43mignore_keys_for_eval\u001B[49m\u001B[38;5;241;43m=\u001B[39;49m\u001B[43mignore_keys_for_eval\u001B[49m\u001B[43m,\u001B[49m\n\u001B[0;32m   2246\u001B[0m \u001B[43m    \u001B[49m\u001B[43m)\u001B[49m\n",
      "File \u001B[1;32m~\\Desktop\\NLP_CW\\venv\\Lib\\site-packages\\transformers\\trainer.py:2548\u001B[0m, in \u001B[0;36mTrainer._inner_training_loop\u001B[1;34m(self, batch_size, args, resume_from_checkpoint, trial, ignore_keys_for_eval)\u001B[0m\n\u001B[0;32m   2541\u001B[0m context \u001B[38;5;241m=\u001B[39m (\n\u001B[0;32m   2542\u001B[0m     functools\u001B[38;5;241m.\u001B[39mpartial(\u001B[38;5;28mself\u001B[39m\u001B[38;5;241m.\u001B[39maccelerator\u001B[38;5;241m.\u001B[39mno_sync, model\u001B[38;5;241m=\u001B[39mmodel)\n\u001B[0;32m   2543\u001B[0m     \u001B[38;5;28;01mif\u001B[39;00m i \u001B[38;5;241m!=\u001B[39m \u001B[38;5;28mlen\u001B[39m(batch_samples) \u001B[38;5;241m-\u001B[39m \u001B[38;5;241m1\u001B[39m\n\u001B[0;32m   2544\u001B[0m     \u001B[38;5;129;01mand\u001B[39;00m \u001B[38;5;28mself\u001B[39m\u001B[38;5;241m.\u001B[39maccelerator\u001B[38;5;241m.\u001B[39mdistributed_type \u001B[38;5;241m!=\u001B[39m DistributedType\u001B[38;5;241m.\u001B[39mDEEPSPEED\n\u001B[0;32m   2545\u001B[0m     \u001B[38;5;28;01melse\u001B[39;00m contextlib\u001B[38;5;241m.\u001B[39mnullcontext\n\u001B[0;32m   2546\u001B[0m )\n\u001B[0;32m   2547\u001B[0m \u001B[38;5;28;01mwith\u001B[39;00m context():\n\u001B[1;32m-> 2548\u001B[0m     tr_loss_step \u001B[38;5;241m=\u001B[39m \u001B[38;5;28;43mself\u001B[39;49m\u001B[38;5;241;43m.\u001B[39;49m\u001B[43mtraining_step\u001B[49m\u001B[43m(\u001B[49m\u001B[43mmodel\u001B[49m\u001B[43m,\u001B[49m\u001B[43m \u001B[49m\u001B[43minputs\u001B[49m\u001B[43m,\u001B[49m\u001B[43m \u001B[49m\u001B[43mnum_items_in_batch\u001B[49m\u001B[43m)\u001B[49m\n\u001B[0;32m   2550\u001B[0m \u001B[38;5;28;01mif\u001B[39;00m (\n\u001B[0;32m   2551\u001B[0m     args\u001B[38;5;241m.\u001B[39mlogging_nan_inf_filter\n\u001B[0;32m   2552\u001B[0m     \u001B[38;5;129;01mand\u001B[39;00m \u001B[38;5;129;01mnot\u001B[39;00m is_torch_xla_available()\n\u001B[0;32m   2553\u001B[0m     \u001B[38;5;129;01mand\u001B[39;00m (torch\u001B[38;5;241m.\u001B[39misnan(tr_loss_step) \u001B[38;5;129;01mor\u001B[39;00m torch\u001B[38;5;241m.\u001B[39misinf(tr_loss_step))\n\u001B[0;32m   2554\u001B[0m ):\n\u001B[0;32m   2555\u001B[0m     \u001B[38;5;66;03m# if loss is nan or inf simply add the average of previous logged losses\u001B[39;00m\n\u001B[0;32m   2556\u001B[0m     tr_loss \u001B[38;5;241m=\u001B[39m tr_loss \u001B[38;5;241m+\u001B[39m tr_loss \u001B[38;5;241m/\u001B[39m (\u001B[38;5;241m1\u001B[39m \u001B[38;5;241m+\u001B[39m \u001B[38;5;28mself\u001B[39m\u001B[38;5;241m.\u001B[39mstate\u001B[38;5;241m.\u001B[39mglobal_step \u001B[38;5;241m-\u001B[39m \u001B[38;5;28mself\u001B[39m\u001B[38;5;241m.\u001B[39m_globalstep_last_logged)\n",
      "File \u001B[1;32m~\\Desktop\\NLP_CW\\venv\\Lib\\site-packages\\transformers\\trainer.py:3740\u001B[0m, in \u001B[0;36mTrainer.training_step\u001B[1;34m(***failed resolving arguments***)\u001B[0m\n\u001B[0;32m   3737\u001B[0m \u001B[38;5;28;01mif\u001B[39;00m \u001B[38;5;28mself\u001B[39m\u001B[38;5;241m.\u001B[39maccelerator\u001B[38;5;241m.\u001B[39mdistributed_type \u001B[38;5;241m==\u001B[39m DistributedType\u001B[38;5;241m.\u001B[39mDEEPSPEED:\n\u001B[0;32m   3738\u001B[0m     kwargs[\u001B[38;5;124m\"\u001B[39m\u001B[38;5;124mscale_wrt_gas\u001B[39m\u001B[38;5;124m\"\u001B[39m] \u001B[38;5;241m=\u001B[39m \u001B[38;5;28;01mFalse\u001B[39;00m\n\u001B[1;32m-> 3740\u001B[0m \u001B[38;5;28;43mself\u001B[39;49m\u001B[38;5;241;43m.\u001B[39;49m\u001B[43maccelerator\u001B[49m\u001B[38;5;241;43m.\u001B[39;49m\u001B[43mbackward\u001B[49m\u001B[43m(\u001B[49m\u001B[43mloss\u001B[49m\u001B[43m,\u001B[49m\u001B[43m \u001B[49m\u001B[38;5;241;43m*\u001B[39;49m\u001B[38;5;241;43m*\u001B[39;49m\u001B[43mkwargs\u001B[49m\u001B[43m)\u001B[49m\n\u001B[0;32m   3742\u001B[0m \u001B[38;5;28;01mreturn\u001B[39;00m loss\u001B[38;5;241m.\u001B[39mdetach()\n",
      "File \u001B[1;32m~\\Desktop\\NLP_CW\\venv\\Lib\\site-packages\\accelerate\\accelerator.py:2329\u001B[0m, in \u001B[0;36mAccelerator.backward\u001B[1;34m(self, loss, **kwargs)\u001B[0m\n\u001B[0;32m   2327\u001B[0m     \u001B[38;5;28mself\u001B[39m\u001B[38;5;241m.\u001B[39mlomo_backward(loss, learning_rate)\n\u001B[0;32m   2328\u001B[0m \u001B[38;5;28;01melse\u001B[39;00m:\n\u001B[1;32m-> 2329\u001B[0m     \u001B[43mloss\u001B[49m\u001B[38;5;241;43m.\u001B[39;49m\u001B[43mbackward\u001B[49m\u001B[43m(\u001B[49m\u001B[38;5;241;43m*\u001B[39;49m\u001B[38;5;241;43m*\u001B[39;49m\u001B[43mkwargs\u001B[49m\u001B[43m)\u001B[49m\n",
      "File \u001B[1;32m~\\Desktop\\NLP_CW\\venv\\Lib\\site-packages\\torch\\_tensor.py:626\u001B[0m, in \u001B[0;36mTensor.backward\u001B[1;34m(self, gradient, retain_graph, create_graph, inputs)\u001B[0m\n\u001B[0;32m    616\u001B[0m \u001B[38;5;28;01mif\u001B[39;00m has_torch_function_unary(\u001B[38;5;28mself\u001B[39m):\n\u001B[0;32m    617\u001B[0m     \u001B[38;5;28;01mreturn\u001B[39;00m handle_torch_function(\n\u001B[0;32m    618\u001B[0m         Tensor\u001B[38;5;241m.\u001B[39mbackward,\n\u001B[0;32m    619\u001B[0m         (\u001B[38;5;28mself\u001B[39m,),\n\u001B[1;32m   (...)\u001B[0m\n\u001B[0;32m    624\u001B[0m         inputs\u001B[38;5;241m=\u001B[39minputs,\n\u001B[0;32m    625\u001B[0m     )\n\u001B[1;32m--> 626\u001B[0m \u001B[43mtorch\u001B[49m\u001B[38;5;241;43m.\u001B[39;49m\u001B[43mautograd\u001B[49m\u001B[38;5;241;43m.\u001B[39;49m\u001B[43mbackward\u001B[49m\u001B[43m(\u001B[49m\n\u001B[0;32m    627\u001B[0m \u001B[43m    \u001B[49m\u001B[38;5;28;43mself\u001B[39;49m\u001B[43m,\u001B[49m\u001B[43m \u001B[49m\u001B[43mgradient\u001B[49m\u001B[43m,\u001B[49m\u001B[43m \u001B[49m\u001B[43mretain_graph\u001B[49m\u001B[43m,\u001B[49m\u001B[43m \u001B[49m\u001B[43mcreate_graph\u001B[49m\u001B[43m,\u001B[49m\u001B[43m \u001B[49m\u001B[43minputs\u001B[49m\u001B[38;5;241;43m=\u001B[39;49m\u001B[43minputs\u001B[49m\n\u001B[0;32m    628\u001B[0m \u001B[43m\u001B[49m\u001B[43m)\u001B[49m\n",
      "File \u001B[1;32m~\\Desktop\\NLP_CW\\venv\\Lib\\site-packages\\torch\\autograd\\__init__.py:347\u001B[0m, in \u001B[0;36mbackward\u001B[1;34m(tensors, grad_tensors, retain_graph, create_graph, grad_variables, inputs)\u001B[0m\n\u001B[0;32m    342\u001B[0m     retain_graph \u001B[38;5;241m=\u001B[39m create_graph\n\u001B[0;32m    344\u001B[0m \u001B[38;5;66;03m# The reason we repeat the same comment below is that\u001B[39;00m\n\u001B[0;32m    345\u001B[0m \u001B[38;5;66;03m# some Python versions print out the first line of a multi-line function\u001B[39;00m\n\u001B[0;32m    346\u001B[0m \u001B[38;5;66;03m# calls in the traceback and some print out the last line\u001B[39;00m\n\u001B[1;32m--> 347\u001B[0m \u001B[43m_engine_run_backward\u001B[49m\u001B[43m(\u001B[49m\n\u001B[0;32m    348\u001B[0m \u001B[43m    \u001B[49m\u001B[43mtensors\u001B[49m\u001B[43m,\u001B[49m\n\u001B[0;32m    349\u001B[0m \u001B[43m    \u001B[49m\u001B[43mgrad_tensors_\u001B[49m\u001B[43m,\u001B[49m\n\u001B[0;32m    350\u001B[0m \u001B[43m    \u001B[49m\u001B[43mretain_graph\u001B[49m\u001B[43m,\u001B[49m\n\u001B[0;32m    351\u001B[0m \u001B[43m    \u001B[49m\u001B[43mcreate_graph\u001B[49m\u001B[43m,\u001B[49m\n\u001B[0;32m    352\u001B[0m \u001B[43m    \u001B[49m\u001B[43minputs\u001B[49m\u001B[43m,\u001B[49m\n\u001B[0;32m    353\u001B[0m \u001B[43m    \u001B[49m\u001B[43mallow_unreachable\u001B[49m\u001B[38;5;241;43m=\u001B[39;49m\u001B[38;5;28;43;01mTrue\u001B[39;49;00m\u001B[43m,\u001B[49m\n\u001B[0;32m    354\u001B[0m \u001B[43m    \u001B[49m\u001B[43maccumulate_grad\u001B[49m\u001B[38;5;241;43m=\u001B[39;49m\u001B[38;5;28;43;01mTrue\u001B[39;49;00m\u001B[43m,\u001B[49m\n\u001B[0;32m    355\u001B[0m \u001B[43m\u001B[49m\u001B[43m)\u001B[49m\n",
      "File \u001B[1;32m~\\Desktop\\NLP_CW\\venv\\Lib\\site-packages\\torch\\autograd\\graph.py:823\u001B[0m, in \u001B[0;36m_engine_run_backward\u001B[1;34m(t_outputs, *args, **kwargs)\u001B[0m\n\u001B[0;32m    821\u001B[0m     unregister_hooks \u001B[38;5;241m=\u001B[39m _register_logging_hooks_on_whole_graph(t_outputs)\n\u001B[0;32m    822\u001B[0m \u001B[38;5;28;01mtry\u001B[39;00m:\n\u001B[1;32m--> 823\u001B[0m     \u001B[38;5;28;01mreturn\u001B[39;00m \u001B[43mVariable\u001B[49m\u001B[38;5;241;43m.\u001B[39;49m\u001B[43m_execution_engine\u001B[49m\u001B[38;5;241;43m.\u001B[39;49m\u001B[43mrun_backward\u001B[49m\u001B[43m(\u001B[49m\u001B[43m  \u001B[49m\u001B[38;5;66;43;03m# Calls into the C++ engine to run the backward pass\u001B[39;49;00m\n\u001B[0;32m    824\u001B[0m \u001B[43m        \u001B[49m\u001B[43mt_outputs\u001B[49m\u001B[43m,\u001B[49m\u001B[43m \u001B[49m\u001B[38;5;241;43m*\u001B[39;49m\u001B[43margs\u001B[49m\u001B[43m,\u001B[49m\u001B[43m \u001B[49m\u001B[38;5;241;43m*\u001B[39;49m\u001B[38;5;241;43m*\u001B[39;49m\u001B[43mkwargs\u001B[49m\n\u001B[0;32m    825\u001B[0m \u001B[43m    \u001B[49m\u001B[43m)\u001B[49m  \u001B[38;5;66;03m# Calls into the C++ engine to run the backward pass\u001B[39;00m\n\u001B[0;32m    826\u001B[0m \u001B[38;5;28;01mfinally\u001B[39;00m:\n\u001B[0;32m    827\u001B[0m     \u001B[38;5;28;01mif\u001B[39;00m attach_logging_hooks:\n",
      "\u001B[1;31mKeyboardInterrupt\u001B[0m: "
     ]
    }
   ],
   "execution_count": 20
  },
  {
   "metadata": {
    "ExecuteTime": {
     "end_time": "2025-03-01T17:51:28.863640700Z",
     "start_time": "2025-03-01T16:39:41.162350Z"
    }
   },
   "cell_type": "code",
   "source": [
    "all_predictions = []\n",
    "for model in ensemble_models:\n",
    "    model.eval()\n",
    "    preds = []\n",
    "    with torch.no_grad():\n",
    "        for batch in test_loader:  # val_loader is a DataLoader object\n",
    "            input_ids = batch[0].to(device)\n",
    "            attention_mask = batch[1].to(device)\n",
    "            outputs = model(input_ids=input_ids, attention_mask=attention_mask)\n",
    "            batch_preds = torch.argmax(outputs.logits, dim=1).cpu().numpy()\n",
    "            preds.extend(batch_preds)\n",
    "    all_predictions.append(preds)\n",
    "\n",
    "# Transpose and vote\n",
    "all_predictions = np.array(all_predictions)  # shape: (num_models, num_examples)\n",
    "ensemble_preds = []\n",
    "for j in range(all_predictions.shape[1]):\n",
    "    votes = np.sum(all_predictions[:, j])\n",
    "    ensemble_preds.append(1 if votes > len(ensemble_models) / 2 else 0)\n",
    "\n",
    "# We need the original validation DataFrame for labels and paragraph IDs\n",
    "test_labels = test_df['label'].values  # Use val_df, not val_loader\n",
    "dev_f1 = f1_score(test_labels, ensemble_preds, average='binary')\n",
    "print(f\"Best Local Test F1 = {dev_f1:.4f}\")\n",
    "\n",
    "# Save predictions to files using the original DataFrames\n",
    "with open(\"predictions_dev_test.txt\", \"w\") as f:\n",
    "    for pred in ensemble_preds:\n",
    "        f.write(f\"{pred}\\n\")\n",
    "\n",
    "print(\"Prediction files generated: predictions_dev_test.txt\")"
   ],
   "id": "118be6b2a5a2edeb",
   "outputs": [
    {
     "name": "stdout",
     "output_type": "stream",
     "text": [
      "Ensemble Local Test F1 = 0.6010\n",
      "Prediction files generated: predictions_dev_test.txt\n"
     ]
    }
   ],
   "execution_count": 26
  },
  {
   "metadata": {
    "ExecuteTime": {
     "end_time": "2025-03-01T17:51:28.875642300Z",
     "start_time": "2025-03-01T16:40:24.138237Z"
    }
   },
   "cell_type": "code",
   "source": [
    "# After making your ensemble predictions:\n",
    "incorrect_indices = []\n",
    "incorrect_examples = []\n",
    "\n",
    "for i, (true, pred) in enumerate(zip(test_labels, ensemble_preds)):\n",
    "    if true != pred:\n",
    "        incorrect_indices.append(i)\n",
    "        incorrect_examples.append({\n",
    "            'par_id': test_df['par_id'].iloc[i],\n",
    "            'paragraph': test_df['paragraph'].iloc[i],\n",
    "            'true_label': true,\n",
    "            'predicted': pred\n",
    "        })\n",
    "\n",
    "# Create a DataFrame with incorrect examples\n",
    "incorrect_df = pd.DataFrame(incorrect_examples)\n",
    "\n",
    "# Save to file\n",
    "incorrect_df.to_csv(\"incorrect_predictions.csv\", index=False)\n",
    "\n",
    "# Print summary\n",
    "print(f\"Found {len(incorrect_indices)} incorrect predictions out of {len(test_labels)} examples ({len(incorrect_indices)/len(test_labels)*100:.2f}%)\")\n",
    "\n",
    "# Print some examples if desired\n",
    "print(\"\\nSample incorrect predictions:\")\n",
    "for i, example in enumerate(incorrect_examples[:5]):  # Show first 5\n",
    "    print(f\"Example {i+1}:\")\n",
    "    print(f\"ID: {example['par_id']}\")\n",
    "    print(f\"Text: {example['paragraph'][:100]}...\" if len(example['paragraph']) > 100 else example['paragraph'])\n",
    "    print(f\"True label: {example['true_label']}, Predicted: {example['predicted']}\")\n",
    "    print(\"-\" * 50)\n",
    "\n",
    "from sklearn.metrics import classification_report, confusion_matrix\n",
    "\n",
    "# Print detailed metrics\n",
    "print(classification_report(test_labels, ensemble_preds))\n",
    "\n",
    "# Show confusion matrix\n",
    "print(confusion_matrix(test_labels, ensemble_preds))\n",
    "\n",
    "# Check class distribution\n",
    "print(f\"Class distribution in test set: {np.unique(test_labels, return_counts=True)}\")"
   ],
   "id": "cba03b89fb36af92",
   "outputs": [
    {
     "name": "stdout",
     "output_type": "stream",
     "text": [
      "Found 81 incorrect predictions out of 1047 examples (7.74%)\n",
      "\n",
      "Sample incorrect predictions:\n",
      "Example 1:\n",
      "ID: 3901\n",
      "Text: \" The national and county governments must work together to improve the lives of the disabled , \" sa...\n",
      "True label: 0, Predicted: 1\n",
      "--------------------------------------------------\n",
      "Example 2:\n",
      "ID: 6890\n",
      "Alexis and her family decided to donate more than 400 of those presents to children in need .\n",
      "True label: 0, Predicted: 1\n",
      "--------------------------------------------------\n",
      "Example 3:\n",
      "ID: 9505\n",
      "Text: I mention these moments to highlight and illustrate the potential that young people have to change o...\n",
      "True label: 0, Predicted: 1\n",
      "--------------------------------------------------\n",
      "Example 4:\n",
      "ID: 2679\n",
      "Text: She was speaking at Colours of Cape Town , a night of solidarity between Cape Town 's LGBTI and immi...\n",
      "True label: 0, Predicted: 1\n",
      "--------------------------------------------------\n",
      "Example 5:\n",
      "ID: 4393\n",
      "Text: The law stipulated 21 rights of the disabled persons . The disabled persons must get the national id...\n",
      "True label: 1, Predicted: 0\n",
      "--------------------------------------------------\n",
      "              precision    recall  f1-score   support\n",
      "\n",
      "           0       0.96      0.96      0.96       947\n",
      "           1       0.59      0.61      0.60       100\n",
      "\n",
      "    accuracy                           0.92      1047\n",
      "   macro avg       0.78      0.78      0.78      1047\n",
      "weighted avg       0.92      0.92      0.92      1047\n",
      "\n",
      "[[905  42]\n",
      " [ 39  61]]\n",
      "Class distribution in test set: (array([0, 1]), array([947, 100]))\n"
     ]
    }
   ],
   "execution_count": 27
  },
  {
   "metadata": {
    "ExecuteTime": {
     "end_time": "2025-03-01T17:51:28.876642100Z",
     "start_time": "2025-03-01T16:54:53.076217Z"
    }
   },
   "cell_type": "code",
   "source": [
    "final_test_without_predictions = pd.read_csv('./data/task4_test.tsv', sep='\\t', header=None,\n",
    "                    names=[\"par_id\", \"art_id\", \"keyword\", \"country\", \"paragraph\"], skiprows=0)\n",
    "print(final_test_without_predictions.head())\n",
    "print(final_test_without_predictions.info())\n",
    "\n",
    "final_test_without_predictions = final_test_without_predictions.dropna(subset=['paragraph'])\n",
    "final_test_without_predictions['paragraph'] = final_test_without_predictions['paragraph'].astype(str)\n",
    "\n",
    "final_test_loader = build_dataloader(final_test_without_predictions, tokenizer, batch_size=BATCH_SIZE, shuffle=False)\n",
    "\n",
    "all_final_test_preds = []\n",
    "\n",
    "for model in ensemble_models:\n",
    "    model.eval()\n",
    "    preds = []\n",
    "    with torch.no_grad():\n",
    "        for batch in final_test_loader:  # val_loader is a DataLoader object\n",
    "            input_ids = batch[0].to(device)\n",
    "            attention_mask = batch[1].to(device)\n",
    "            outputs = model(input_ids=input_ids, attention_mask=attention_mask)\n",
    "            batch_preds = torch.argmax(outputs.logits, dim=1).cpu().numpy()\n",
    "            preds.extend(batch_preds)\n",
    "    all_final_test_preds.append(preds)\n",
    "\n",
    "# Transpose and vote\n",
    "all_final_test_preds = np.array(all_final_test_preds)  # shape: (num_models, num_examples)\n",
    "ensemble_final_test_preds = []\n",
    "for j in range(all_final_test_preds.shape[1]):\n",
    "    votes = np.sum(all_final_test_preds[:, j])\n",
    "    ensemble_final_test_preds.append(1 if votes > len(ensemble_models) / 2 else 0)\n",
    "\n",
    "# Save predictions to files using the original DataFrames\n",
    "with open(\"test.txt\", \"w\") as f:\n",
    "    for pred in ensemble_final_test_preds:\n",
    "        f.write(f\"{pred}\\n\")"
   ],
   "id": "db4cd1f6228aebbf",
   "outputs": [
    {
     "name": "stdout",
     "output_type": "stream",
     "text": [
      "  par_id      art_id     keyword country  \\\n",
      "0    t_0   @@7258997  vulnerable      us   \n",
      "1    t_1  @@16397324       women      pk   \n",
      "2    t_2  @@16257812     migrant      ca   \n",
      "3    t_3   @@3509652     migrant      gb   \n",
      "4    t_4    @@477506  vulnerable      ca   \n",
      "\n",
      "                                           paragraph  \n",
      "0  In the meantime , conservatives are working to...  \n",
      "1  In most poor households with no education chil...  \n",
      "2  The real question is not whether immigration i...  \n",
      "3  In total , the country 's immigrant population...  \n",
      "4  Members of the church , which is part of Ken C...  \n",
      "<class 'pandas.core.frame.DataFrame'>\n",
      "RangeIndex: 3832 entries, 0 to 3831\n",
      "Data columns (total 5 columns):\n",
      " #   Column     Non-Null Count  Dtype \n",
      "---  ------     --------------  ----- \n",
      " 0   par_id     3832 non-null   object\n",
      " 1   art_id     3832 non-null   object\n",
      " 2   keyword    3832 non-null   object\n",
      " 3   country    3832 non-null   object\n",
      " 4   paragraph  3832 non-null   object\n",
      "dtypes: object(5)\n",
      "memory usage: 149.8+ KB\n",
      "None\n"
     ]
    },
    {
     "ename": "AttributeError",
     "evalue": "'numpy.ndarray' object has no attribute 'append'",
     "output_type": "error",
     "traceback": [
      "\u001B[1;31m---------------------------------------------------------------------------\u001B[0m",
      "\u001B[1;31mAttributeError\u001B[0m                            Traceback (most recent call last)",
      "Cell \u001B[1;32mIn[33], line 23\u001B[0m\n\u001B[0;32m     21\u001B[0m             batch_preds \u001B[38;5;241m=\u001B[39m torch\u001B[38;5;241m.\u001B[39margmax(outputs\u001B[38;5;241m.\u001B[39mlogits, dim\u001B[38;5;241m=\u001B[39m\u001B[38;5;241m1\u001B[39m)\u001B[38;5;241m.\u001B[39mcpu()\u001B[38;5;241m.\u001B[39mnumpy()\n\u001B[0;32m     22\u001B[0m             preds\u001B[38;5;241m.\u001B[39mextend(batch_preds)\n\u001B[1;32m---> 23\u001B[0m     \u001B[43mall_dev_test_preds\u001B[49m\u001B[38;5;241;43m.\u001B[39;49m\u001B[43mappend\u001B[49m(preds)\n\u001B[0;32m     25\u001B[0m \u001B[38;5;66;03m# Transpose and vote\u001B[39;00m\n\u001B[0;32m     26\u001B[0m all_final_test_preds \u001B[38;5;241m=\u001B[39m np\u001B[38;5;241m.\u001B[39marray(all_final_test_preds)  \u001B[38;5;66;03m# shape: (num_models, num_examples)\u001B[39;00m\n",
      "\u001B[1;31mAttributeError\u001B[0m: 'numpy.ndarray' object has no attribute 'append'"
     ]
    }
   ],
   "execution_count": 33
  },
  {
   "metadata": {
    "ExecuteTime": {
     "end_time": "2025-03-01T17:51:28.877642300Z",
     "start_time": "2025-03-01T16:40:24.243319Z"
    }
   },
   "cell_type": "code",
   "source": [
    "import random\n",
    "import numpy as np\n",
    "import torch\n",
    "import pandas as pd\n",
    "\n",
    "from sklearn.feature_extraction.text import CountVectorizer\n",
    "from sklearn.naive_bayes import MultinomialNB\n",
    "from sklearn.metrics import f1_score\n",
    "from sklearn.utils import shuffle\n",
    "\n",
    "###################################################\n",
    "# REUSABLE UTILITIES (SEEDING, ETC.)\n",
    "###################################################\n",
    "def set_seed(seed):\n",
    "    random.seed(seed)\n",
    "    np.random.seed(seed)\n",
    "    torch.manual_seed(seed)\n",
    "    torch.cuda.manual_seed_all(seed)\n",
    "\n",
    "###################################################\n",
    "# BOW BASELINE IMPLEMENTATION\n",
    "###################################################\n",
    "def train_bow_baseline(train_df, val_df, seed=42):\n",
    "    \"\"\"\n",
    "    Trains a simple Naïve Bayes Bag-of-Words baseline.\n",
    "\n",
    "    :param train_df: A pandas DataFrame with columns ['paragraph', 'label']\n",
    "    :param val_df: A pandas DataFrame with columns ['paragraph', 'label']\n",
    "    :param seed: Random seed for reproducibility\n",
    "    :return: A tuple (vectorizer, model) of the trained baseline\n",
    "    \"\"\"\n",
    "\n",
    "    # Ensure reproducibility\n",
    "    set_seed(seed)\n",
    "\n",
    "    # Shuffle data (optional, but often good practice)\n",
    "    train_df = shuffle(train_df, random_state=seed).reset_index(drop=True)\n",
    "    val_df = shuffle(val_df, random_state=seed).reset_index(drop=True)\n",
    "\n",
    "    # Separate features and labels\n",
    "    X_train = train_df['paragraph'].tolist()\n",
    "    y_train = train_df['label'].values\n",
    "    X_val = val_df['paragraph'].tolist()\n",
    "    y_val = val_df['label'].values\n",
    "\n",
    "    # Create a CountVectorizer (Bag-of-Words)\n",
    "    vectorizer = CountVectorizer(\n",
    "        lowercase=True,\n",
    "        stop_words='english',  # optional; can remove if you want exact BOW\n",
    "        max_features=10000     # limit vocab size if needed\n",
    "    )\n",
    "\n",
    "    # Fit vectorizer on training data, then transform both train and val\n",
    "    X_train_vec = vectorizer.fit_transform(X_train)\n",
    "    X_val_vec = vectorizer.transform(X_val)\n",
    "\n",
    "    # Define a simple MultinomialNB model\n",
    "    model = MultinomialNB()\n",
    "\n",
    "    # Train the model\n",
    "    model.fit(X_train_vec, y_train)\n",
    "\n",
    "    # Predict on validation set\n",
    "    val_preds = model.predict(X_val_vec)\n",
    "    val_f1 = f1_score(y_val, val_preds, average='binary')\n",
    "\n",
    "    print(f\"[BoW Baseline] Validation F1 = {val_f1:.4f}\")\n",
    "\n",
    "    return vectorizer, model\n",
    "\n",
    "vec, model = train_bow_baseline(train_df, val_df, seed=42)\n",
    "\n",
    "with torch.no_grad():\n",
    "    # Predict on test set\n",
    "    X_test = test_df['paragraph'].tolist()\n",
    "    y_test = test_df['label'].values\n",
    "    X_test_vec = vec.transform(X_test)\n",
    "    test_preds = model.predict(X_test_vec)\n",
    "    test_f1 = f1_score(y_test, test_preds, average='binary')\n",
    "\n",
    "    print(f\"[BoW Baseline] Test F1 = {test_f1:.4f}\")\n"
   ],
   "id": "ab658da4be327292",
   "outputs": [
    {
     "name": "stdout",
     "output_type": "stream",
     "text": [
      "[BoW Baseline] Validation F1 = 0.5978\n",
      "[BoW Baseline] Test F1 = 0.5967\n"
     ]
    }
   ],
   "execution_count": 28
  },
  {
   "metadata": {
    "ExecuteTime": {
     "end_time": "2025-03-01T17:51:28.877642300Z",
     "start_time": "2025-03-01T16:41:56.336425Z"
    }
   },
   "cell_type": "code",
   "source": [
    "import random\n",
    "import numpy as np\n",
    "import torch\n",
    "import pandas as pd\n",
    "\n",
    "from sklearn.feature_extraction.text import TfidfVectorizer\n",
    "from sklearn.linear_model import LogisticRegression\n",
    "from sklearn.metrics import f1_score\n",
    "from sklearn.utils import shuffle\n",
    "\n",
    "###################################################\n",
    "# TF–IDF + LOGISTIC REGRESSION BASELINE\n",
    "###################################################\n",
    "def train_lr_tfidf_baseline(train_df, val_df, seed=42):\n",
    "    \"\"\"\n",
    "    Trains a simple Logistic Regression baseline with TF–IDF features.\n",
    "\n",
    "    :param train_df: A pandas DataFrame with columns ['paragraph', 'label']\n",
    "    :param val_df:   A pandas DataFrame with columns ['paragraph', 'label']\n",
    "    :param seed:     Random seed for reproducibility\n",
    "    :return: A tuple (vectorizer, model) of the trained baseline\n",
    "    \"\"\"\n",
    "\n",
    "    # Ensure reproducibility\n",
    "    set_seed(seed)\n",
    "\n",
    "    # Shuffle data (optional)\n",
    "    train_df = shuffle(train_df, random_state=seed).reset_index(drop=True)\n",
    "    val_df = shuffle(val_df, random_state=seed).reset_index(drop=True)\n",
    "\n",
    "    # Separate features and labels\n",
    "    X_train = train_df['paragraph'].tolist()\n",
    "    y_train = train_df['label'].values\n",
    "    X_val = val_df['paragraph'].tolist()\n",
    "    y_val = val_df['label'].values\n",
    "\n",
    "    # Create a TfidfVectorizer\n",
    "    vectorizer = TfidfVectorizer(\n",
    "        lowercase=True,\n",
    "        stop_words='english',   # Remove common English stopwords\n",
    "        max_features=10000      # Limit vocab size if needed\n",
    "    )\n",
    "\n",
    "    # Fit TF-IDF on training data, then transform both train and val\n",
    "    X_train_vec = vectorizer.fit_transform(X_train)\n",
    "    X_val_vec = vectorizer.transform(X_val)\n",
    "\n",
    "    # Define Logistic Regression model\n",
    "    model = LogisticRegression(\n",
    "        penalty='l2',\n",
    "        C=1.0,             # Regularization strength\n",
    "        class_weight=None, # or 'balanced' if needed for imbalanced data\n",
    "        random_state=seed,\n",
    "        max_iter=200       # Increase if you encounter convergence warnings\n",
    "    )\n",
    "\n",
    "    # Train (fit) the model\n",
    "    model.fit(X_train_vec, y_train)\n",
    "\n",
    "    # Predict on validation set\n",
    "    val_preds = model.predict(X_val_vec)\n",
    "    val_f1 = f1_score(y_val, val_preds, average='binary')\n",
    "\n",
    "    print(f\"[LR+TF–IDF Baseline] Validation F1 = {val_f1:.4f}\")\n",
    "\n",
    "    return vectorizer, model\n",
    "\n",
    "vec, model = train_lr_tfidf_baseline(train_df, val_df, seed=42)\n",
    "\n",
    "with torch.no_grad():\n",
    "    # Predict on test set\n",
    "    X_test = test_df['paragraph'].tolist()\n",
    "    y_test = test_df['label'].values\n",
    "    X_test_vec = vec.transform(X_test)\n",
    "    test_preds = model.predict(X_test_vec)\n",
    "    test_f1 = f1_score(y_test, test_preds, average='binary')\n",
    "\n",
    "    print(f\"[LR+TF–IDF Baseline] Test F1 = {test_f1:.4f}\")\n"
   ],
   "id": "23bb386ae95d0c57",
   "outputs": [
    {
     "name": "stdout",
     "output_type": "stream",
     "text": [
      "[LR+TF–IDF Baseline] Validation F1 = 0.0769\n",
      "[LR+TF–IDF Baseline] Test F1 = 0.0198\n"
     ]
    }
   ],
   "execution_count": 30
  },
  {
   "metadata": {},
   "cell_type": "code",
   "outputs": [],
   "execution_count": null,
   "source": "",
   "id": "b8e85db77e7fe391"
  },
  {
   "metadata": {},
   "cell_type": "code",
   "outputs": [],
   "execution_count": null,
   "source": "",
   "id": "42cf06c10ce4ff58"
  }
 ],
 "metadata": {
  "kernelspec": {
   "name": "python3",
   "language": "python",
   "display_name": "Python 3 (ipykernel)"
  }
 },
 "nbformat": 5,
 "nbformat_minor": 9
}
