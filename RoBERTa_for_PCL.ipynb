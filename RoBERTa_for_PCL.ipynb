{
 "cells": [
  {
   "metadata": {
    "ExecuteTime": {
     "end_time": "2025-02-21T15:32:44.308588Z",
     "start_time": "2025-02-21T15:32:34.529938Z"
    }
   },
   "cell_type": "code",
   "source": [
    "from doctest import testsource\n",
    "\n",
    "import pandas as pd\n",
    "import numpy as np\n",
    "import random, copy\n",
    "import torch\n",
    "import torch.nn as nn\n",
    "from torch.utils.data import DataLoader, TensorDataset\n",
    "from transformers import AutoTokenizer, AutoModelForSequenceClassification, get_linear_schedule_with_warmup, \\\n",
    "    pipeline\n",
    "from torch.optim import AdamW\n",
    "from sklearn.metrics import f1_score\n",
    "from sklearn.utils import resample\n",
    "import nltk\n",
    "from nltk.corpus import wordnet, stopwords\n",
    "from transformers import logging\n",
    "import matplotlib.pyplot as plt\n",
    "import os\n",
    "\n",
    "logging.set_verbosity_error()\n",
    "\n",
    "# Download NLTK data (WordNet for synonyms, stopwords list)\n",
    "nltk.download('wordnet')\n",
    "nltk.download('stopwords')\n",
    "# Data augmentation: Synonym Replacement\n",
    "stop_words = set(stopwords.words('english'))\n",
    "\n",
    "device = torch.device('cuda' if torch.cuda.is_available() else 'cpu')\n",
    "print(f\"Using device: {device}\")"
   ],
   "id": "7c8d05df71dcd89c",
   "outputs": [
    {
     "name": "stdout",
     "output_type": "stream",
     "text": [
      "Using device: cuda\n"
     ]
    },
    {
     "name": "stderr",
     "output_type": "stream",
     "text": [
      "[nltk_data] Downloading package wordnet to\n",
      "[nltk_data]     C:\\Users\\yiqin\\AppData\\Roaming\\nltk_data...\n",
      "[nltk_data]   Package wordnet is already up-to-date!\n",
      "[nltk_data] Downloading package stopwords to\n",
      "[nltk_data]     C:\\Users\\yiqin\\AppData\\Roaming\\nltk_data...\n",
      "[nltk_data]   Package stopwords is already up-to-date!\n"
     ]
    }
   ],
   "execution_count": 1
  },
  {
   "metadata": {},
   "cell_type": "markdown",
   "source": [
    "### Load and explore the dataset\n",
    "We load the data and analyze the distribution of labels, paragraph lengths, and label distributions per keyword and country. We also examine some examples of patronizing paragraphs, especially those with label 4 (highly patronizing)."
   ],
   "id": "a02ba5e24eb0d271"
  },
  {
   "metadata": {
    "ExecuteTime": {
     "end_time": "2025-02-21T15:32:44.344288Z",
     "start_time": "2025-02-21T15:32:44.313099Z"
    }
   },
   "cell_type": "code",
   "source": [
    "df = pd.read_csv('./data/dontpatronizeme_pcl.tsv', sep='\\t', header=None,\n",
    "                 names=[\"par_id\", \"art_id\", \"keyword\", \"country\", \"paragraph\", \"orig_label\"], skiprows=4)\n",
    "df['label'] = df['orig_label'].apply(lambda x: 1 if x >= 2 else 0)\n",
    "\n",
    "df.info"
   ],
   "id": "3c877c4330cce04",
   "outputs": [
    {
     "data": {
      "text/plain": [
       "<bound method DataFrame.info of        par_id      art_id     keyword country  \\\n",
       "0           1  @@24942188    hopeless      ph   \n",
       "1           2  @@21968160     migrant      gh   \n",
       "2           3  @@16584954   immigrant      ie   \n",
       "3           4   @@7811231    disabled      nz   \n",
       "4           5   @@1494111     refugee      ca   \n",
       "...       ...         ...         ...     ...   \n",
       "10464   10465  @@14297363       women      lk   \n",
       "10465   10466  @@70091353  vulnerable      ph   \n",
       "10466   10467  @@20282330     in-need      ng   \n",
       "10467   10468  @@16753236    hopeless      in   \n",
       "10468   10469  @@16779383    homeless      ie   \n",
       "\n",
       "                                               paragraph  orig_label  label  \n",
       "0      We 're living in times of absolute insanity , ...           0      0  \n",
       "1      In Libya today , there are countless number of...           0      0  \n",
       "2      White House press secretary Sean Spicer said t...           0      0  \n",
       "3      Council customers only signs would be displaye...           0      0  \n",
       "4      \" Just like we received migrants fleeing El Sa...           0      0  \n",
       "...                                                  ...         ...    ...  \n",
       "10464  Sri Lankan norms and culture inhibit women fro...           1      0  \n",
       "10465  He added that the AFP will continue to bank on...           0      0  \n",
       "10466  \" She has one huge platform , and information ...           3      1  \n",
       "10467  \" Anja Ringgren Loven I ca n't find a word to ...           4      1  \n",
       "10468  \" Guinness World Record of 540lbs of 7-layer m...           3      1  \n",
       "\n",
       "[10469 rows x 7 columns]>"
      ]
     },
     "execution_count": 2,
     "metadata": {},
     "output_type": "execute_result"
    }
   ],
   "execution_count": 2
  },
  {
   "metadata": {
    "ExecuteTime": {
     "end_time": "2025-02-21T15:32:45.967098Z",
     "start_time": "2025-02-21T15:32:45.771238Z"
    }
   },
   "cell_type": "code",
   "source": [
    "# Distribution of original 5 labels (0–4)\n",
    "label_counts = df[\"orig_label\"].value_counts().sort_index()\n",
    "print(label_counts)\n",
    "\n",
    "# Plot distribution\n",
    "label_counts.plot(kind=\"bar\", title=\"Label Distribution (0-4)\")\n",
    "plt.xlabel(\"Label\")\n",
    "plt.ylabel(\"Count\")\n",
    "plt.show()\n",
    "\n",
    "# Convert to binary (0,1), i.e. labels >=2 are PCL\n",
    "binary_counts = df[\"label\"].value_counts()\n",
    "print(\"Binary distribution:\\n\", binary_counts)"
   ],
   "id": "738be0855250c9ac",
   "outputs": [
    {
     "name": "stdout",
     "output_type": "stream",
     "text": [
      "orig_label\n",
      "0    8529\n",
      "1     947\n",
      "2     144\n",
      "3     458\n",
      "4     391\n",
      "Name: count, dtype: int64\n"
     ]
    },
    {
     "data": {
      "text/plain": [
       "<Figure size 640x480 with 1 Axes>"
      ],
      "image/png": "[encoded data removed]"
     },
     "metadata": {},
     "output_type": "display_data"
    },
    {
     "name": "stdout",
     "output_type": "stream",
     "text": [
      "Binary distribution:\n",
      " label\n",
      "0    9476\n",
      "1     993\n",
      "Name: count, dtype: int64\n"
     ]
    }
   ],
   "execution_count": 3
  },
  {
   "metadata": {
    "ExecuteTime": {
     "end_time": "2025-02-21T15:32:46.049765Z",
     "start_time": "2025-02-21T15:32:45.972646Z"
    }
   },
   "cell_type": "code",
   "source": [
    "df[\"str_paragraph\"] = df[\"paragraph\"].astype(str).fillna(\"\")\n",
    "\n",
    "\n",
    "df[\"para_length\"] = df[\"str_paragraph\"].apply(lambda x: len(x.split()))\n",
    "# Group by label, compute mean or median paragraph length\n",
    "length_by_label = df.groupby(\"orig_label\")[\"para_length\"].mean()\n",
    "print(\"Average paragraph length by label:\\n\", length_by_label)\n",
    "\n",
    "# Plot length distributions\n",
    "import seaborn as sns\n",
    "\n",
    "sns.boxplot(x=\"label\", y=\"para_length\", data=df)\n",
    "plt.title(\"Paragraph Length Distribution by Label\")\n",
    "plt.show()\n"
   ],
   "id": "3b837dd44a8099",
   "outputs": [
    {
     "name": "stdout",
     "output_type": "stream",
     "text": [
      "Average paragraph length by label:\n",
      " orig_label\n",
      "0    47.418103\n",
      "1    52.019007\n",
      "2    49.104167\n",
      "3    51.556769\n",
      "4    57.700767\n",
      "Name: para_length, dtype: float64\n"
     ]
    },
    {
     "data": {
      "text/plain": [
       "<Figure size 640x480 with 1 Axes>"
      ],
      "image/png": "[encoded data removed]"
     },
     "metadata": {},
     "output_type": "display_data"
    }
   ],
   "execution_count": 4
  },
  {
   "metadata": {
    "ExecuteTime": {
     "end_time": "2025-02-21T15:32:46.290479Z",
     "start_time": "2025-02-21T15:32:46.054775Z"
    }
   },
   "cell_type": "code",
   "source": [
    "pd.crosstab(df[\"keyword\"], df[\"orig_label\"]).plot(kind=\"bar\", stacked=True, figsize=(10,6))\n",
    "plt.title(\"Label distribution per keyword\")\n",
    "plt.ylabel(\"Count\")\n",
    "plt.show()\n",
    "\n",
    "pd.crosstab(df[\"country\"], df[\"orig_label\"]).plot(kind=\"bar\", stacked=True, figsize=(10,6))\n",
    "plt.title(\"Label distribution per country\")\n",
    "plt.ylabel(\"Count\")\n",
    "plt.show()"
   ],
   "id": "bbfd84c30d789d00",
   "outputs": [
    {
     "data": {
      "text/plain": [
       "<Figure size 1000x600 with 1 Axes>"
      ],
      "image/png": "[encoded data removed]"
     },
     "metadata": {},
     "output_type": "display_data"
    },
    {
     "data": {
      "text/plain": [
       "<Figure size 1000x600 with 1 Axes>"
      ],
      "image/png": "[encoded data removed]"
     },
     "metadata": {},
     "output_type": "display_data"
    }
   ],
   "execution_count": 5
  },
  {
   "metadata": {
    "ExecuteTime": {
     "end_time": "2025-02-21T15:32:46.306609Z",
     "start_time": "2025-02-21T15:32:46.299751Z"
    }
   },
   "cell_type": "code",
   "source": [
    "import random\n",
    "\n",
    "for lbl in [0,1,2,3,4]:\n",
    "    subset = df[df[\"orig_label\"] == lbl]\n",
    "    example = subset.sample(1, random_state=10)\n",
    "    print(f\"\\nLabel {lbl} example:\")\n",
    "    print(example[\"paragraph\"].values[0], \"\\n\")\n",
    "\n",
    "# Note: The data was annotated by multiple annotators (leading to 0–4 labels). Observing paragraphs with label=1 or label=2 often reveals partial disagreements or borderline cases.\n",
    "# Examine paragraphs that were assigned label 4 (highly patronizing). Are they obviously condescending or do they also have borderline tones?\n"
   ],
   "id": "c4897e9bceedcc4b",
   "outputs": [
    {
     "name": "stdout",
     "output_type": "stream",
     "text": [
      "\n",
      "Label 0 example:\n",
      "It was time and again mentioned that Pakistan Squash Federation ( PSF ) must wake up from deep slump and pay proper attention towards women squash , but no heed was paid and the result is evident that except Canadian-based Pakistani Maria , all women squash players were thrown out of the event . The PSF must start work on female squash promotion on war footings , or else just ask females to forget about playing international squash . \n",
      "\n",
      "\n",
      "Label 1 example:\n",
      "The first time MP , who is a holder of Bachelor in Medicine and Bachelor in Surgery from the University of Nairobi , has in the past decried how women often shun disabled man . He is also on record for paying tribute to his wife , a nurse , for taking care of him all though . \n",
      "\n",
      "\n",
      "Label 2 example:\n",
      "\" A mass protest was held in Jaffna at 3 p.m. yesterday against Tamil Nadu politicians Thol . Thiruvmavalavan , T. Velmurugan and Y. Gopalaswamy , who prevented the superstar of Tamil cinema , Rajinikanth , visiting Jaffna to hand-over the keys of 150 houses , built by Lyca , ( a private firm based in London ) to homeless people who had been affected by the separatist war . \" \n",
      "\n",
      "\n",
      "Label 3 example:\n",
      "If in addition ' miracles ' can be orchestrated then the acceptance and reverence become total . In a country where statistics state that unemployment is about 25 per cent but we know it is more like 70 per cent , where the next meal will come from is unpredictable and on a daily basis time just passes by ; it is not far-fetched for women to become prayer warriors for their children , husbands and siblings and are made to blame whatever is happening not on policies of the government but on the machinations of the devil . \n",
      "\n",
      "\n",
      "Label 4 example:\n",
      "There were also many larger events which took place , including a 24-hour long period of Eucharistic adoration and a prayer vigil . Additionally , \" jubilees \" were held which centered on , among others , the sick and disabled , catechists , teenagers , deacons , priests , religious , volunteers of mercy , and most recently , the poor and homeless . \n",
      "\n"
     ]
    }
   ],
   "execution_count": 6
  },
  {
   "metadata": {},
   "cell_type": "markdown",
   "source": [
    "The result shows that the data set is highly imbalanced, with the majority of paragraphs labeled as 0 (not patronizing) and only a small fraction labeled as 1 (patronizing). The average paragraph length is similar across labels.\n",
    "\n",
    "### Data Augmentation and Balancing\n",
    "We will augment the training data by applying two techniques: synonym replacement and back-translation. Synonym replacement replaces words in the text with synonyms, while back-translation translates the text to another language and back to the original language. These techniques can help improve model generalization and robustness."
   ],
   "id": "91d522c806d72760"
  },
  {
   "metadata": {
    "ExecuteTime": {
     "end_time": "2025-02-21T15:32:51.199373Z",
     "start_time": "2025-02-21T15:32:46.313781Z"
    }
   },
   "cell_type": "code",
   "source": [
    "# Set random seeds for reproducibility\n",
    "def set_seed(seed):\n",
    "    random.seed(seed)\n",
    "    np.random.seed(seed)\n",
    "    torch.manual_seed(seed)\n",
    "    torch.cuda.manual_seed_all(seed)\n",
    "\n",
    "def synonym_replacement(sentence, n=1):\n",
    "    words = sentence.split()\n",
    "    new_words = words.copy()\n",
    "    # Identify candidate words (non-stopwords, alphabetic only)\n",
    "    candidates = [i for i, w in enumerate(words) if w.lower() not in stop_words and w.isalpha()]\n",
    "    random.shuffle(candidates)\n",
    "    replaced = 0\n",
    "    for idx in candidates:\n",
    "        if replaced >= n:\n",
    "            break\n",
    "        synonyms = set()\n",
    "        for syn in wordnet.synsets(words[idx]):\n",
    "            for lemma in syn.lemmas():\n",
    "                if lemma.name().lower() != words[idx].lower():\n",
    "                    synonyms.add(lemma.name().replace('_', ' '))\n",
    "        if synonyms:\n",
    "            new_words[idx] = random.choice(list(synonyms))\n",
    "            replaced += 1\n",
    "    return \" \".join(new_words)\n",
    "\n",
    "translator_en_to_es = pipeline(\"translation_en_to_es\", model=\"Helsinki-NLP/opus-mt-en-es\", device=-1)\n",
    "translator_es_to_en = pipeline(\"translation_es_to_en\", model=\"Helsinki-NLP/opus-mt-es-en\", device=-1)\n",
    "\n",
    "def back_translate(sentence):\n",
    "    try:\n",
    "        es_text = translator_en_to_es(sentence, max_length=MAX_LENGTH)[0]['translation_text']\n",
    "        back_text = translator_es_to_en(es_text, max_length=MAX_LENGTH)[0]['translation_text']\n",
    "        return back_text\n",
    "    except Exception as e:\n",
    "        return sentence  # fallback to original if translation fails\n",
    "\n",
    "\n",
    "# Augment training data (apply to minority class samples)\n",
    "def augment_data(df):\n",
    "    augmented_texts = []\n",
    "    augmented_labels = []\n",
    "    for _, row in df[df['label'] == 1].iterrows():\n",
    "        text = row['paragraph']\n",
    "        # Synonym replacement augmentation\n",
    "        aug_text1 = synonym_replacement(text, n=1)\n",
    "        # Back-translation augmentation\n",
    "        aug_text2 = back_translate(text)\n",
    "        augmented_texts.extend([aug_text1, aug_text2])\n",
    "        augmented_labels.extend([1, 1])\n",
    "    aug_df = pd.DataFrame({'paragraph': augmented_texts, 'label': augmented_labels})\n",
    "    # Combine augmented samples with original data\n",
    "    return pd.concat([df, aug_df], ignore_index=True)\n",
    "\n",
    "\n",
    "# Oversample minority class to balance the dataset\n",
    "def oversample_data(df):\n",
    "    df_majority = df[df['label'] == 0]\n",
    "    df_minority = df[df['label'] == 1]\n",
    "    if len(df_minority) == 0 or len(df_majority) == 0:\n",
    "        return df\n",
    "    if len(df_minority) < len(df_majority):\n",
    "        df_minority_upsampled = resample(df_minority, replace=True, n_samples=len(df_majority), random_state=0)\n",
    "        df_balanced = pd.concat([df_majority, df_minority_upsampled], ignore_index=True)\n",
    "    else:\n",
    "        df_majority_upsampled = resample(df_majority, replace=True, n_samples=len(df_minority), random_state=0)\n",
    "        df_balanced = pd.concat([df_minority, df_majority_upsampled], ignore_index=True)\n",
    "    # Shuffle after oversampling\n",
    "    df_balanced = df_balanced.sample(frac=1, random_state=0).reset_index(drop=True)\n",
    "    return df_balanced"
   ],
   "id": "8232ad544cc6916d",
   "outputs": [],
   "execution_count": 7
  },
  {
   "metadata": {
    "ExecuteTime": {
     "end_time": "2025-02-21T15:32:51.221660Z",
     "start_time": "2025-02-21T15:32:51.207410Z"
    }
   },
   "cell_type": "code",
   "source": [
    "from sklearn.model_selection import train_test_split\n",
    "\n",
    "train_df, test_val_df = train_test_split(df, test_size=0.2, stratify=df['label'], random_state=0)\n",
    "test_df, val_df = train_test_split(test_val_df, test_size=0.5, stratify=test_val_df['label'], random_state=0)\n",
    "train_df = train_df.reset_index(drop=True)\n",
    "test_df = test_df.reset_index(drop=True)\n",
    "val_df = val_df.reset_index(drop=True)\n",
    "\n",
    "print(train_df.head())\n",
    "print(train_df.info())"
   ],
   "id": "aa5e3249d75aef6f",
   "outputs": [
    {
     "name": "stdout",
     "output_type": "stream",
     "text": [
      "   par_id      art_id        keyword country  \\\n",
      "0    1046  @@19202846      immigrant      bd   \n",
      "1    3020  @@23325397  poor-families      hk   \n",
      "2    4243   @@8774436        in-need      gb   \n",
      "3    7858   @@8634994     vulnerable      ng   \n",
      "4    2549   @@2688379          women      au   \n",
      "\n",
      "                                           paragraph  orig_label  label  \\\n",
      "0  Many advocates for immigrants say they are hop...           0      0   \n",
      "1  Dozens of children and parents from poor famil...           0      0   \n",
      "2  No one was injured in the incident although th...           0      0   \n",
      "3  \" Owing to this drought and the on-going water...           0      0   \n",
      "4  \" It is only a matter of luck that Ms Stevens ...           1      0   \n",
      "\n",
      "                                       str_paragraph  para_length  \n",
      "0  Many advocates for immigrants say they are hop...           29  \n",
      "1  Dozens of children and parents from poor famil...           67  \n",
      "2  No one was injured in the incident although th...           18  \n",
      "3  \" Owing to this drought and the on-going water...           43  \n",
      "4  \" It is only a matter of luck that Ms Stevens ...           35  \n",
      "<class 'pandas.core.frame.DataFrame'>\n",
      "RangeIndex: 8375 entries, 0 to 8374\n",
      "Data columns (total 9 columns):\n",
      " #   Column         Non-Null Count  Dtype \n",
      "---  ------         --------------  ----- \n",
      " 0   par_id         8375 non-null   int64 \n",
      " 1   art_id         8375 non-null   object\n",
      " 2   keyword        8375 non-null   object\n",
      " 3   country        8375 non-null   object\n",
      " 4   paragraph      8374 non-null   object\n",
      " 5   orig_label     8375 non-null   int64 \n",
      " 6   label          8375 non-null   int64 \n",
      " 7   str_paragraph  8375 non-null   object\n",
      " 8   para_length    8375 non-null   int64 \n",
      "dtypes: int64(4), object(5)\n",
      "memory usage: 589.0+ KB\n",
      "None\n"
     ]
    }
   ],
   "execution_count": 8
  },
  {
   "metadata": {
    "ExecuteTime": {
     "end_time": "2025-02-21T15:32:51.275462Z",
     "start_time": "2025-02-21T15:32:51.232706Z"
    }
   },
   "cell_type": "code",
   "source": [
    "train_df = train_df.dropna(subset=['paragraph'])\n",
    "train_df['paragraph'] = train_df['paragraph'].astype(str)\n",
    "\n",
    "try:\n",
    "\n",
    "    # If you've already saved train_augmented_oversampled.csv\n",
    "    train_df_final = pd.read_csv(\"./example_training_data/train_augmented_oversampled.csv\")\n",
    "    val_df = pd.read_csv(\"./example_training_data/val.csv\")\n",
    "    test_df = pd.read_csv(\"./example_training_data/test.csv\")\n",
    "except:\n",
    "\n",
    "    # Augment and balance training data\n",
    "    train_df_aug = augment_data(train_df)\n",
    "    train_df_final = oversample_data(train_df_aug)\n",
    "    for idx, row in train_df.iterrows():\n",
    "        if not isinstance(row['paragraph'], str):\n",
    "            print(f\"Row {idx} has invalid type: {type(row['paragraph'])}, value = {row['paragraph']}\")\n",
    "\n",
    "    train_df_final.to_csv(\"./example_training_data/train_augmented_oversampled.csv\", index=False)\n",
    "    val_df.to_csv(\"./example_training_data/val.csv\", index=False)\n",
    "    test_df.to_csv(\"./example_training_data/test.csv\", index=False)\n",
    "\n",
    "train_df_final.info\n"
   ],
   "id": "15266e0c0a0398b2",
   "outputs": [
    {
     "data": {
      "text/plain": [
       "<bound method DataFrame.info of         par_id      art_id    keyword country  \\\n",
       "0          NaN         NaN        NaN     NaN   \n",
       "1      10269.0  @@15357075   homeless      gb   \n",
       "2          NaN         NaN        NaN     NaN   \n",
       "3       2214.0  @@24216252  immigrant      ie   \n",
       "4          NaN         NaN        NaN     NaN   \n",
       "...        ...         ...        ...     ...   \n",
       "15155      NaN         NaN        NaN     NaN   \n",
       "15156   7317.0  @@20518391    in-need      in   \n",
       "15157      NaN         NaN        NaN     NaN   \n",
       "15158      NaN         NaN        NaN     NaN   \n",
       "15159   9380.0  @@21676447  immigrant      hk   \n",
       "\n",
       "                                               paragraph  orig_label  label  \n",
       "0      Watching poor families in England writhe in pa...         NaN      1  \n",
       "1      Veterans left on scrapheap : The homeless plig...         4.0      1  \n",
       "2      After a tragic event during his previous life ...         NaN      1  \n",
       "3      Labour said it was \" truly shocking \" that the...         0.0      0  \n",
       "4      He may well have depression and this may have ...         NaN      1  \n",
       "...                                                  ...         ...    ...  \n",
       "15155  Whenever the term ' disabled ' is mentioned , ...         NaN      1  \n",
       "15156  Founded with only 13 members initially in Dece...         0.0      0  \n",
       "15157  Together they will bring more than 70 years of...         NaN      1  \n",
       "15158  \" Every family which qualifies for the program...         NaN      1  \n",
       "15159  The simulation began with officers taking 11 i...         0.0      0  \n",
       "\n",
       "[15160 rows x 7 columns]>"
      ]
     },
     "execution_count": 9,
     "metadata": {},
     "output_type": "execute_result"
    }
   ],
   "execution_count": 9
  },
  {
   "metadata": {
    "ExecuteTime": {
     "end_time": "2025-02-21T15:32:51.374981Z",
     "start_time": "2025-02-21T15:32:51.285805Z"
    }
   },
   "cell_type": "code",
   "source": [
    "# Distribution of original 5 labels (0–4)\n",
    "label_counts = train_df_final[\"label\"].value_counts().sort_index()\n",
    "print(label_counts)\n",
    "\n",
    "# Plot distribution\n",
    "label_counts.plot(kind=\"bar\", title=\"Train set Label Distribution (0-4)\")\n",
    "plt.xlabel(\"Label\")\n",
    "plt.ylabel(\"Count\")\n",
    "plt.show()\n",
    "\n",
    "# Distribution of original 5 labels (0–4)\n",
    "label_counts = test_df[\"label\"].value_counts().sort_index()\n",
    "print(label_counts)\n",
    "\n",
    "# Plot distribution\n",
    "label_counts.plot(kind=\"bar\", title=\"Test set Label Distribution (0-4)\")\n",
    "plt.xlabel(\"Label\")\n",
    "plt.ylabel(\"Count\")\n",
    "plt.show()"
   ],
   "id": "43e2b97eebbd44d3",
   "outputs": [
    {
     "name": "stdout",
     "output_type": "stream",
     "text": [
      "label\n",
      "0    7580\n",
      "1    7580\n",
      "Name: count, dtype: int64\n"
     ]
    },
    {
     "data": {
      "text/plain": [
       "<Figure size 640x480 with 1 Axes>"
      ],
      "image/png": "[encoded data removed]"
     },
     "metadata": {},
     "output_type": "display_data"
    },
    {
     "name": "stdout",
     "output_type": "stream",
     "text": [
      "label\n",
      "0    947\n",
      "1    100\n",
      "Name: count, dtype: int64\n"
     ]
    },
    {
     "data": {
      "text/plain": [
       "<Figure size 640x480 with 1 Axes>"
      ],
      "image/png": "[encoded data removed]"
     },
     "metadata": {},
     "output_type": "display_data"
    }
   ],
   "execution_count": 10
  },
  {
   "metadata": {},
   "cell_type": "markdown",
   "source": [
    "### Training and Evaluation\n",
    "\n"
   ],
   "id": "8f22f029f2b0564"
  },
  {
   "metadata": {
    "ExecuteTime": {
     "end_time": "2025-02-21T15:32:51.402339Z",
     "start_time": "2025-02-21T15:32:51.399334Z"
    }
   },
   "cell_type": "code",
   "source": [
    "MODEL_NAME = 'roberta-base'\n",
    "MAX_LENGTH = 256\n",
    "BATCH_SIZE = 16\n",
    "NUM_EPOCHS = 10\n",
    "PATIENCE = 3\n",
    "WARMUP_PROPORTION = 0.1\n",
    "LR_CANDIDATES = [1e-5, 2e-5, 5e-5]\n",
    "ENSEMBLE_SEEDS = [42, 52, 62]"
   ],
   "id": "bd02f7876324fdb5",
   "outputs": [],
   "execution_count": 11
  },
  {
   "metadata": {
    "ExecuteTime": {
     "end_time": "2025-02-21T15:32:51.431668Z",
     "start_time": "2025-02-21T15:32:51.425739Z"
    }
   },
   "cell_type": "code",
   "source": [
    "# Create DataLoader for a given DataFrame\n",
    "def build_dataloader(df, tokenizer, batch_size, shuffle=False):\n",
    "    texts = list(df['paragraph'])\n",
    "    encodings = tokenizer(texts, padding='max_length', truncation=True, max_length=MAX_LENGTH, return_tensors='pt')\n",
    "    if 'label' in df.columns:\n",
    "        labels = torch.tensor(df['label'].values, dtype=torch.long)\n",
    "        dataset = TensorDataset(encodings['input_ids'], encodings['attention_mask'], labels)\n",
    "    else:\n",
    "        dataset = TensorDataset(encodings['input_ids'], encodings['attention_mask'])\n",
    "    return DataLoader(dataset, batch_size=batch_size, shuffle=shuffle, pin_memory=True)\n",
    "\n",
    "\n",
    "# Training function for one model\n",
    "def train_model(train_loader, val_loader, learning_rate, class_weights_tensor, num_epochs=NUM_EPOCHS, patience=PATIENCE, seed=42):\n",
    "    set_seed(seed)\n",
    "    model = AutoModelForSequenceClassification.from_pretrained(MODEL_NAME, num_labels=2)\n",
    "    model.to(device)\n",
    "    optimizer = AdamW(model.parameters(), lr=learning_rate, weight_decay=1e-2)\n",
    "    total_steps = num_epochs * len(train_loader)\n",
    "    warmup_steps = int(WARMUP_PROPORTION * total_steps)\n",
    "    scheduler = get_linear_schedule_with_warmup(optimizer, num_warmup_steps=warmup_steps,\n",
    "                                                num_training_steps=total_steps)\n",
    "    scaler = torch.amp.GradScaler()\n",
    "    best_f1 = 0.0\n",
    "    best_state = None\n",
    "    epochs_no_improve = 0\n",
    "\n",
    "    for epoch in range(1, num_epochs + 1):\n",
    "        model.train()\n",
    "        total_loss = 0.0\n",
    "        for batch in train_loader:\n",
    "            optimizer.zero_grad()\n",
    "            input_ids = batch[0].to(device)\n",
    "            attention_mask = batch[1].to(device)\n",
    "            labels = batch[2].to(device)\n",
    "            # Forward pass (with mixed precision)\n",
    "            with torch.amp.autocast(device_type='cuda'):\n",
    "                outputs = model(input_ids=input_ids, attention_mask=attention_mask)\n",
    "                logits = outputs.logits\n",
    "                loss_fct = nn.CrossEntropyLoss(weight=class_weights_tensor.to(device))\n",
    "                loss = loss_fct(logits, labels)\n",
    "            # Backward pass and optimization\n",
    "            scaler.scale(loss).backward()\n",
    "            scaler.step(optimizer)\n",
    "            scaler.update()\n",
    "            scheduler.step()\n",
    "            total_loss += loss.item()\n",
    "        # Validation phase\n",
    "        model.eval()\n",
    "        all_preds, all_labels = [], []\n",
    "        with torch.no_grad():\n",
    "            for batch in val_loader:\n",
    "                input_ids = batch[0].to(device)\n",
    "                attention_mask = batch[1].to(device)\n",
    "                labels = batch[2].to(device)\n",
    "                outputs = model(input_ids=input_ids, attention_mask=attention_mask, labels=labels)\n",
    "                preds = torch.argmax(outputs.logits, dim=1)\n",
    "                all_preds.extend(preds.cpu().numpy())\n",
    "                all_labels.extend(labels.cpu().numpy())\n",
    "        val_f1 = f1_score(all_labels, all_preds, average='binary')\n",
    "        print(f\"Epoch {epoch}/{num_epochs} - Loss: {total_loss / len(train_loader):.4f} - Val F1: {val_f1:.4f}\")\n",
    "        # Check for improvement\n",
    "        if val_f1 > best_f1:\n",
    "            best_f1 = val_f1\n",
    "            best_state = copy.deepcopy(model.state_dict())\n",
    "            epochs_no_improve = 0\n",
    "        else:\n",
    "            epochs_no_improve += 1\n",
    "            if epochs_no_improve >= patience:\n",
    "                print(\"Early stopping triggered.\")\n",
    "                break\n",
    "\n",
    "    # Load best weights and return model\n",
    "    if best_state is not None:\n",
    "        model.load_state_dict(best_state)\n",
    "    model.eval()\n",
    "    return model, best_f1"
   ],
   "id": "e3a213eb19442fa4",
   "outputs": [],
   "execution_count": 12
  },
  {
   "metadata": {
    "ExecuteTime": {
     "end_time": "2025-02-21T15:32:51.453900Z",
     "start_time": "2025-02-21T15:32:51.448490Z"
    }
   },
   "cell_type": "code",
   "source": [
    "from sklearn.utils.class_weight import compute_class_weight\n",
    "\n",
    "# (B) Compute class weights if data is imbalanced\n",
    "# If truly balanced, you might skip or set them to [1.0, 1.0].\n",
    "train_labels = train_df['label'].values\n",
    "# This uses scikit-learn to automatically compute\n",
    "class_weights = compute_class_weight(\n",
    "    class_weight='balanced',\n",
    "    classes=np.unique(train_labels),\n",
    "    y=train_labels\n",
    ")\n",
    "\n",
    "class_weights[1] = class_weights[1] * 0.5\n",
    "# Convert to torch tensor\n",
    "class_weights_tensor = torch.tensor(class_weights, dtype=torch.float)\n",
    "\n",
    "class_weights_tensor"
   ],
   "id": "829b5b968ed68703",
   "outputs": [
    {
     "data": {
      "text/plain": [
       "tensor([0.5524, 2.6366])"
      ]
     },
     "execution_count": 13,
     "metadata": {},
     "output_type": "execute_result"
    }
   ],
   "execution_count": 13
  },
  {
   "metadata": {
    "ExecuteTime": {
     "end_time": "2025-02-21T16:30:24.386686Z",
     "start_time": "2025-02-21T15:32:51.466275Z"
    }
   },
   "cell_type": "code",
   "source": [
    "train = True\n",
    "\n",
    "# Tokenize and create DataLoaders\n",
    "tokenizer = AutoTokenizer.from_pretrained(MODEL_NAME)\n",
    "train_loader = build_dataloader(train_df, tokenizer, batch_size=BATCH_SIZE, shuffle=True)\n",
    "val_loader = build_dataloader(val_df, tokenizer, batch_size=BATCH_SIZE, shuffle=False)\n",
    "test_loader = build_dataloader(test_df, tokenizer, batch_size=BATCH_SIZE,\n",
    "                               shuffle=False) if test_df is not None else None\n",
    "\n",
    "try:\n",
    "    if train:\n",
    "        raise Exception\n",
    "    ensemble_models = []\n",
    "    n_models = 3  # how many you saved\n",
    "    for i in range(n_models):\n",
    "        load_dir = f'ensemble_model_{i}'\n",
    "        model = AutoModelForSequenceClassification.from_pretrained(load_dir)\n",
    "        model.to(device)\n",
    "        tokenizer = AutoTokenizer.from_pretrained(load_dir)\n",
    "        ensemble_models.append(model)\n",
    "        print(\"Loaded model from\", load_dir)\n",
    "except:\n",
    "\n",
    "    # Hyperparameter tuning (learning rate)\n",
    "    best_lr = None\n",
    "    best_val_f1 = 0.0\n",
    "    print(\"Hyperparameter tuning for learning rate...\")\n",
    "    for lr in LR_CANDIDATES:\n",
    "        print(f\"Training with lr={lr}\")\n",
    "        model, val_f1 = train_model(train_loader, val_loader, class_weights_tensor=class_weights_tensor, learning_rate=lr, num_epochs=3, patience=2, seed=42)\n",
    "        print(f\"Val F1 = {val_f1:.4f} for lr={lr}\")\n",
    "        if val_f1 > best_val_f1:\n",
    "            best_val_f1 = val_f1\n",
    "            best_lr = lr\n",
    "        # Free GPU memory before next trial\n",
    "        del model\n",
    "        torch.cuda.empty_cache()\n",
    "    print(f\"Best LR: {best_lr}, Val F1: {best_val_f1:.4f}\")\n",
    "\n",
    "    # Train ensemble models with best hyperparameters\n",
    "    ensemble_models = []\n",
    "    for seed in ENSEMBLE_SEEDS:\n",
    "        print(f\"Training model with seed {seed} (lr={best_lr})...\")\n",
    "        model, val_f1 = train_model(train_loader, val_loader, class_weights_tensor=class_weights_tensor, learning_rate=best_lr, num_epochs=NUM_EPOCHS,\n",
    "                                    patience=PATIENCE, seed=seed)\n",
    "        print(f\"Model seed {seed} Val F1 = {val_f1:.4f}\")\n",
    "        ensemble_models.append(model)\n",
    "\n",
    "    for i, model in enumerate(ensemble_models):\n",
    "        save_dir = f'ensemble_model_{i}'\n",
    "        # model is a standard huggingface model derived from AutoModelForSequenceClassification\n",
    "        model.save_pretrained(save_dir)\n",
    "        # Also save tokenizer if you want a self-contained folder\n",
    "        tokenizer.save_pretrained(save_dir)+\n",
    "\n",
    "\n",
    "# increase patience. 3 is too low when we have a high weight and things might be learnt slowly"
   ],
   "id": "82d8adbbcf75daa1",
   "outputs": [
    {
     "name": "stdout",
     "output_type": "stream",
     "text": [
      "Hyperparameter tuning for learning rate...\n",
      "Training with lr=1e-05\n",
      "Epoch 1/3 - Loss: 0.4752 - Val F1: 0.5612\n",
      "Epoch 2/3 - Loss: 0.2905 - Val F1: 0.5455\n",
      "Epoch 3/3 - Loss: 0.1844 - Val F1: 0.5660\n",
      "Val F1 = 0.5660 for lr=1e-05\n",
      "Training with lr=2e-05\n",
      "Epoch 1/3 - Loss: 0.4916 - Val F1: 0.5455\n",
      "Epoch 2/3 - Loss: 0.3101 - Val F1: 0.5481\n",
      "Epoch 3/3 - Loss: 0.1587 - Val F1: 0.5597\n",
      "Val F1 = 0.5597 for lr=2e-05\n",
      "Training with lr=5e-05\n",
      "Epoch 1/3 - Loss: 0.6137 - Val F1: 0.0000\n",
      "Epoch 2/3 - Loss: 0.6007 - Val F1: 0.2384\n",
      "Epoch 3/3 - Loss: 0.4865 - Val F1: 0.4689\n",
      "Val F1 = 0.4689 for lr=5e-05\n",
      "Best LR: 1e-05, Val F1: 0.5660\n",
      "Training model with seed 42 (lr=1e-05)...\n",
      "Epoch 1/10 - Loss: 0.5280 - Val F1: 0.5000\n",
      "Epoch 2/10 - Loss: 0.3473 - Val F1: 0.5229\n",
      "Epoch 3/10 - Loss: 0.2318 - Val F1: 0.6063\n",
      "Epoch 4/10 - Loss: 0.1416 - Val F1: 0.5963\n",
      "Epoch 5/10 - Loss: 0.0903 - Val F1: 0.5858\n",
      "Epoch 6/10 - Loss: 0.0533 - Val F1: 0.5935\n",
      "Early stopping triggered.\n",
      "Model seed 42 Val F1 = 0.6063\n",
      "Training model with seed 52 (lr=1e-05)...\n",
      "Epoch 1/10 - Loss: 0.5423 - Val F1: 0.4153\n",
      "Epoch 2/10 - Loss: 0.3395 - Val F1: 0.5887\n",
      "Epoch 3/10 - Loss: 0.2218 - Val F1: 0.5147\n",
      "Epoch 4/10 - Loss: 0.1300 - Val F1: 0.5618\n",
      "Epoch 5/10 - Loss: 0.0732 - Val F1: 0.5923\n",
      "Epoch 6/10 - Loss: 0.0487 - Val F1: 0.5946\n",
      "Epoch 7/10 - Loss: 0.0351 - Val F1: 0.5979\n",
      "Epoch 8/10 - Loss: 0.0217 - Val F1: 0.5946\n",
      "Epoch 9/10 - Loss: 0.0120 - Val F1: 0.6190\n",
      "Epoch 10/10 - Loss: 0.0108 - Val F1: 0.6078\n",
      "Model seed 52 Val F1 = 0.6190\n",
      "Training model with seed 62 (lr=1e-05)...\n",
      "Epoch 1/10 - Loss: 0.5265 - Val F1: 0.5736\n",
      "Epoch 2/10 - Loss: 0.3390 - Val F1: 0.5887\n",
      "Epoch 3/10 - Loss: 0.2341 - Val F1: 0.5651\n",
      "Epoch 4/10 - Loss: 0.1416 - Val F1: 0.5926\n",
      "Epoch 5/10 - Loss: 0.0857 - Val F1: 0.5644\n",
      "Epoch 6/10 - Loss: 0.0693 - Val F1: 0.5676\n",
      "Epoch 7/10 - Loss: 0.0408 - Val F1: 0.6286\n",
      "Epoch 8/10 - Loss: 0.0286 - Val F1: 0.6042\n",
      "Epoch 9/10 - Loss: 0.0185 - Val F1: 0.5894\n",
      "Epoch 10/10 - Loss: 0.0146 - Val F1: 0.6117\n",
      "Early stopping triggered.\n",
      "Model seed 62 Val F1 = 0.6286\n"
     ]
    }
   ],
   "execution_count": 14
  },
  {
   "metadata": {
    "ExecuteTime": {
     "end_time": "2025-02-21T16:30:45.519413Z",
     "start_time": "2025-02-21T16:30:24.425720Z"
    }
   },
   "cell_type": "code",
   "source": [
    "all_dev_test_preds = []\n",
    "for model in ensemble_models:\n",
    "    model.eval()\n",
    "    preds = []\n",
    "    with torch.no_grad():\n",
    "        for batch in test_loader:  # val_loader is a DataLoader object\n",
    "            input_ids = batch[0].to(device)\n",
    "            attention_mask = batch[1].to(device)\n",
    "            outputs = model(input_ids=input_ids, attention_mask=attention_mask)\n",
    "            batch_preds = torch.argmax(outputs.logits, dim=1).cpu().numpy()\n",
    "            preds.extend(batch_preds)\n",
    "    all_dev_test_preds.append(preds)\n",
    "\n",
    "# Transpose and vote\n",
    "all_dev_test_preds = np.array(all_dev_test_preds)  # shape: (num_models, num_examples)\n",
    "ensemble_dev_test_preds = []\n",
    "for j in range(all_dev_test_preds.shape[1]):\n",
    "    votes = np.sum(all_dev_test_preds[:, j])\n",
    "    ensemble_dev_test_preds.append(1 if votes > len(ensemble_models) / 2 else 0)\n",
    "\n",
    "# We need the original validation DataFrame for labels and paragraph IDs\n",
    "test_labels = test_df['label'].values  # Use val_df, not val_loader\n",
    "dev_f1 = f1_score(test_labels, ensemble_dev_test_preds, average='binary')\n",
    "print(f\"Ensemble Local Test F1 = {dev_f1:.4f}\")\n",
    "\n",
    "# # Ensemble predictions on test set\n",
    "# ensemble_test_preds = []\n",
    "# if test_loader is not None:\n",
    "#     all_test_preds = []\n",
    "#     for model in ensemble_models:\n",
    "#         model.eval()\n",
    "#         preds = []\n",
    "#         with torch.no_grad():\n",
    "#             for batch in test_loader:\n",
    "#                 input_ids = batch[0].to(device)\n",
    "#                 attention_mask = batch[1].to(device)\n",
    "#                 outputs = model(input_ids=input_ids, attention_mask=attention_mask)\n",
    "#                 batch_preds = torch.argmax(outputs.logits, dim=1).cpu().numpy()\n",
    "#                 preds.extend(batch_preds)\n",
    "#         all_test_preds.append(preds)\n",
    "#     all_test_preds = np.array(all_test_preds)\n",
    "#     for j in range(all_test_preds.shape[1]):\n",
    "#         votes = np.sum(all_test_preds[:, j])\n",
    "#         ensemble_test_preds.append(1 if votes > len(ensemble_models) / 2 else 0)\n",
    "\n",
    "# Save predictions to files using the original DataFrames\n",
    "with open(\"predictions_dev_test.txt\", \"w\") as f:\n",
    "    for pid, pred in zip(val_df['par_id'], ensemble_dev_test_preds):\n",
    "        f.write(f\"{pid}\\t{pred}\\n\")\n",
    "\n",
    "# if test_df is not None:\n",
    "#     with open(\"predictions_test.txt\", \"w\") as f:\n",
    "#         for pid, pred in zip(test_df['par_id'], ensemble_test_preds):\n",
    "#             f.write(f\"{pid}\\t{pred}\\n\")\n",
    "\n",
    "print(\"Prediction files generated: predictions_dev_test.txt\")"
   ],
   "id": "118be6b2a5a2edeb",
   "outputs": [
    {
     "name": "stdout",
     "output_type": "stream",
     "text": [
      "Ensemble Local Test F1 = 0.5972\n",
      "Prediction files generated: predictions_dev_test.txt\n"
     ]
    }
   ],
   "execution_count": 15
  },
  {
   "metadata": {
    "ExecuteTime": {
     "end_time": "2025-02-21T16:30:45.584627Z",
     "start_time": "2025-02-21T16:30:45.571390Z"
    }
   },
   "cell_type": "code",
   "source": [
    "# After making your ensemble predictions:\n",
    "incorrect_indices = []\n",
    "incorrect_examples = []\n",
    "\n",
    "for i, (true, pred) in enumerate(zip(test_labels, ensemble_dev_test_preds)):\n",
    "    if true != pred:\n",
    "        incorrect_indices.append(i)\n",
    "        incorrect_examples.append({\n",
    "            'par_id': test_df['par_id'].iloc[i],\n",
    "            'paragraph': test_df['paragraph'].iloc[i],\n",
    "            'true_label': true,\n",
    "            'predicted': pred\n",
    "        })\n",
    "\n",
    "# Create a DataFrame with incorrect examples\n",
    "incorrect_df = pd.DataFrame(incorrect_examples)\n",
    "\n",
    "# Save to file\n",
    "incorrect_df.to_csv(\"incorrect_predictions.csv\", index=False)\n",
    "\n",
    "# Print summary\n",
    "print(f\"Found {len(incorrect_indices)} incorrect predictions out of {len(test_labels)} examples ({len(incorrect_indices)/len(test_labels)*100:.2f}%)\")\n",
    "\n",
    "# Print some examples if desired\n",
    "print(\"\\nSample incorrect predictions:\")\n",
    "for i, example in enumerate(incorrect_examples[:5]):  # Show first 5\n",
    "    print(f\"Example {i+1}:\")\n",
    "    print(f\"ID: {example['par_id']}\")\n",
    "    print(f\"Text: {example['paragraph'][:100]}...\" if len(example['paragraph']) > 100 else example['paragraph'])\n",
    "    print(f\"True label: {example['true_label']}, Predicted: {example['predicted']}\")\n",
    "    print(\"-\" * 50)\n",
    "\n",
    "from sklearn.metrics import classification_report, confusion_matrix\n",
    "\n",
    "# Print detailed metrics\n",
    "print(classification_report(test_labels, ensemble_dev_test_preds))\n",
    "\n",
    "# Show confusion matrix\n",
    "print(confusion_matrix(test_labels, ensemble_dev_test_preds))\n",
    "\n",
    "# Check class distribution\n",
    "print(f\"Class distribution in test set: {np.unique(test_labels, return_counts=True)}\")"
   ],
   "id": "cba03b89fb36af92",
   "outputs": [
    {
     "name": "stdout",
     "output_type": "stream",
     "text": [
      "Found 85 incorrect predictions out of 1047 examples (8.12%)\n",
      "\n",
      "Sample incorrect predictions:\n",
      "Example 1:\n",
      "ID: 3901\n",
      "Text: \" The national and county governments must work together to improve the lives of the disabled , \" sa...\n",
      "True label: 0, Predicted: 1\n",
      "--------------------------------------------------\n",
      "Example 2:\n",
      "ID: 6890\n",
      "Alexis and her family decided to donate more than 400 of those presents to children in need .\n",
      "True label: 0, Predicted: 1\n",
      "--------------------------------------------------\n",
      "Example 3:\n",
      "ID: 9505\n",
      "Text: I mention these moments to highlight and illustrate the potential that young people have to change o...\n",
      "True label: 0, Predicted: 1\n",
      "--------------------------------------------------\n",
      "Example 4:\n",
      "ID: 6742\n",
      "Text: When Denhollander started there was no army of women , no \" sister survivors , \" as the judge kept c...\n",
      "True label: 0, Predicted: 1\n",
      "--------------------------------------------------\n",
      "Example 5:\n",
      "ID: 4393\n",
      "Text: The law stipulated 21 rights of the disabled persons . The disabled persons must get the national id...\n",
      "True label: 1, Predicted: 0\n",
      "--------------------------------------------------\n",
      "              precision    recall  f1-score   support\n",
      "\n",
      "           0       0.96      0.95      0.95       947\n",
      "           1       0.57      0.63      0.60       100\n",
      "\n",
      "    accuracy                           0.92      1047\n",
      "   macro avg       0.76      0.79      0.78      1047\n",
      "weighted avg       0.92      0.92      0.92      1047\n",
      "\n",
      "[[899  48]\n",
      " [ 37  63]]\n",
      "Class distribution in test set: (array([0, 1]), array([947, 100]))\n"
     ]
    }
   ],
   "execution_count": 16
  }
 ],
 "metadata": {
  "kernelspec": {
   "name": "python3",
   "language": "python",
   "display_name": "Python 3 (ipykernel)"
  }
 },
 "nbformat": 5,
 "nbformat_minor": 9
}
