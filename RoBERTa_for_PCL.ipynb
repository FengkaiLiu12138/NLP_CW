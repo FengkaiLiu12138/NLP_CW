{
 "cells": [
  {
   "metadata": {
    "ExecuteTime": {
     "end_time": "2025-03-01T17:12:28.162090Z",
     "start_time": "2025-03-01T17:12:24.091789Z"
    }
   },
   "cell_type": "code",
   "source": [
    "from doctest import testsource\n",
    "\n",
    "import pandas as pd\n",
    "import numpy as np\n",
    "import random, copy\n",
    "import torch\n",
    "import torch.nn as nn\n",
    "from torch import no_grad\n",
    "from torch.utils.data import DataLoader, TensorDataset\n",
    "from transformers import AutoTokenizer, AutoModelForSequenceClassification, get_linear_schedule_with_warmup, \\\n",
    "    pipeline\n",
    "from torch.optim import AdamW\n",
    "from sklearn.metrics import f1_score\n",
    "from sklearn.utils import resample\n",
    "import nltk\n",
    "from nltk.corpus import wordnet, stopwords\n",
    "from transformers import logging\n",
    "import matplotlib.pyplot as plt\n",
    "import os\n",
    "\n",
    "logging.set_verbosity_error()\n",
    "\n",
    "# Download NLTK data (WordNet for synonyms, stopwords list)\n",
    "nltk.download('wordnet')\n",
    "nltk.download('stopwords')\n",
    "# Data augmentation: Synonym Replacement\n",
    "stop_words = set(stopwords.words('english'))\n",
    "\n",
    "device = torch.device('cuda' if torch.cuda.is_available() else 'cpu')\n",
    "print(f\"Using device: {device}\")"
   ],
   "id": "7c8d05df71dcd89c",
   "outputs": [
    {
     "name": "stderr",
     "output_type": "stream",
     "text": [
      "D:\\y4_code\\NLP_CW\\.venv\\lib\\site-packages\\tqdm\\auto.py:21: TqdmWarning: IProgress not found. Please update jupyter and ipywidgets. See https://ipywidgets.readthedocs.io/en/stable/user_install.html\n",
      "  from .autonotebook import tqdm as notebook_tqdm\n"
     ]
    },
    {
     "name": "stdout",
     "output_type": "stream",
     "text": [
      "Using device: cuda\n"
     ]
    },
    {
     "name": "stderr",
     "output_type": "stream",
     "text": [
      "[nltk_data] Downloading package wordnet to\n",
      "[nltk_data]     C:\\Users\\24983\\AppData\\Roaming\\nltk_data...\n",
      "[nltk_data]   Package wordnet is already up-to-date!\n",
      "[nltk_data] Downloading package stopwords to\n",
      "[nltk_data]     C:\\Users\\24983\\AppData\\Roaming\\nltk_data...\n",
      "[nltk_data]   Package stopwords is already up-to-date!\n"
     ]
    }
   ],
   "execution_count": 1
  },
  {
   "metadata": {},
   "cell_type": "markdown",
   "source": [
    "### Load and explore the dataset\n",
    "We load the data and analyze the distribution of labels, paragraph lengths, and label distributions per keyword and country. We also examine some examples of patronizing paragraphs, especially those with label 4 (highly patronizing)."
   ],
   "id": "a02ba5e24eb0d271"
  },
  {
   "metadata": {
    "ExecuteTime": {
     "end_time": "2025-03-01T17:12:28.223090Z",
     "start_time": "2025-03-01T17:12:28.168089Z"
    }
   },
   "cell_type": "code",
   "source": [
    "df = pd.read_csv('./data/dontpatronizeme_pcl.tsv', sep='\\t', header=None,\n",
    "                 names=[\"par_id\", \"art_id\", \"keyword\", \"country\", \"paragraph\", \"orig_label\"], skiprows=4)\n",
    "df['label'] = df['orig_label'].apply(lambda x: 1 if x >= 2 else 0)\n",
    "\n",
    "df.info"
   ],
   "id": "3c877c4330cce04",
   "outputs": [
    {
     "data": {
      "text/plain": [
       "<bound method DataFrame.info of        par_id      art_id     keyword country  \\\n",
       "0           1  @@24942188    hopeless      ph   \n",
       "1           2  @@21968160     migrant      gh   \n",
       "2           3  @@16584954   immigrant      ie   \n",
       "3           4   @@7811231    disabled      nz   \n",
       "4           5   @@1494111     refugee      ca   \n",
       "...       ...         ...         ...     ...   \n",
       "10464   10465  @@14297363       women      lk   \n",
       "10465   10466  @@70091353  vulnerable      ph   \n",
       "10466   10467  @@20282330     in-need      ng   \n",
       "10467   10468  @@16753236    hopeless      in   \n",
       "10468   10469  @@16779383    homeless      ie   \n",
       "\n",
       "                                               paragraph  orig_label  label  \n",
       "0      We 're living in times of absolute insanity , ...           0      0  \n",
       "1      In Libya today , there are countless number of...           0      0  \n",
       "2      White House press secretary Sean Spicer said t...           0      0  \n",
       "3      Council customers only signs would be displaye...           0      0  \n",
       "4      \" Just like we received migrants fleeing El Sa...           0      0  \n",
       "...                                                  ...         ...    ...  \n",
       "10464  Sri Lankan norms and culture inhibit women fro...           1      0  \n",
       "10465  He added that the AFP will continue to bank on...           0      0  \n",
       "10466  \" She has one huge platform , and information ...           3      1  \n",
       "10467  \" Anja Ringgren Loven I ca n't find a word to ...           4      1  \n",
       "10468  \" Guinness World Record of 540lbs of 7-layer m...           3      1  \n",
       "\n",
       "[10469 rows x 7 columns]>"
      ]
     },
     "execution_count": 2,
     "metadata": {},
     "output_type": "execute_result"
    }
   ],
   "execution_count": 2
  },
  {
   "metadata": {
    "ExecuteTime": {
     "end_time": "2025-03-01T17:12:30.433076Z",
     "start_time": "2025-03-01T17:12:30.310078Z"
    }
   },
   "cell_type": "code",
   "source": [
    "\n",
    "# Distribution of original 5 labels (0–4)\n",
    "label_counts = df[\"orig_label\"].value_counts().sort_index()\n",
    "print(label_counts)\n",
    "\n",
    "# Plot distribution\n",
    "fig, ax = plt.subplots()\n",
    "label_counts.plot(kind=\"bar\", ax=ax, title=\"Label Distribution (0-4)\")\n",
    "ax.set_xlabel(\"Label\")\n",
    "ax.set_ylabel(\"Count\")\n",
    "\n",
    "for p in ax.patches:\n",
    "    ax.annotate(\n",
    "        str(int(p.get_height())),\n",
    "        xy=(p.get_x() + p.get_width() / 2., p.get_height()),\n",
    "        xytext=(0, 3),\n",
    "        textcoords=\"offset points\",\n",
    "        ha='center', va='bottom'\n",
    "    )\n",
    "\n",
    "plt.show()\n",
    "\n",
    "# Convert to binary (0,1), i.e. labels >=2 are PCL\n",
    "binary_counts = df[\"label\"].value_counts()\n",
    "print(\"Binary distribution:\\n\", binary_counts)"
   ],
   "id": "738be0855250c9ac",
   "outputs": [
    {
     "name": "stdout",
     "output_type": "stream",
     "text": [
      "orig_label\n",
      "0    8529\n",
      "1     947\n",
      "2     144\n",
      "3     458\n",
      "4     391\n",
      "Name: count, dtype: int64\n"
     ]
    },
    {
     "data": {
      "text/plain": [
       "<Figure size 640x480 with 1 Axes>"
      ],
      "image/png": "[encoded data removed]"
     },
     "metadata": {},
     "output_type": "display_data"
    },
    {
     "name": "stdout",
     "output_type": "stream",
     "text": [
      "Binary distribution:\n",
      " label\n",
      "0    9476\n",
      "1     993\n",
      "Name: count, dtype: int64\n"
     ]
    }
   ],
   "execution_count": 3
  },
  {
   "metadata": {
    "ExecuteTime": {
     "end_time": "2025-03-01T17:12:30.591076Z",
     "start_time": "2025-03-01T17:12:30.466078Z"
    }
   },
   "cell_type": "code",
   "source": [
    "df[\"str_paragraph\"] = df[\"paragraph\"].astype(str).fillna(\"\")\n",
    "\n",
    "\n",
    "df[\"para_length\"] = df[\"str_paragraph\"].apply(lambda x: len(x.split()))\n",
    "# Group by label, compute mean or median paragraph length\n",
    "length_by_label = df.groupby(\"orig_label\")[\"para_length\"].mean()\n",
    "print(\"Average paragraph length by label:\\n\", length_by_label)\n",
    "\n",
    "import seaborn as sns\n",
    "\n",
    "sns.boxplot(x=\"orig_label\", y=\"para_length\", data=df)\n",
    "plt.title(\"Paragraph Length Distribution by Label\")\n",
    "plt.show()\n",
    "\n",
    "# # Plot length distributions\n",
    "# fig, ax = plt.subplots(1, 1, figsize=(10, 6))\n",
    "# length_by_label.plot(kind=\"bar\", ax=ax, title=\"Paragraph Length Distribution by Label\")\n",
    "# ax.set_xlabel(\"Label\")\n",
    "# ax.set_ylabel(\"Paragraph Length\")\n",
    "#\n",
    "# for p in ax.patches:\n",
    "#     ax.annotate(\n",
    "#         str(int(p.get_height())),\n",
    "#         xy=(p.get_x() + p.get_width() / 2., p.get_height()),\n",
    "#         xytext=(0, 3),\n",
    "#         textcoords=\"offset points\",\n",
    "#         ha='center', va='bottom'\n",
    "#     )\n",
    "#\n",
    "# plt.show()\n"
   ],
   "id": "3b837dd44a8099",
   "outputs": [
    {
     "name": "stdout",
     "output_type": "stream",
     "text": [
      "Average paragraph length by label:\n",
      " orig_label\n",
      "0    47.418103\n",
      "1    52.019007\n",
      "2    49.104167\n",
      "3    51.556769\n",
      "4    57.700767\n",
      "Name: para_length, dtype: float64\n"
     ]
    },
    {
     "data": {
      "text/plain": [
       "<Figure size 640x480 with 1 Axes>"
      ],
      "image/png": "[encoded data removed]"
     },
     "metadata": {},
     "output_type": "display_data"
    }
   ],
   "execution_count": 4
  },
  {
   "metadata": {
    "ExecuteTime": {
     "end_time": "2025-03-01T17:12:30.981393Z",
     "start_time": "2025-03-01T17:12:30.595076Z"
    }
   },
   "cell_type": "code",
   "source": [
    "pd.crosstab(df[\"keyword\"], df[\"orig_label\"]).plot(kind=\"bar\", stacked=True, figsize=(10,6))\n",
    "plt.title(\"Label distribution per keyword\")\n",
    "plt.ylabel(\"Count\")\n",
    "plt.show()\n",
    "\n",
    "pd.crosstab(df[\"country\"], df[\"orig_label\"]).plot(kind=\"bar\", stacked=True, figsize=(10,6))\n",
    "plt.title(\"Label distribution per country\")\n",
    "plt.ylabel(\"Count\")\n",
    "plt.show()"
   ],
   "id": "bbfd84c30d789d00",
   "outputs": [
    {
     "data": {
      "text/plain": [
       "<Figure size 1000x600 with 1 Axes>"
      ],
      "image/png": "[encoded data removed]"
     },
     "metadata": {},
     "output_type": "display_data"
    },
    {
     "data": {
      "text/plain": [
       "<Figure size 1000x600 with 1 Axes>"
      ],
      "image/png": "[encoded data removed]"
     },
     "metadata": {},
     "output_type": "display_data"
    }
   ],
   "execution_count": 5
  },
  {
   "metadata": {
    "ExecuteTime": {
     "end_time": "2025-03-01T17:12:31.013396Z",
     "start_time": "2025-03-01T17:12:31.002393Z"
    }
   },
   "cell_type": "code",
   "source": [
    "import random\n",
    "\n",
    "for lbl in [0,1,2,3,4]:\n",
    "    subset = df[df[\"orig_label\"] == lbl]\n",
    "    example = subset.sample(1, random_state=10)\n",
    "    print(f\"\\nLabel {lbl} example:\")\n",
    "    print(example[\"paragraph\"].values[0], \"\\n\")\n",
    "\n",
    "# Note: The data was annotated by multiple annotators (leading to 0–4 labels). Observing paragraphs with label=1 or label=2 often reveals partial disagreements or borderline cases.\n",
    "# Examine paragraphs that were assigned label 4 (highly patronizing). Are they obviously condescending or do they also have borderline tones?\n"
   ],
   "id": "c4897e9bceedcc4b",
   "outputs": [
    {
     "name": "stdout",
     "output_type": "stream",
     "text": [
      "\n",
      "Label 0 example:\n",
      "It was time and again mentioned that Pakistan Squash Federation ( PSF ) must wake up from deep slump and pay proper attention towards women squash , but no heed was paid and the result is evident that except Canadian-based Pakistani Maria , all women squash players were thrown out of the event . The PSF must start work on female squash promotion on war footings , or else just ask females to forget about playing international squash . \n",
      "\n",
      "\n",
      "Label 1 example:\n",
      "The first time MP , who is a holder of Bachelor in Medicine and Bachelor in Surgery from the University of Nairobi , has in the past decried how women often shun disabled man . He is also on record for paying tribute to his wife , a nurse , for taking care of him all though . \n",
      "\n",
      "\n",
      "Label 2 example:\n",
      "\" A mass protest was held in Jaffna at 3 p.m. yesterday against Tamil Nadu politicians Thol . Thiruvmavalavan , T. Velmurugan and Y. Gopalaswamy , who prevented the superstar of Tamil cinema , Rajinikanth , visiting Jaffna to hand-over the keys of 150 houses , built by Lyca , ( a private firm based in London ) to homeless people who had been affected by the separatist war . \" \n",
      "\n",
      "\n",
      "Label 3 example:\n",
      "If in addition ' miracles ' can be orchestrated then the acceptance and reverence become total . In a country where statistics state that unemployment is about 25 per cent but we know it is more like 70 per cent , where the next meal will come from is unpredictable and on a daily basis time just passes by ; it is not far-fetched for women to become prayer warriors for their children , husbands and siblings and are made to blame whatever is happening not on policies of the government but on the machinations of the devil . \n",
      "\n",
      "\n",
      "Label 4 example:\n",
      "There were also many larger events which took place , including a 24-hour long period of Eucharistic adoration and a prayer vigil . Additionally , \" jubilees \" were held which centered on , among others , the sick and disabled , catechists , teenagers , deacons , priests , religious , volunteers of mercy , and most recently , the poor and homeless . \n",
      "\n"
     ]
    }
   ],
   "execution_count": 6
  },
  {
   "metadata": {},
   "cell_type": "markdown",
   "source": [
    "The result shows that the data set is highly imbalanced, with the majority of paragraphs labeled as 0 (not patronizing) and only a small fraction labeled as 1 (patronizing). The average paragraph length is similar across labels.\n",
    "\n",
    "### Data Augmentation and Balancing\n",
    "We will augment the training data by applying two techniques: synonym replacement and back-translation. Synonym replacement replaces words in the text with synonyms, while back-translation translates the text to another language and back to the original language. These techniques can help improve model generalization and robustness."
   ],
   "id": "91d522c806d72760"
  },
  {
   "metadata": {
    "ExecuteTime": {
     "end_time": "2025-03-01T17:12:33.558002Z",
     "start_time": "2025-03-01T17:12:31.031397Z"
    }
   },
   "cell_type": "code",
   "source": [
    "# Set random seeds for reproducibility\n",
    "def set_seed(seed):\n",
    "    random.seed(seed)\n",
    "    np.random.seed(seed)\n",
    "    torch.manual_seed(seed)\n",
    "    torch.cuda.manual_seed_all(seed)\n",
    "\n",
    "def synonym_replacement(sentence, n=1):\n",
    "    words = sentence.split()\n",
    "    new_words = words.copy()\n",
    "    # Identify candidate words (non-stopwords, alphabetic only)\n",
    "    candidates = [i for i, w in enumerate(words) if w.lower() not in stop_words and w.isalpha()]\n",
    "    random.shuffle(candidates)\n",
    "    replaced = 0\n",
    "    for idx in candidates:\n",
    "        if replaced >= n:\n",
    "            break\n",
    "        synonyms = set()\n",
    "        for syn in wordnet.synsets(words[idx]):\n",
    "            for lemma in syn.lemmas():\n",
    "                if lemma.name().lower() != words[idx].lower():\n",
    "                    synonyms.add(lemma.name().replace('_', ' '))\n",
    "        if synonyms:\n",
    "            new_words[idx] = random.choice(list(synonyms))\n",
    "            replaced += 1\n",
    "    return \" \".join(new_words)\n",
    "\n",
    "translator_en_to_es = pipeline(\"translation_en_to_es\", model=\"Helsinki-NLP/opus-mt-en-es\", device=-1)\n",
    "translator_es_to_en = pipeline(\"translation_es_to_en\", model=\"Helsinki-NLP/opus-mt-es-en\", device=-1)\n",
    "\n",
    "def back_translate(sentence):\n",
    "    try:\n",
    "        es_text = translator_en_to_es(sentence, max_length=MAX_LENGTH)[0]['translation_text']\n",
    "        back_text = translator_es_to_en(es_text, max_length=MAX_LENGTH)[0]['translation_text']\n",
    "        return back_text\n",
    "    except Exception as e:\n",
    "        return sentence  # fallback to original if translation fails\n",
    "\n",
    "\n",
    "# Augment training data (apply to minority class samples)\n",
    "def augment_data(df):\n",
    "    augmented_texts = []\n",
    "    augmented_labels = []\n",
    "    for _, row in df[df['label'] == 1].iterrows():\n",
    "        text = row['paragraph']\n",
    "        # Synonym replacement augmentation\n",
    "        aug_text1 = synonym_replacement(text, n=1)\n",
    "        # Back-translation augmentation\n",
    "        aug_text2 = back_translate(text)\n",
    "        augmented_texts.extend([aug_text1, aug_text2])\n",
    "        augmented_labels.extend([1, 1])\n",
    "    aug_df = pd.DataFrame({'paragraph': augmented_texts, 'label': augmented_labels})\n",
    "    # Combine augmented samples with original data\n",
    "    return pd.concat([df, aug_df], ignore_index=True)\n",
    "\n",
    "\n",
    "# Oversample minority class to balance the dataset\n",
    "def oversample_data(df):\n",
    "    df_majority = df[df['label'] == 0]\n",
    "    df_minority = df[df['label'] == 1]\n",
    "    if len(df_minority) == 0 or len(df_majority) == 0:\n",
    "        return df\n",
    "    if len(df_minority) < len(df_majority):\n",
    "        df_minority_upsampled = resample(df_minority, replace=True, n_samples=len(df_majority), random_state=0)\n",
    "        df_balanced = pd.concat([df_majority, df_minority_upsampled], ignore_index=True)\n",
    "    else:\n",
    "        df_majority_upsampled = resample(df_majority, replace=True, n_samples=len(df_minority), random_state=0)\n",
    "        df_balanced = pd.concat([df_minority, df_majority_upsampled], ignore_index=True)\n",
    "    # Shuffle after oversampling\n",
    "    df_balanced = df_balanced.sample(frac=1, random_state=0).reset_index(drop=True)\n",
    "    return df_balanced"
   ],
   "id": "8232ad544cc6916d",
   "outputs": [],
   "execution_count": 7
  },
  {
   "metadata": {
    "ExecuteTime": {
     "end_time": "2025-03-01T17:12:33.603961Z",
     "start_time": "2025-03-01T17:12:33.574903Z"
    }
   },
   "cell_type": "code",
   "source": [
    "from sklearn.model_selection import train_test_split\n",
    "training_dev_df = pd.read_csv('./data/train_semeval_parids-labels.csv', sep=',', header=None,\n",
    "                              names=[\"par_id\", \"values\"], skiprows=1)\n",
    "test_dev_df = pd.read_csv('./data/dev_semeval_parids-labels.csv', sep=',', header=None,\n",
    "                          names=[\"par_id\", \"values\"], skiprows=1)\n",
    "\n",
    "train_dev_index = training_dev_df['par_id']\n",
    "test_dev_index = test_dev_df['par_id']\n",
    "df_indexed = df.set_index('par_id', drop=False)\n",
    "\n",
    "# Then slice with .loc, using your dev-index lists:\n",
    "train_dev_df = df_indexed.loc[train_dev_index].copy()\n",
    "test_df      = df_indexed.loc[test_dev_index].copy()\n",
    "train_df, val_df = train_test_split(train_dev_df, test_size=0.2, random_state=42)\n",
    "\n",
    "train_df = train_df.reset_index(drop=True)\n",
    "val_df = val_df.reset_index(drop=True)\n",
    "test_df = test_df.reset_index(drop=True)\n",
    "\n",
    "print(train_df.head())\n",
    "print(train_df.info())\n",
    "print(test_df.head())\n",
    "print(test_df.info())"
   ],
   "id": "aa5e3249d75aef6f",
   "outputs": [
    {
     "name": "stdout",
     "output_type": "stream",
     "text": [
      "   par_id      art_id     keyword country  \\\n",
      "0    5423  @@20407937    disabled      nz   \n",
      "1    6890  @@16028961     in-need      us   \n",
      "2    1394  @@14758376  vulnerable      au   \n",
      "3    4445   @@3174447  vulnerable      za   \n",
      "4    7991  @@20728606    hopeless      ca   \n",
      "\n",
      "                                           paragraph  orig_label  label  \\\n",
      "0  Critics have even taken to dobbing in Katrina ...           0      0   \n",
      "1  Alexis and her family decided to donate more t...           0      0   \n",
      "2  Mr Porter , do you think you will get the numb...           4      1   \n",
      "3  \" This only serves to highlight the importance...           1      0   \n",
      "4  \" I was nervous , but life has taught me over ...           0      0   \n",
      "\n",
      "                                       str_paragraph  para_length  \n",
      "0  Critics have even taken to dobbing in Katrina ...           31  \n",
      "1  Alexis and her family decided to donate more t...           18  \n",
      "2  Mr Porter , do you think you will get the numb...           43  \n",
      "3  \" This only serves to highlight the importance...           50  \n",
      "4  \" I was nervous , but life has taught me over ...           60  \n",
      "<class 'pandas.core.frame.DataFrame'>\n",
      "RangeIndex: 6700 entries, 0 to 6699\n",
      "Data columns (total 9 columns):\n",
      " #   Column         Non-Null Count  Dtype \n",
      "---  ------         --------------  ----- \n",
      " 0   par_id         6700 non-null   int64 \n",
      " 1   art_id         6700 non-null   object\n",
      " 2   keyword        6700 non-null   object\n",
      " 3   country        6700 non-null   object\n",
      " 4   paragraph      6700 non-null   object\n",
      " 5   orig_label     6700 non-null   int64 \n",
      " 6   label          6700 non-null   int64 \n",
      " 7   str_paragraph  6700 non-null   object\n",
      " 8   para_length    6700 non-null   int64 \n",
      "dtypes: int64(4), object(5)\n",
      "memory usage: 471.2+ KB\n",
      "None\n",
      "   par_id      art_id   keyword country  \\\n",
      "0    4046  @@14767805  hopeless      us   \n",
      "1    1279   @@7896098   refugee      ng   \n",
      "2    8330  @@17252299   refugee      ng   \n",
      "3    4063   @@3002894   in-need      ie   \n",
      "4    4089  @@25597822  homeless      pk   \n",
      "\n",
      "                                           paragraph  orig_label  label  \\\n",
      "0  We also know that they can benefit by receivin...           3      1   \n",
      "1  Pope Francis washed and kissed the feet of Mus...           4      1   \n",
      "2  Many refugees do n't want to be resettled anyw...           2      1   \n",
      "3  Budding chefs , like \" Fred \" , \" Winston \" an...           4      1   \n",
      "4  In a 90-degree view of his constituency , one ...           3      1   \n",
      "\n",
      "                                       str_paragraph  para_length  \n",
      "0  We also know that they can benefit by receivin...           85  \n",
      "1  Pope Francis washed and kissed the feet of Mus...           38  \n",
      "2  Many refugees do n't want to be resettled anyw...           16  \n",
      "3  Budding chefs , like \" Fred \" , \" Winston \" an...           42  \n",
      "4  In a 90-degree view of his constituency , one ...           70  \n",
      "<class 'pandas.core.frame.DataFrame'>\n",
      "RangeIndex: 2094 entries, 0 to 2093\n",
      "Data columns (total 9 columns):\n",
      " #   Column         Non-Null Count  Dtype \n",
      "---  ------         --------------  ----- \n",
      " 0   par_id         2094 non-null   int64 \n",
      " 1   art_id         2094 non-null   object\n",
      " 2   keyword        2094 non-null   object\n",
      " 3   country        2094 non-null   object\n",
      " 4   paragraph      2093 non-null   object\n",
      " 5   orig_label     2094 non-null   int64 \n",
      " 6   label          2094 non-null   int64 \n",
      " 7   str_paragraph  2094 non-null   object\n",
      " 8   para_length    2094 non-null   int64 \n",
      "dtypes: int64(4), object(5)\n",
      "memory usage: 147.4+ KB\n",
      "None\n"
     ]
    }
   ],
   "execution_count": 8
  },
  {
   "metadata": {
    "ExecuteTime": {
     "end_time": "2025-03-01T17:12:33.696952Z",
     "start_time": "2025-03-01T17:12:33.636916Z"
    }
   },
   "cell_type": "code",
   "source": [
    "train_df = train_df.dropna(subset=['paragraph'])\n",
    "train_df['paragraph'] = train_df['paragraph'].astype(str)\n",
    "\n",
    "try:\n",
    "\n",
    "    # If you've already saved train_augmented_oversampled.csv\n",
    "    train_df_final = pd.read_csv(\"./example_training_data/train_augmented_oversampled.csv\")\n",
    "    val_df = pd.read_csv(\"./example_training_data/val.csv\")\n",
    "    test_df = pd.read_csv(\"./example_training_data/test.csv\")\n",
    "except:\n",
    "\n",
    "    # Augment and balance training data\n",
    "    train_df_aug = augment_data(train_df)\n",
    "    train_df_final = oversample_data(train_df_aug)\n",
    "    for idx, row in train_df.iterrows():\n",
    "        if not isinstance(row['paragraph'], str):\n",
    "            print(f\"Row {idx} has invalid type: {type(row['paragraph'])}, value = {row['paragraph']}\")\n",
    "\n",
    "    train_df_final.to_csv(\"./example_training_data/train_augmented_oversampled.csv\", index=False)\n",
    "    val_df.to_csv(\"./example_training_data/val.csv\", index=False)\n",
    "    test_df.to_csv(\"./example_training_data/test.csv\", index=False)\n",
    "\n",
    "train_df_final.info\n"
   ],
   "id": "15266e0c0a0398b2",
   "outputs": [
    {
     "data": {
      "text/plain": [
       "<bound method DataFrame.info of         par_id      art_id    keyword country  \\\n",
       "0          NaN         NaN        NaN     NaN   \n",
       "1      10269.0  @@15357075   homeless      gb   \n",
       "2          NaN         NaN        NaN     NaN   \n",
       "3       2214.0  @@24216252  immigrant      ie   \n",
       "4          NaN         NaN        NaN     NaN   \n",
       "...        ...         ...        ...     ...   \n",
       "15155      NaN         NaN        NaN     NaN   \n",
       "15156   7317.0  @@20518391    in-need      in   \n",
       "15157      NaN         NaN        NaN     NaN   \n",
       "15158      NaN         NaN        NaN     NaN   \n",
       "15159   9380.0  @@21676447  immigrant      hk   \n",
       "\n",
       "                                               paragraph  orig_label  label  \n",
       "0      Watching poor families in England writhe in pa...         NaN      1  \n",
       "1      Veterans left on scrapheap : The homeless plig...         4.0      1  \n",
       "2      After a tragic event during his previous life ...         NaN      1  \n",
       "3      Labour said it was \" truly shocking \" that the...         0.0      0  \n",
       "4      He may well have depression and this may have ...         NaN      1  \n",
       "...                                                  ...         ...    ...  \n",
       "15155  Whenever the term ' disabled ' is mentioned , ...         NaN      1  \n",
       "15156  Founded with only 13 members initially in Dece...         0.0      0  \n",
       "15157  Together they will bring more than 70 years of...         NaN      1  \n",
       "15158  \" Every family which qualifies for the program...         NaN      1  \n",
       "15159  The simulation began with officers taking 11 i...         0.0      0  \n",
       "\n",
       "[15160 rows x 7 columns]>"
      ]
     },
     "execution_count": 9,
     "metadata": {},
     "output_type": "execute_result"
    }
   ],
   "execution_count": 9
  },
  {
   "metadata": {
    "ExecuteTime": {
     "end_time": "2025-03-01T17:12:33.868265Z",
     "start_time": "2025-03-01T17:12:33.729521Z"
    }
   },
   "cell_type": "code",
   "source": [
    "# Distribution of original 5 labels (0–4)\n",
    "label_counts = train_df_final[\"label\"].value_counts().sort_index()\n",
    "print(label_counts)\n",
    "\n",
    "# Plot distribution\n",
    "label_counts.plot(kind=\"bar\", title=\"Train set Label Distribution (0-1)\")\n",
    "plt.xlabel(\"Label\")\n",
    "plt.ylabel(\"Count\")\n",
    "plt.show()\n",
    "\n",
    "# Distribution of original 5 labels (0–4)\n",
    "label_counts = test_df[\"label\"].value_counts().sort_index()\n",
    "print(label_counts)\n",
    "\n",
    "# Plot distribution\n",
    "label_counts.plot(kind=\"bar\", title=\"Test set Label Distribution (0-1)\")\n",
    "plt.xlabel(\"Label\")\n",
    "plt.ylabel(\"Count\")\n",
    "plt.show()"
   ],
   "id": "43e2b97eebbd44d3",
   "outputs": [
    {
     "name": "stdout",
     "output_type": "stream",
     "text": [
      "label\n",
      "0    7580\n",
      "1    7580\n",
      "Name: count, dtype: int64\n"
     ]
    },
    {
     "data": {
      "text/plain": [
       "<Figure size 640x480 with 1 Axes>"
      ],
      "image/png": "[encoded data removed]"
     },
     "metadata": {},
     "output_type": "display_data"
    },
    {
     "name": "stdout",
     "output_type": "stream",
     "text": [
      "label\n",
      "0    947\n",
      "1    100\n",
      "Name: count, dtype: int64\n"
     ]
    },
    {
     "data": {
      "text/plain": [
       "<Figure size 640x480 with 1 Axes>"
      ],
      "image/png": "[encoded data removed]"
     },
     "metadata": {},
     "output_type": "display_data"
    }
   ],
   "execution_count": 10
  },
  {
   "metadata": {},
   "cell_type": "markdown",
   "source": [
    "### Training and Evaluation\n",
    "\n"
   ],
   "id": "8f22f029f2b0564"
  },
  {
   "metadata": {
    "ExecuteTime": {
     "end_time": "2025-03-01T17:58:09.957449Z",
     "start_time": "2025-03-01T17:58:09.944446Z"
    }
   },
   "cell_type": "code",
   "source": [
    "MODEL_NAME = 'roberta-base'\n",
    "MAX_LENGTH = 256\n",
    "BATCH_SIZE = 16\n",
    "NUM_EPOCHS = 10\n",
    "PATIENCE = [2, 3, 4]\n",
    "WARMUP_PROPORTION = [0.05, 0.1, 0.2]\n",
    "LR_CANDIDATES = [1e-5, 2e-5, 5e-5]\n",
    "ENSEMBLE_SEEDS = [42, 52, 62]"
   ],
   "id": "bd02f7876324fdb5",
   "outputs": [],
   "execution_count": 15
  },
  {
   "metadata": {
    "ExecuteTime": {
     "end_time": "2025-03-01T17:58:10.407021Z",
     "start_time": "2025-03-01T17:58:10.394021Z"
    }
   },
   "cell_type": "code",
   "source": [
    "# Create DataLoader for a given DataFrame\n",
    "from tqdm import tqdm\n",
    "def build_dataloader(df, tokenizer, batch_size, shuffle=False):\n",
    "    texts = list(df['paragraph'])\n",
    "    encodings = tokenizer(texts, padding='max_length', truncation=True, max_length=MAX_LENGTH, return_tensors='pt')\n",
    "    if 'label' in df.columns:\n",
    "        labels = torch.tensor(df['label'].values, dtype=torch.long)\n",
    "        dataset = TensorDataset(encodings['input_ids'], encodings['attention_mask'], labels)\n",
    "    else:\n",
    "        dataset = TensorDataset(encodings['input_ids'], encodings['attention_mask'])\n",
    "    return DataLoader(dataset, batch_size=batch_size, shuffle=shuffle, pin_memory=True)\n",
    "\n",
    "\n",
    "# Training function for one model\n",
    "def train_model(train_loader, val_loader, learning_rate, class_weights_tensor, num_epochs=NUM_EPOCHS, patience=PATIENCE, seed=42, warm_up=0.1):\n",
    "    set_seed(seed)\n",
    "    model = AutoModelForSequenceClassification.from_pretrained(MODEL_NAME, num_labels=2)\n",
    "    model.to(device)\n",
    "    optimizer = AdamW(model.parameters(), lr=learning_rate, weight_decay=1e-2)\n",
    "    total_steps = num_epochs * len(train_loader)\n",
    "    warmup_steps = int(warm_up * total_steps)\n",
    "    scheduler = get_linear_schedule_with_warmup(optimizer, num_warmup_steps=warmup_steps,\n",
    "                                                num_training_steps=total_steps)\n",
    "    scaler = torch.amp.GradScaler()\n",
    "    best_f1 = 0.0\n",
    "    best_state = None\n",
    "    epochs_no_improve = 0\n",
    "\n",
    "    for epoch in tqdm(range(1, num_epochs + 1), desc=\"Epoch\", leave=False):\n",
    "        model.train()\n",
    "        total_loss = 0.0\n",
    "        for batch in train_loader:\n",
    "            optimizer.zero_grad()\n",
    "            input_ids = batch[0].to(device)\n",
    "            attention_mask = batch[1].to(device)\n",
    "            labels = batch[2].to(device)\n",
    "            # Forward pass (with mixed precision)\n",
    "            with torch.amp.autocast(device_type='cuda'):\n",
    "                outputs = model(input_ids=input_ids, attention_mask=attention_mask)\n",
    "                logits = outputs.logits\n",
    "                loss_fct = nn.CrossEntropyLoss(weight=class_weights_tensor.to(device))\n",
    "                loss = loss_fct(logits, labels)\n",
    "            # Backward pass and optimization\n",
    "            scaler.scale(loss).backward()\n",
    "            scaler.step(optimizer)\n",
    "            scaler.update()\n",
    "            scheduler.step()\n",
    "            total_loss += loss.item()\n",
    "        # Validation phase\n",
    "        model.eval()\n",
    "        all_preds, all_labels = [], []\n",
    "        with torch.no_grad():\n",
    "            for batch in val_loader:\n",
    "                input_ids = batch[0].to(device)\n",
    "                attention_mask = batch[1].to(device)\n",
    "                labels = batch[2].to(device)\n",
    "                outputs = model(input_ids=input_ids, attention_mask=attention_mask, labels=labels)\n",
    "                preds = torch.argmax(outputs.logits, dim=1)\n",
    "                all_preds.extend(preds.cpu().numpy())\n",
    "                all_labels.extend(labels.cpu().numpy())\n",
    "        val_f1 = f1_score(all_labels, all_preds, average='binary')\n",
    "        print(f\"Epoch {epoch}/{num_epochs} - Loss: {total_loss / len(train_loader):.4f} - Val F1: {val_f1:.4f}\")\n",
    "        # Check for improvement\n",
    "        if val_f1 > best_f1:\n",
    "            best_f1 = val_f1\n",
    "            best_state = copy.deepcopy(model.state_dict())\n",
    "            epochs_no_improve = 0\n",
    "        else:\n",
    "            epochs_no_improve += 1\n",
    "            if epochs_no_improve >= patience:\n",
    "                print(\"Early stopping triggered.\")\n",
    "                break\n",
    "\n",
    "    # Load best weights and return model\n",
    "    if best_state is not None:\n",
    "        model.load_state_dict(best_state)\n",
    "    model.eval()\n",
    "    return model, best_f1"
   ],
   "id": "e3a213eb19442fa4",
   "outputs": [],
   "execution_count": 16
  },
  {
   "metadata": {
    "ExecuteTime": {
     "end_time": "2025-03-01T17:58:11.202822Z",
     "start_time": "2025-03-01T17:58:11.189873Z"
    }
   },
   "cell_type": "code",
   "source": [
    "from sklearn.utils.class_weight import compute_class_weight\n",
    "\n",
    "# (B) Compute class weights if data is imbalanced\n",
    "# If truly balanced, you might skip or set them to [1.0, 1.0].\n",
    "train_labels = train_df['label'].values\n",
    "# This uses scikit-learn to automatically compute\n",
    "class_weights = compute_class_weight(\n",
    "    class_weight='balanced',\n",
    "    classes=np.unique(train_labels),\n",
    "    y=train_labels\n",
    ")\n",
    "\n",
    "class_weights[1] = class_weights[1] * 0.5\n",
    "# Convert to torch tensor\n",
    "class_weights_tensor = torch.tensor(class_weights, dtype=torch.float)\n",
    "\n",
    "class_weights_tensor"
   ],
   "id": "829b5b968ed68703",
   "outputs": [
    {
     "data": {
      "text/plain": [
       "tensor([0.5516, 2.6715])"
      ]
     },
     "execution_count": 17,
     "metadata": {},
     "output_type": "execute_result"
    }
   ],
   "execution_count": 17
  },
  {
   "metadata": {
    "jupyter": {
     "is_executing": true
    },
    "ExecuteTime": {
     "start_time": "2025-03-01T17:58:12.062839Z"
    }
   },
   "cell_type": "code",
   "source": [
    "train = True\n",
    "import optuna\n",
    "def objective(trial):\n",
    "    # Choose a learning rate and seed from your candidate lists\n",
    "    lr = trial.suggest_categorical(\"lr\", LR_CANDIDATES)\n",
    "    patience = trial.suggest_categorical(\"patience\", PATIENCE)\n",
    "    warm_up = trial.suggest_categorical(\"warm_up\", WARMUP_PROPORTION)\n",
    "\n",
    "    # Train a model with these hyperparams\n",
    "    model, val_f1 = train_model(\n",
    "        train_loader=train_loader,\n",
    "        val_loader=val_loader,\n",
    "        class_weights_tensor=class_weights_tensor,\n",
    "        learning_rate=lr,\n",
    "        num_epochs=NUM_EPOCHS,\n",
    "        patience=patience,\n",
    "        warm_up=warm_up,\n",
    "    )\n",
    "    # Return the metric that we want to maximize\n",
    "    return val_f1\n",
    "\n",
    "# Tokenize and create DataLoaders\n",
    "tokenizer = AutoTokenizer.from_pretrained(MODEL_NAME)\n",
    "train_loader = build_dataloader(train_df, tokenizer, batch_size=BATCH_SIZE, shuffle=True)\n",
    "val_loader = build_dataloader(val_df, tokenizer, batch_size=BATCH_SIZE, shuffle=False)\n",
    "test_loader = build_dataloader(test_df, tokenizer, batch_size=BATCH_SIZE, shuffle=False)\n",
    "\n",
    "ensemble_models = []\n",
    "for seed in ENSEMBLE_SEEDS:\n",
    "    set_seed(seed)\n",
    "    study = optuna.create_study(direction=\"maximize\")\n",
    "\n",
    "    study.optimize(objective, n_trials=10)  # e.g., 10 total trials\n",
    "\n",
    "    # 3) Best results\n",
    "    best_lr = study.best_params[\"lr\"]\n",
    "    best_seed = study.best_params[\"seed\"]\n",
    "    best_val_f1 = study.best_value\n",
    "\n",
    "    print(f\"Optuna best lr = {best_lr}, best seed = {best_seed}, best_val_f1 = {best_val_f1:.4f}\")\n",
    "\n",
    "    # 4) You can retrain your best model if you want a final version\n",
    "    final_model, _ = train_model(\n",
    "        train_loader, val_loader,\n",
    "        class_weights_tensor=class_weights_tensor,\n",
    "        learning_rate=best_lr,\n",
    "        num_epochs=NUM_EPOCHS,\n",
    "        patience=PATIENCE,\n",
    "        seed=best_seed\n",
    "    )\n",
    "    ensemble_models.append(final_model)\n",
    "    # Save the model\n",
    "    torch.save(final_model.state_dict(), f\"model_seed_{best_seed}.pt\")\n",
    "\n"
   ],
   "id": "82d8adbbcf75daa1",
   "outputs": [
    {
     "name": "stderr",
     "output_type": "stream",
     "text": [
      "[I 2025-03-01 17:58:13,061] A new study created in memory with name: no-name-4fb5891c-f68a-4c3a-b37a-8745193837da\n",
      "Epoch:  10%|█         | 1/10 [01:58<17:49, 118.88s/it]"
     ]
    },
    {
     "name": "stdout",
     "output_type": "stream",
     "text": [
      "Epoch 1/10 - Loss: 0.5804 - Val F1: 0.5232\n"
     ]
    },
    {
     "name": "stderr",
     "output_type": "stream",
     "text": [
      "Epoch:  20%|██        | 2/10 [07:03<30:26, 228.30s/it]"
     ]
    },
    {
     "name": "stdout",
     "output_type": "stream",
     "text": [
      "Epoch 2/10 - Loss: 0.3893 - Val F1: 0.5275\n"
     ]
    },
    {
     "name": "stderr",
     "output_type": "stream",
     "text": [
      "Epoch:  30%|███       | 3/10 [12:05<30:33, 261.97s/it]"
     ]
    },
    {
     "name": "stdout",
     "output_type": "stream",
     "text": [
      "Epoch 3/10 - Loss: 0.2640 - Val F1: 0.7961\n"
     ]
    },
    {
     "name": "stderr",
     "output_type": "stream",
     "text": [
      "Epoch:  40%|████      | 4/10 [16:48<27:00, 270.11s/it]"
     ]
    },
    {
     "name": "stdout",
     "output_type": "stream",
     "text": [
      "Epoch 4/10 - Loss: 0.1640 - Val F1: 0.7854\n"
     ]
    },
    {
     "name": "stderr",
     "output_type": "stream",
     "text": [
      "Epoch:  50%|█████     | 5/10 [21:28<22:48, 273.61s/it]"
     ]
    },
    {
     "name": "stdout",
     "output_type": "stream",
     "text": [
      "Epoch 5/10 - Loss: 0.1016 - Val F1: 0.8056\n"
     ]
    },
    {
     "name": "stderr",
     "output_type": "stream",
     "text": [
      "Epoch:  60%|██████    | 6/10 [25:46<17:53, 268.48s/it]"
     ]
    },
    {
     "name": "stdout",
     "output_type": "stream",
     "text": [
      "Epoch 6/10 - Loss: 0.0618 - Val F1: 0.8342\n"
     ]
    },
    {
     "name": "stderr",
     "output_type": "stream",
     "text": [
      "Epoch:  70%|███████   | 7/10 [29:34<12:45, 255.30s/it]"
     ]
    },
    {
     "name": "stdout",
     "output_type": "stream",
     "text": [
      "Epoch 7/10 - Loss: 0.0383 - Val F1: 0.8317\n"
     ]
    },
    {
     "name": "stderr",
     "output_type": "stream",
     "text": [
      "Epoch:  80%|████████  | 8/10 [33:16<08:09, 244.72s/it]"
     ]
    },
    {
     "name": "stdout",
     "output_type": "stream",
     "text": [
      "Epoch 8/10 - Loss: 0.0225 - Val F1: 0.8447\n"
     ]
    },
    {
     "name": "stderr",
     "output_type": "stream",
     "text": [
      "Epoch:  90%|█████████ | 9/10 [37:16<04:03, 243.18s/it]"
     ]
    },
    {
     "name": "stdout",
     "output_type": "stream",
     "text": [
      "Epoch 9/10 - Loss: 0.0130 - Val F1: 0.8629\n"
     ]
    },
    {
     "name": "stderr",
     "output_type": "stream",
     "text": [
      "[I 2025-03-01 18:39:44,033] Trial 0 finished with value: 0.865979381443299 and parameters: {'lr': 1e-05, 'patience': 2, 'warm_up': 0.2}. Best is trial 0 with value: 0.865979381443299.\n"
     ]
    },
    {
     "name": "stdout",
     "output_type": "stream",
     "text": [
      "Epoch 10/10 - Loss: 0.0080 - Val F1: 0.8660\n"
     ]
    },
    {
     "name": "stderr",
     "output_type": "stream",
     "text": [
      "Epoch:  10%|█         | 1/10 [04:42<42:26, 282.99s/it]"
     ]
    },
    {
     "name": "stdout",
     "output_type": "stream",
     "text": [
      "Epoch 1/10 - Loss: 0.5445 - Val F1: 0.5867\n"
     ]
    },
    {
     "name": "stderr",
     "output_type": "stream",
     "text": [
      "Epoch:  20%|██        | 2/10 [08:46<34:37, 259.67s/it]"
     ]
    },
    {
     "name": "stdout",
     "output_type": "stream",
     "text": [
      "Epoch 2/10 - Loss: 0.3489 - Val F1: 0.6139\n"
     ]
    },
    {
     "name": "stderr",
     "output_type": "stream",
     "text": [
      "Epoch:  30%|███       | 3/10 [12:02<26:55, 230.73s/it]"
     ]
    },
    {
     "name": "stdout",
     "output_type": "stream",
     "text": [
      "Epoch 3/10 - Loss: 0.2129 - Val F1: 0.7615\n"
     ]
    },
    {
     "name": "stderr",
     "output_type": "stream",
     "text": [
      "Epoch:  40%|████      | 4/10 [15:55<23:08, 231.47s/it]"
     ]
    },
    {
     "name": "stdout",
     "output_type": "stream",
     "text": [
      "Epoch 4/10 - Loss: 0.1248 - Val F1: 0.8416\n"
     ]
    },
    {
     "name": "stderr",
     "output_type": "stream",
     "text": [
      "Epoch:  50%|█████     | 5/10 [20:41<20:56, 251.33s/it]"
     ]
    },
    {
     "name": "stdout",
     "output_type": "stream",
     "text": [
      "Epoch 5/10 - Loss: 0.0812 - Val F1: 0.8252\n"
     ]
    },
    {
     "name": "stderr",
     "output_type": "stream",
     "text": [
      "Epoch:  60%|██████    | 6/10 [25:27<17:31, 262.85s/it]"
     ]
    },
    {
     "name": "stdout",
     "output_type": "stream",
     "text": [
      "Epoch 6/10 - Loss: 0.0542 - Val F1: 0.7607\n"
     ]
    },
    {
     "name": "stderr",
     "output_type": "stream",
     "text": [
      "Epoch:  70%|███████   | 7/10 [30:10<13:28, 269.46s/it]"
     ]
    },
    {
     "name": "stdout",
     "output_type": "stream",
     "text": [
      "Epoch 7/10 - Loss: 0.0289 - Val F1: 0.8060\n"
     ]
    },
    {
     "name": "stderr",
     "output_type": "stream",
     "text": [
      "[I 2025-03-01 19:14:43,548] Trial 1 finished with value: 0.8415841584158416 and parameters: {'lr': 1e-05, 'patience': 4, 'warm_up': 0.1}. Best is trial 0 with value: 0.865979381443299.\n"
     ]
    },
    {
     "name": "stdout",
     "output_type": "stream",
     "text": [
      "Epoch 8/10 - Loss: 0.0176 - Val F1: 0.8200\n",
      "Early stopping triggered.\n"
     ]
    },
    {
     "name": "stderr",
     "output_type": "stream",
     "text": [
      "Epoch:  10%|█         | 1/10 [04:37<41:36, 277.37s/it]"
     ]
    },
    {
     "name": "stdout",
     "output_type": "stream",
     "text": [
      "Epoch 1/10 - Loss: 0.5457 - Val F1: 0.5972\n"
     ]
    },
    {
     "name": "stderr",
     "output_type": "stream",
     "text": [
      "Epoch:  20%|██        | 2/10 [08:31<33:33, 251.71s/it]"
     ]
    },
    {
     "name": "stdout",
     "output_type": "stream",
     "text": [
      "Epoch 2/10 - Loss: 0.3680 - Val F1: 0.6392\n"
     ]
    },
    {
     "name": "stderr",
     "output_type": "stream",
     "text": [
      "Epoch:  30%|███       | 3/10 [11:51<26:37, 228.27s/it]"
     ]
    },
    {
     "name": "stdout",
     "output_type": "stream",
     "text": [
      "Epoch 3/10 - Loss: 0.2439 - Val F1: 0.7923\n"
     ]
    },
    {
     "name": "stderr",
     "output_type": "stream",
     "text": [
      "Epoch:  40%|████      | 4/10 [15:56<23:30, 235.00s/it]"
     ]
    },
    {
     "name": "stdout",
     "output_type": "stream",
     "text": [
      "Epoch 4/10 - Loss: 0.1389 - Val F1: 0.7137\n"
     ]
    },
    {
     "name": "stderr",
     "output_type": "stream",
     "text": [
      "Epoch:  50%|█████     | 5/10 [19:45<19:24, 232.80s/it]"
     ]
    },
    {
     "name": "stdout",
     "output_type": "stream",
     "text": [
      "Epoch 5/10 - Loss: 0.0806 - Val F1: 0.7981\n"
     ]
    },
    {
     "name": "stderr",
     "output_type": "stream",
     "text": [
      "Epoch:  60%|██████    | 6/10 [24:25<16:34, 248.71s/it]"
     ]
    },
    {
     "name": "stdout",
     "output_type": "stream",
     "text": [
      "Epoch 6/10 - Loss: 0.0344 - Val F1: 0.8230\n"
     ]
    },
    {
     "name": "stderr",
     "output_type": "stream",
     "text": [
      "Epoch:  70%|███████   | 7/10 [28:45<12:37, 252.48s/it]"
     ]
    },
    {
     "name": "stdout",
     "output_type": "stream",
     "text": [
      "Epoch 7/10 - Loss: 0.0217 - Val F1: 0.8374\n"
     ]
    },
    {
     "name": "stderr",
     "output_type": "stream",
     "text": [
      "Epoch:  80%|████████  | 8/10 [32:54<08:22, 251.47s/it]"
     ]
    },
    {
     "name": "stdout",
     "output_type": "stream",
     "text": [
      "Epoch 8/10 - Loss: 0.0128 - Val F1: 0.8351\n"
     ]
    },
    {
     "name": "stderr",
     "output_type": "stream",
     "text": [
      "[I 2025-03-01 19:52:10,897] Trial 2 finished with value: 0.8374384236453202 and parameters: {'lr': 2e-05, 'patience': 2, 'warm_up': 0.2}. Best is trial 0 with value: 0.865979381443299.\n"
     ]
    },
    {
     "name": "stdout",
     "output_type": "stream",
     "text": [
      "Epoch 9/10 - Loss: 0.0077 - Val F1: 0.8186\n",
      "Early stopping triggered.\n"
     ]
    },
    {
     "name": "stderr",
     "output_type": "stream",
     "text": [
      "Epoch:  10%|█         | 1/10 [04:32<40:56, 272.96s/it]"
     ]
    },
    {
     "name": "stdout",
     "output_type": "stream",
     "text": [
      "Epoch 1/10 - Loss: 0.5806 - Val F1: 0.5164\n"
     ]
    },
    {
     "name": "stderr",
     "output_type": "stream",
     "text": [
      "Epoch:  20%|██        | 2/10 [08:29<33:33, 251.72s/it]"
     ]
    },
    {
     "name": "stdout",
     "output_type": "stream",
     "text": [
      "Epoch 2/10 - Loss: 0.3878 - Val F1: 0.5353\n"
     ]
    },
    {
     "name": "stderr",
     "output_type": "stream",
     "text": [
      "Epoch:  30%|███       | 3/10 [11:48<26:33, 227.63s/it]"
     ]
    },
    {
     "name": "stdout",
     "output_type": "stream",
     "text": [
      "Epoch 3/10 - Loss: 0.2631 - Val F1: 0.7867\n"
     ]
    }
   ],
   "execution_count": null
  },
  {
   "metadata": {
    "ExecuteTime": {
     "end_time": "2025-03-01T17:51:28.863640700Z",
     "start_time": "2025-03-01T16:39:41.162350Z"
    }
   },
   "cell_type": "code",
   "source": [
    "all_predictions = []\n",
    "for model in ensemble_models:\n",
    "    model.eval()\n",
    "    preds = []\n",
    "    with torch.no_grad():\n",
    "        for batch in test_loader:  # val_loader is a DataLoader object\n",
    "            input_ids = batch[0].to(device)\n",
    "            attention_mask = batch[1].to(device)\n",
    "            outputs = model(input_ids=input_ids, attention_mask=attention_mask)\n",
    "            batch_preds = torch.argmax(outputs.logits, dim=1).cpu().numpy()\n",
    "            preds.extend(batch_preds)\n",
    "    all_predictions.append(preds)\n",
    "\n",
    "# Transpose and vote\n",
    "all_predictions = np.array(all_predictions)  # shape: (num_models, num_examples)\n",
    "ensemble_preds = []\n",
    "for j in range(all_predictions.shape[1]):\n",
    "    votes = np.sum(all_predictions[:, j])\n",
    "    ensemble_preds.append(1 if votes > len(ensemble_models) / 2 else 0)\n",
    "\n",
    "# We need the original validation DataFrame for labels and paragraph IDs\n",
    "test_labels = test_df['label'].values  # Use val_df, not val_loader\n",
    "dev_f1 = f1_score(test_labels, ensemble_preds, average='binary')\n",
    "print(f\"Best Local Test F1 = {dev_f1:.4f}\")\n",
    "\n",
    "# Save predictions to files using the original DataFrames\n",
    "with open(\"dev.txt\", \"w\") as f:\n",
    "    for pred in ensemble_preds:\n",
    "        f.write(f\"{pred}\\n\")\n",
    "\n",
    "print(\"Prediction files generated: dev.txt\")"
   ],
   "id": "118be6b2a5a2edeb",
   "outputs": [
    {
     "name": "stdout",
     "output_type": "stream",
     "text": [
      "Ensemble Local Test F1 = 0.6010\n",
      "Prediction files generated: predictions_dev_test.txt\n"
     ]
    }
   ],
   "execution_count": 26
  },
  {
   "metadata": {
    "ExecuteTime": {
     "end_time": "2025-03-01T17:51:28.875642300Z",
     "start_time": "2025-03-01T16:40:24.138237Z"
    }
   },
   "cell_type": "code",
   "source": [
    "# After making your ensemble predictions:\n",
    "incorrect_indices = []\n",
    "incorrect_examples = []\n",
    "\n",
    "for i, (true, pred) in enumerate(zip(test_labels, ensemble_preds)):\n",
    "    if true != pred:\n",
    "        incorrect_indices.append(i)\n",
    "        incorrect_examples.append({\n",
    "            'par_id': test_df['par_id'].iloc[i],\n",
    "            'paragraph': test_df['paragraph'].iloc[i],\n",
    "            'true_label': true,\n",
    "            'predicted': pred\n",
    "        })\n",
    "\n",
    "# Create a DataFrame with incorrect examples\n",
    "incorrect_df = pd.DataFrame(incorrect_examples)\n",
    "\n",
    "# Save to file\n",
    "incorrect_df.to_csv(\"incorrect_predictions.csv\", index=False)\n",
    "\n",
    "# Print summary\n",
    "print(f\"Found {len(incorrect_indices)} incorrect predictions out of {len(test_labels)} examples ({len(incorrect_indices)/len(test_labels)*100:.2f}%)\")\n",
    "\n",
    "# Print some examples if desired\n",
    "print(\"\\nSample incorrect predictions:\")\n",
    "for i, example in enumerate(incorrect_examples[:5]):  # Show first 5\n",
    "    print(f\"Example {i+1}:\")\n",
    "    print(f\"ID: {example['par_id']}\")\n",
    "    print(f\"Text: {example['paragraph'][:100]}...\" if len(example['paragraph']) > 100 else example['paragraph'])\n",
    "    print(f\"True label: {example['true_label']}, Predicted: {example['predicted']}\")\n",
    "    print(\"-\" * 50)\n",
    "\n",
    "from sklearn.metrics import classification_report, confusion_matrix\n",
    "\n",
    "# Print detailed metrics\n",
    "print(classification_report(test_labels, ensemble_preds))\n",
    "\n",
    "# Show confusion matrix\n",
    "print(confusion_matrix(test_labels, ensemble_preds))\n",
    "\n",
    "# Check class distribution\n",
    "print(f\"Class distribution in test set: {np.unique(test_labels, return_counts=True)}\")"
   ],
   "id": "cba03b89fb36af92",
   "outputs": [
    {
     "name": "stdout",
     "output_type": "stream",
     "text": [
      "Found 81 incorrect predictions out of 1047 examples (7.74%)\n",
      "\n",
      "Sample incorrect predictions:\n",
      "Example 1:\n",
      "ID: 3901\n",
      "Text: \" The national and county governments must work together to improve the lives of the disabled , \" sa...\n",
      "True label: 0, Predicted: 1\n",
      "--------------------------------------------------\n",
      "Example 2:\n",
      "ID: 6890\n",
      "Alexis and her family decided to donate more than 400 of those presents to children in need .\n",
      "True label: 0, Predicted: 1\n",
      "--------------------------------------------------\n",
      "Example 3:\n",
      "ID: 9505\n",
      "Text: I mention these moments to highlight and illustrate the potential that young people have to change o...\n",
      "True label: 0, Predicted: 1\n",
      "--------------------------------------------------\n",
      "Example 4:\n",
      "ID: 2679\n",
      "Text: She was speaking at Colours of Cape Town , a night of solidarity between Cape Town 's LGBTI and immi...\n",
      "True label: 0, Predicted: 1\n",
      "--------------------------------------------------\n",
      "Example 5:\n",
      "ID: 4393\n",
      "Text: The law stipulated 21 rights of the disabled persons . The disabled persons must get the national id...\n",
      "True label: 1, Predicted: 0\n",
      "--------------------------------------------------\n",
      "              precision    recall  f1-score   support\n",
      "\n",
      "           0       0.96      0.96      0.96       947\n",
      "           1       0.59      0.61      0.60       100\n",
      "\n",
      "    accuracy                           0.92      1047\n",
      "   macro avg       0.78      0.78      0.78      1047\n",
      "weighted avg       0.92      0.92      0.92      1047\n",
      "\n",
      "[[905  42]\n",
      " [ 39  61]]\n",
      "Class distribution in test set: (array([0, 1]), array([947, 100]))\n"
     ]
    }
   ],
   "execution_count": 27
  },
  {
   "metadata": {
    "ExecuteTime": {
     "end_time": "2025-03-01T17:51:28.876642100Z",
     "start_time": "2025-03-01T16:54:53.076217Z"
    }
   },
   "cell_type": "code",
   "source": [
    "final_test_without_predictions = pd.read_csv('./data/task4_test.tsv', sep='\\t', header=None,\n",
    "                    names=[\"par_id\", \"art_id\", \"keyword\", \"country\", \"paragraph\"], skiprows=0)\n",
    "print(final_test_without_predictions.head())\n",
    "print(final_test_without_predictions.info())\n",
    "\n",
    "final_test_without_predictions = final_test_without_predictions.dropna(subset=['paragraph'])\n",
    "final_test_without_predictions['paragraph'] = final_test_without_predictions['paragraph'].astype(str)\n",
    "\n",
    "final_test_loader = build_dataloader(final_test_without_predictions, tokenizer, batch_size=BATCH_SIZE, shuffle=False)\n",
    "\n",
    "all_final_test_preds = []\n",
    "\n",
    "for model in ensemble_models:\n",
    "    model.eval()\n",
    "    preds = []\n",
    "    with torch.no_grad():\n",
    "        for batch in final_test_loader:  # val_loader is a DataLoader object\n",
    "            input_ids = batch[0].to(device)\n",
    "            attention_mask = batch[1].to(device)\n",
    "            outputs = model(input_ids=input_ids, attention_mask=attention_mask)\n",
    "            batch_preds = torch.argmax(outputs.logits, dim=1).cpu().numpy()\n",
    "            preds.extend(batch_preds)\n",
    "    all_final_test_preds.append(preds)\n",
    "\n",
    "# Transpose and vote\n",
    "all_final_test_preds = np.array(all_final_test_preds)  # shape: (num_models, num_examples)\n",
    "ensemble_final_test_preds = []\n",
    "for j in range(all_final_test_preds.shape[1]):\n",
    "    votes = np.sum(all_final_test_preds[:, j])\n",
    "    ensemble_final_test_preds.append(1 if votes > len(ensemble_models) / 2 else 0)\n",
    "\n",
    "# Save predictions to files using the original DataFrames\n",
    "with open(\"test.txt\", \"w\") as f:\n",
    "    for pred in ensemble_final_test_preds:\n",
    "        f.write(f\"{pred}\\n\")"
   ],
   "id": "db4cd1f6228aebbf",
   "outputs": [
    {
     "name": "stdout",
     "output_type": "stream",
     "text": [
      "  par_id      art_id     keyword country  \\\n",
      "0    t_0   @@7258997  vulnerable      us   \n",
      "1    t_1  @@16397324       women      pk   \n",
      "2    t_2  @@16257812     migrant      ca   \n",
      "3    t_3   @@3509652     migrant      gb   \n",
      "4    t_4    @@477506  vulnerable      ca   \n",
      "\n",
      "                                           paragraph  \n",
      "0  In the meantime , conservatives are working to...  \n",
      "1  In most poor households with no education chil...  \n",
      "2  The real question is not whether immigration i...  \n",
      "3  In total , the country 's immigrant population...  \n",
      "4  Members of the church , which is part of Ken C...  \n",
      "<class 'pandas.core.frame.DataFrame'>\n",
      "RangeIndex: 3832 entries, 0 to 3831\n",
      "Data columns (total 5 columns):\n",
      " #   Column     Non-Null Count  Dtype \n",
      "---  ------     --------------  ----- \n",
      " 0   par_id     3832 non-null   object\n",
      " 1   art_id     3832 non-null   object\n",
      " 2   keyword    3832 non-null   object\n",
      " 3   country    3832 non-null   object\n",
      " 4   paragraph  3832 non-null   object\n",
      "dtypes: object(5)\n",
      "memory usage: 149.8+ KB\n",
      "None\n"
     ]
    },
    {
     "ename": "AttributeError",
     "evalue": "'numpy.ndarray' object has no attribute 'append'",
     "output_type": "error",
     "traceback": [
      "\u001B[1;31m---------------------------------------------------------------------------\u001B[0m",
      "\u001B[1;31mAttributeError\u001B[0m                            Traceback (most recent call last)",
      "Cell \u001B[1;32mIn[33], line 23\u001B[0m\n\u001B[0;32m     21\u001B[0m             batch_preds \u001B[38;5;241m=\u001B[39m torch\u001B[38;5;241m.\u001B[39margmax(outputs\u001B[38;5;241m.\u001B[39mlogits, dim\u001B[38;5;241m=\u001B[39m\u001B[38;5;241m1\u001B[39m)\u001B[38;5;241m.\u001B[39mcpu()\u001B[38;5;241m.\u001B[39mnumpy()\n\u001B[0;32m     22\u001B[0m             preds\u001B[38;5;241m.\u001B[39mextend(batch_preds)\n\u001B[1;32m---> 23\u001B[0m     \u001B[43mall_dev_test_preds\u001B[49m\u001B[38;5;241;43m.\u001B[39;49m\u001B[43mappend\u001B[49m(preds)\n\u001B[0;32m     25\u001B[0m \u001B[38;5;66;03m# Transpose and vote\u001B[39;00m\n\u001B[0;32m     26\u001B[0m all_final_test_preds \u001B[38;5;241m=\u001B[39m np\u001B[38;5;241m.\u001B[39marray(all_final_test_preds)  \u001B[38;5;66;03m# shape: (num_models, num_examples)\u001B[39;00m\n",
      "\u001B[1;31mAttributeError\u001B[0m: 'numpy.ndarray' object has no attribute 'append'"
     ]
    }
   ],
   "execution_count": 33
  },
  {
   "metadata": {
    "ExecuteTime": {
     "end_time": "2025-03-01T17:51:28.877642300Z",
     "start_time": "2025-03-01T16:40:24.243319Z"
    }
   },
   "cell_type": "code",
   "source": [
    "import random\n",
    "import numpy as np\n",
    "import torch\n",
    "import pandas as pd\n",
    "\n",
    "from sklearn.feature_extraction.text import CountVectorizer\n",
    "from sklearn.naive_bayes import MultinomialNB\n",
    "from sklearn.metrics import f1_score\n",
    "from sklearn.utils import shuffle\n",
    "\n",
    "###################################################\n",
    "# REUSABLE UTILITIES (SEEDING, ETC.)\n",
    "###################################################\n",
    "def set_seed(seed):\n",
    "    random.seed(seed)\n",
    "    np.random.seed(seed)\n",
    "    torch.manual_seed(seed)\n",
    "    torch.cuda.manual_seed_all(seed)\n",
    "\n",
    "###################################################\n",
    "# BOW BASELINE IMPLEMENTATION\n",
    "###################################################\n",
    "def train_bow_baseline(train_df, val_df, seed=42):\n",
    "    \"\"\"\n",
    "    Trains a simple Naïve Bayes Bag-of-Words baseline.\n",
    "\n",
    "    :param train_df: A pandas DataFrame with columns ['paragraph', 'label']\n",
    "    :param val_df: A pandas DataFrame with columns ['paragraph', 'label']\n",
    "    :param seed: Random seed for reproducibility\n",
    "    :return: A tuple (vectorizer, model) of the trained baseline\n",
    "    \"\"\"\n",
    "\n",
    "    # Ensure reproducibility\n",
    "    set_seed(seed)\n",
    "\n",
    "    # Shuffle data (optional, but often good practice)\n",
    "    train_df = shuffle(train_df, random_state=seed).reset_index(drop=True)\n",
    "    val_df = shuffle(val_df, random_state=seed).reset_index(drop=True)\n",
    "\n",
    "    # Separate features and labels\n",
    "    X_train = train_df['paragraph'].tolist()\n",
    "    y_train = train_df['label'].values\n",
    "    X_val = val_df['paragraph'].tolist()\n",
    "    y_val = val_df['label'].values\n",
    "\n",
    "    # Create a CountVectorizer (Bag-of-Words)\n",
    "    vectorizer = CountVectorizer(\n",
    "        lowercase=True,\n",
    "        stop_words='english',  # optional; can remove if you want exact BOW\n",
    "        max_features=10000     # limit vocab size if needed\n",
    "    )\n",
    "\n",
    "    # Fit vectorizer on training data, then transform both train and val\n",
    "    X_train_vec = vectorizer.fit_transform(X_train)\n",
    "    X_val_vec = vectorizer.transform(X_val)\n",
    "\n",
    "    # Define a simple MultinomialNB model\n",
    "    model = MultinomialNB()\n",
    "\n",
    "    # Train the model\n",
    "    model.fit(X_train_vec, y_train)\n",
    "\n",
    "    # Predict on validation set\n",
    "    val_preds = model.predict(X_val_vec)\n",
    "    val_f1 = f1_score(y_val, val_preds, average='binary')\n",
    "\n",
    "    print(f\"[BoW Baseline] Validation F1 = {val_f1:.4f}\")\n",
    "\n",
    "    return vectorizer, model\n",
    "\n",
    "vec, model = train_bow_baseline(train_df, val_df, seed=42)\n",
    "\n",
    "with torch.no_grad():\n",
    "    # Predict on test set\n",
    "    X_test = test_df['paragraph'].tolist()\n",
    "    y_test = test_df['label'].values\n",
    "    X_test_vec = vec.transform(X_test)\n",
    "    test_preds = model.predict(X_test_vec)\n",
    "    test_f1 = f1_score(y_test, test_preds, average='binary')\n",
    "\n",
    "    print(f\"[BoW Baseline] Test F1 = {test_f1:.4f}\")\n"
   ],
   "id": "ab658da4be327292",
   "outputs": [
    {
     "name": "stdout",
     "output_type": "stream",
     "text": [
      "[BoW Baseline] Validation F1 = 0.5978\n",
      "[BoW Baseline] Test F1 = 0.5967\n"
     ]
    }
   ],
   "execution_count": 28
  },
  {
   "metadata": {
    "ExecuteTime": {
     "end_time": "2025-03-01T17:51:28.877642300Z",
     "start_time": "2025-03-01T16:41:56.336425Z"
    }
   },
   "cell_type": "code",
   "source": [
    "import random\n",
    "import numpy as np\n",
    "import torch\n",
    "import pandas as pd\n",
    "\n",
    "from sklearn.feature_extraction.text import TfidfVectorizer\n",
    "from sklearn.linear_model import LogisticRegression\n",
    "from sklearn.metrics import f1_score\n",
    "from sklearn.utils import shuffle\n",
    "\n",
    "###################################################\n",
    "# TF–IDF + LOGISTIC REGRESSION BASELINE\n",
    "###################################################\n",
    "def train_lr_tfidf_baseline(train_df, val_df, seed=42):\n",
    "    \"\"\"\n",
    "    Trains a simple Logistic Regression baseline with TF–IDF features.\n",
    "\n",
    "    :param train_df: A pandas DataFrame with columns ['paragraph', 'label']\n",
    "    :param val_df:   A pandas DataFrame with columns ['paragraph', 'label']\n",
    "    :param seed:     Random seed for reproducibility\n",
    "    :return: A tuple (vectorizer, model) of the trained baseline\n",
    "    \"\"\"\n",
    "\n",
    "    # Ensure reproducibility\n",
    "    set_seed(seed)\n",
    "\n",
    "    # Shuffle data (optional)\n",
    "    train_df = shuffle(train_df, random_state=seed).reset_index(drop=True)\n",
    "    val_df = shuffle(val_df, random_state=seed).reset_index(drop=True)\n",
    "\n",
    "    # Separate features and labels\n",
    "    X_train = train_df['paragraph'].tolist()\n",
    "    y_train = train_df['label'].values\n",
    "    X_val = val_df['paragraph'].tolist()\n",
    "    y_val = val_df['label'].values\n",
    "\n",
    "    # Create a TfidfVectorizer\n",
    "    vectorizer = TfidfVectorizer(\n",
    "        lowercase=True,\n",
    "        stop_words='english',   # Remove common English stopwords\n",
    "        max_features=10000      # Limit vocab size if needed\n",
    "    )\n",
    "\n",
    "    # Fit TF-IDF on training data, then transform both train and val\n",
    "    X_train_vec = vectorizer.fit_transform(X_train)\n",
    "    X_val_vec = vectorizer.transform(X_val)\n",
    "\n",
    "    # Define Logistic Regression model\n",
    "    model = LogisticRegression(\n",
    "        penalty='l2',\n",
    "        C=1.0,             # Regularization strength\n",
    "        class_weight=None, # or 'balanced' if needed for imbalanced data\n",
    "        random_state=seed,\n",
    "        max_iter=200       # Increase if you encounter convergence warnings\n",
    "    )\n",
    "\n",
    "    # Train (fit) the model\n",
    "    model.fit(X_train_vec, y_train)\n",
    "\n",
    "    # Predict on validation set\n",
    "    val_preds = model.predict(X_val_vec)\n",
    "    val_f1 = f1_score(y_val, val_preds, average='binary')\n",
    "\n",
    "    print(f\"[LR+TF–IDF Baseline] Validation F1 = {val_f1:.4f}\")\n",
    "\n",
    "    return vectorizer, model\n",
    "\n",
    "vec, model = train_lr_tfidf_baseline(train_df, val_df, seed=42)\n",
    "\n",
    "with torch.no_grad():\n",
    "    # Predict on test set\n",
    "    X_test = test_df['paragraph'].tolist()\n",
    "    y_test = test_df['label'].values\n",
    "    X_test_vec = vec.transform(X_test)\n",
    "    test_preds = model.predict(X_test_vec)\n",
    "    test_f1 = f1_score(y_test, test_preds, average='binary')\n",
    "\n",
    "    print(f\"[LR+TF–IDF Baseline] Test F1 = {test_f1:.4f}\")\n"
   ],
   "id": "23bb386ae95d0c57",
   "outputs": [
    {
     "name": "stdout",
     "output_type": "stream",
     "text": [
      "[LR+TF–IDF Baseline] Validation F1 = 0.0769\n",
      "[LR+TF–IDF Baseline] Test F1 = 0.0198\n"
     ]
    }
   ],
   "execution_count": 30
  },
  {
   "metadata": {},
   "cell_type": "code",
   "outputs": [],
   "execution_count": null,
   "source": "",
   "id": "b8e85db77e7fe391"
  },
  {
   "metadata": {},
   "cell_type": "code",
   "outputs": [],
   "execution_count": null,
   "source": "",
   "id": "42cf06c10ce4ff58"
  }
 ],
 "metadata": {
  "kernelspec": {
   "name": "python3",
   "language": "python",
   "display_name": "Python 3 (ipykernel)"
  }
 },
 "nbformat": 5,
 "nbformat_minor": 9
}
